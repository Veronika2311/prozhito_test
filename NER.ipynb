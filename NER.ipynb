{
  "nbformat": 4,
  "nbformat_minor": 0,
  "metadata": {
    "kernelspec": {
      "display_name": "Python 3",
      "language": "python",
      "name": "python3"
    },
    "language_info": {
      "codemirror_mode": {
        "name": "ipython",
        "version": 3
      },
      "file_extension": ".py",
      "mimetype": "text/x-python",
      "name": "python",
      "nbconvert_exporter": "python",
      "pygments_lexer": "ipython3",
      "version": "3.7.4"
    },
    "colab": {
      "name": "NER.ipynb",
      "provenance": [],
      "include_colab_link": true
    }
  },
  "cells": [
    {
      "cell_type": "markdown",
      "metadata": {
        "id": "view-in-github",
        "colab_type": "text"
      },
      "source": [
        "<a href=\"https://colab.research.google.com/github/Veronika2311/prozhito_test/blob/main/NER.ipynb\" target=\"_parent\"><img src=\"https://colab.research.google.com/assets/colab-badge.svg\" alt=\"Open In Colab\"/></a>"
      ]
    },
    {
      "cell_type": "markdown",
      "metadata": {
        "id": "l_welFa6AO0N"
      },
      "source": [
        "# Прожито"
      ]
    },
    {
      "cell_type": "markdown",
      "metadata": {
        "id": "dwl-ehjHAO0N"
      },
      "source": [
        "Возьмите дамп «прожито»:\n",
        "\n",
        "https://www.dropbox.com/sh/8vfjjt8107sv9r3/AADOVR795M..\n",
        "\n",
        "Выберите из него небольшой когерентный кусочек при помощи тулзы для работы с дампом (https://github.com/kilomeow/prozhito-tools)\n",
        "\n",
        "Особенно интересно выбрать кусок максимально удаленный от сегодня или с по какой-то причине непохожим на сегодняшний интернет языком\n",
        "\n",
        "Расскажите коротко, почему вы выбрали такой кусок\n",
        "\n",
        "Разметьте его каким-то готовым NER решением\n",
        "\n",
        "Предложите подход к оценке и анализу полученной разметки. Чего вы ждёте от неё, какие машина допустила ошибки, как их может показаться можным исправить. Почему современный NER допускает такие ошибки? Что вы вообще думаете об этом и смежном?\n",
        "\n",
        "Если вдруг успеете, сделайте часть такого анализа."
      ]
    },
    {
      "cell_type": "markdown",
      "metadata": {
        "id": "yq6d_EH2AO0P"
      },
      "source": [
        "## Отрывок"
      ]
    },
    {
      "cell_type": "markdown",
      "metadata": {
        "id": "rE7m1qJPAO0P"
      },
      "source": [
        "Теггеры обучаются на разных данных, но в основном \"из коробки\" их целью не является разметка именно дневниковых записей (или же кхудожественной литературы). Наташа, к примеру, обучена на корпусе новостей. Соответственно, при разметке дневников может появиться сразу несколько проблем. \n",
        "1. Язык и синтаксис другой эпохи (в Прожито, и даже в нашем отрывке есть дневники с 17го века).\n",
        "2. Нетипичные сокращения и обозначения людей и мест буквально в ннесколько букв (а также разные обозначения одного и того же человека)\n",
        "3. Вышедшие из употребления названия, имена и аббревиатуры\n",
        "\n",
        "Поэтому подобрать ровно одну запись так, чтобы в ней проявлялись все эти отличительные черты, довольно сложно. Но можно, вероятно, взять несколько небольших отрывков с интересующими нас чертами и посмротреть на то, как они будут размечены.\n",
        "\n",
        "Третья запись не является самой типичной, однако в ней лучше всего видно неоднозначности в моделях, она написана в 17 веке. Также это пример не вполне типичной записи, каковых встречается довольно много -- списки цен (которые не включены сюда потому, что с ценами не все библиотеки работают), списки музыкальных произведений, списки полков и армий, маршруты."
      ]
    },
    {
      "cell_type": "code",
      "metadata": {
        "id": "7RZvs3n7AO0R"
      },
      "source": [
        "TEXT1 = '''Позавчера я сдал все дела и снова стал работать рядовым контролером. Заходил в ЭРО. Там мне выписали командировку в Москву, Житомир и Борисполь. \n",
        "Но когда я стал разговаривать с нач-ком ОТК, он своего согласия не дал. Я его все два дня уговорить пытался. А причина этому опять та, что Кравец остался за парторга \n",
        "цеха, а я буду снова за старшего, но в другой смене. Не хочется, но ничего не сделаешь.    \n",
        "Черт с ним! Лишь бы мне только отпуск в сентябре вырвать, да на пароходе скататься. И дом суметь перед отпуском отремонтировать.'''"
      ],
      "execution_count": 2,
      "outputs": []
    },
    {
      "cell_type": "code",
      "metadata": {
        "id": "tdIzmTp8egOP"
      },
      "source": [
        "TEXT2 = '''Я купила себе шёлковый шарфик для шубы и с нетерпением ждала вечера, хотя, в то же время, боялась, что Конст. Хр. будет со мной скучать. О чём я буду с ним говорить? \n",
        "Приехав домой из техникума, я стала торопливо собираться, т. к. времени осталось мало; погладила платье, сделала маникюр, причесалась и, вдруг, звонок. \n",
        "Шура пошёл открывать – это был Аджемов, он пришёл, чтобы предупредить меня, что вместо 20-го, ему удалось достать билеты на 28-е, а на сегодняшний вечер он взял билеты на «Бедную невесту» Островского. \n",
        "Аджемов был очень мил и внимателен. \n",
        "Мы доехали до Никитской пл., затем пересели на другой трамвай, причём К. Х. хотел, т. к. времени было много, обязательно пройтись пешком. \n",
        "Мы встали у Зоопарка и, пройдя мимо пруда, на котором каталась Кити Толстого, пошли к Краснопресненской заставе.'''"
      ],
      "execution_count": 3,
      "outputs": []
    },
    {
      "cell_type": "code",
      "metadata": {
        "id": "bPU7ELCEE785"
      },
      "source": [
        "TEXT3 = '''Божиею милостью Великого Государя, Царя и Великого Князя, Василия Ивановича, всей Руси Самодержца, Владимирского, \n",
        "Московского, Новгородского, Царя Казанского, Царя Астраханского, Царя Сибирского, Государя Псковского и Великого Князя \n",
        "Смоленского, Болгарского и иных, Государя и Великого Князя Новагорода Низовской земли, Черниговского, Рязанского, \n",
        "Ростовского, Ярославского, Белозерского, Удорского, Обдорского, Кондийского и всей Северной страны Повелителя, \n",
        "Государя Северской земли, Карталинских и Грузинских Царей и Кабардинской земли, Черкасских и Горских Князей и иных \n",
        "многих государств Государя и Обладателя, Его Царского Величества от старшины и воеводы и наместника Смоленского, \n",
        "Михаила Борисовича Шеина, в Оршу, Оршанскому старосте Андрею Ивановичу Сапеге. Августа 22 дня писал ты ко мне в листе \n",
        "своем с посланными своими, с Павликом Полежоным, что Государь ваш, Король Сигизмунд, приехал в Оршу и чтобы мне уведомить \n",
        "тебя о своевольных людях Государя вашего, учинивших обиды везде на границе Смоленской. И я неоднократно прежде сего писал \n",
        "к тебе, когда у Великого Государя нашего Царя и Великого Князя, Василия Ивановича, всей Русии Самодержца, в Москве, \n",
        "были послы вашего Короля, Николай Олесницкий и Александр Гонсевский и гонцы Станислав Витовский и Князь Ян Соколинский, \n",
        "и постановили между Великим Государем вашим, Королем Сигизмундом, и между их великими Государствами союз и мир, утвердив \n",
        "его союзными грамотами и крестным целованием на том*,* чтобы в перемирное время разрыва и войны никому не начинать, а \n",
        "которые люди Государя вашего в государстве нашего Государя, с панами и ротмистрами и со множеством Польских и Литовских \n",
        "людей, опустошают вместе с Самозванцем земли Государя нашего и проливают Христианскую кровь, и всех бы тех людей, по \n",
        "общему согласию, из государств Великого Государя нашего вашему Государю, Королю Сигизмунду, вывести, и впредь, в перемирные \n",
        "годы, не пропускать никого военным обычаем из Государств вашего Государя, и обманщиков, которые изменнически называют себя \n",
        "потомками Великих Государей, не держать и никакого вспомоществования им не оказывать. И после того посольского постановления\n",
        "и утверждения, Польские и Литовские люди и доныне проливают Христианскую кровь в Государств нашего Государя и опустошают \n",
        "земли Государя нашего. А посланных твоих я отправил к тебе, не задерживая. Писано в Великого \n",
        "Государя нашего, Его Царского Величества, отчине, в городе Смоленске, 1609 года, Августа 22 дня.'''"
      ],
      "execution_count": 4,
      "outputs": []
    },
    {
      "cell_type": "markdown",
      "metadata": {
        "id": "tnUePPSjAO0R"
      },
      "source": [
        "\n"
      ]
    },
    {
      "cell_type": "markdown",
      "metadata": {
        "id": "MxivJqllAO0S"
      },
      "source": [
        "### Natasha"
      ]
    },
    {
      "cell_type": "markdown",
      "metadata": {
        "id": "VDNG_MNM1HAV"
      },
      "source": [
        "Наташа -- наверное, первое, что могло бы прийти в голову при мысли о распознавании именных сущностей для русского языка. Легче и быстрее, чем DeepPavlov, но при этом не слишком сильно должна уступать ему в точности как минимум на новостных корпусах. Стандартная трёхчастная разметка человек-место-организация, что, с одной сстороны, неплохо для стандартного определения точности, с другой -- часто у именованных сущностей более сложная структура, например, должность + имя или упоминание организации и нескольких её подразделений, которые тоже являются организациями (например, ФиКЛ ФГН НИУ ВШЭ). С третьей -- дата и время, если нам нужны и они тоже, никак не могут быть распознаны с помощью этой библиотеки.\n",
        "\n",
        "Поэтому можно предположить, что в некоторых случаях разметка может разбить одно длинное наименование на несколько или недоразметить слово из этого наименования, как это было в примерах в документации."
      ]
    },
    {
      "cell_type": "code",
      "metadata": {
        "colab": {
          "base_uri": "https://localhost:8080/"
        },
        "id": "wJLpRvKTBHpH",
        "outputId": "74c1c1ff-c5a6-46f9-a766-3bf7caac94b3"
      },
      "source": [
        "!pip install natasha"
      ],
      "execution_count": 5,
      "outputs": [
        {
          "output_type": "stream",
          "text": [
            "Collecting natasha\n",
            "\u001b[?25l  Downloading https://files.pythonhosted.org/packages/51/8e/ab0745100be276750fb6b8858c6180a1756696572295a74eb5aea77f3bbd/natasha-1.4.0-py3-none-any.whl (34.4MB)\n",
            "\u001b[K     |████████████████████████████████| 34.4MB 110kB/s \n",
            "\u001b[?25hCollecting navec>=0.9.0\n",
            "  Downloading https://files.pythonhosted.org/packages/bc/c1/771ec5565f0ce24874d7fd325b429f9caa80517a40d2e4ce5705120591f3/navec-0.10.0-py3-none-any.whl\n",
            "Collecting slovnet>=0.3.0\n",
            "\u001b[?25l  Downloading https://files.pythonhosted.org/packages/a9/3b/f1ef495be8990004959dd0510c95f688d1b07529f6a862bc56a405770b26/slovnet-0.5.0-py3-none-any.whl (49kB)\n",
            "\u001b[K     |████████████████████████████████| 51kB 5.8MB/s \n",
            "\u001b[?25hCollecting pymorphy2\n",
            "\u001b[?25l  Downloading https://files.pythonhosted.org/packages/07/57/b2ff2fae3376d4f3c697b9886b64a54b476e1a332c67eee9f88e7f1ae8c9/pymorphy2-0.9.1-py3-none-any.whl (55kB)\n",
            "\u001b[K     |████████████████████████████████| 61kB 7.2MB/s \n",
            "\u001b[?25hCollecting ipymarkup>=0.8.0\n",
            "  Downloading https://files.pythonhosted.org/packages/bf/9b/bf54c98d50735a4a7c84c71e92c5361730c878ebfe903d2c2d196ef66055/ipymarkup-0.9.0-py3-none-any.whl\n",
            "Collecting yargy>=0.14.0\n",
            "\u001b[?25l  Downloading https://files.pythonhosted.org/packages/d3/46/bc1a17200a55f4b0608f39ac64f1840fd4a52f9eeea462d9afecbf71246b/yargy-0.15.0-py3-none-any.whl (41kB)\n",
            "\u001b[K     |████████████████████████████████| 51kB 5.0MB/s \n",
            "\u001b[?25hCollecting razdel>=0.5.0\n",
            "  Downloading https://files.pythonhosted.org/packages/15/2c/664223a3924aa6e70479f7d37220b3a658765b9cfe760b4af7ffdc50d38f/razdel-0.5.0-py3-none-any.whl\n",
            "Requirement already satisfied: numpy in /usr/local/lib/python3.6/dist-packages (from navec>=0.9.0->natasha) (1.18.5)\n",
            "Collecting dawg-python>=0.7.1\n",
            "  Downloading https://files.pythonhosted.org/packages/6a/84/ff1ce2071d4c650ec85745766c0047ccc3b5036f1d03559fd46bb38b5eeb/DAWG_Python-0.7.2-py2.py3-none-any.whl\n",
            "Collecting pymorphy2-dicts-ru<3.0,>=2.4\n",
            "\u001b[?25l  Downloading https://files.pythonhosted.org/packages/3a/79/bea0021eeb7eeefde22ef9e96badf174068a2dd20264b9a378f2be1cdd9e/pymorphy2_dicts_ru-2.4.417127.4579844-py2.py3-none-any.whl (8.2MB)\n",
            "\u001b[K     |████████████████████████████████| 8.2MB 42.7MB/s \n",
            "\u001b[?25hRequirement already satisfied: docopt>=0.6 in /usr/local/lib/python3.6/dist-packages (from pymorphy2->natasha) (0.6.2)\n",
            "Collecting intervaltree>=3\n",
            "  Downloading https://files.pythonhosted.org/packages/50/fb/396d568039d21344639db96d940d40eb62befe704ef849b27949ded5c3bb/intervaltree-3.1.0.tar.gz\n",
            "Requirement already satisfied: sortedcontainers<3.0,>=2.0 in /usr/local/lib/python3.6/dist-packages (from intervaltree>=3->ipymarkup>=0.8.0->natasha) (2.2.2)\n",
            "Building wheels for collected packages: intervaltree\n",
            "  Building wheel for intervaltree (setup.py) ... \u001b[?25l\u001b[?25hdone\n",
            "  Created wheel for intervaltree: filename=intervaltree-3.1.0-py2.py3-none-any.whl size=26100 sha256=b0fd33642df66a0130834f5fef319f3386ef12622084368660b5f52c5ce9f978\n",
            "  Stored in directory: /root/.cache/pip/wheels/f3/f2/66/e9c30d3e9499e65ea2fa0d07c002e64de63bd0adaa49c445bf\n",
            "Successfully built intervaltree\n",
            "Installing collected packages: navec, razdel, slovnet, dawg-python, pymorphy2-dicts-ru, pymorphy2, intervaltree, ipymarkup, yargy, natasha\n",
            "  Found existing installation: intervaltree 2.1.0\n",
            "    Uninstalling intervaltree-2.1.0:\n",
            "      Successfully uninstalled intervaltree-2.1.0\n",
            "Successfully installed dawg-python-0.7.2 intervaltree-3.1.0 ipymarkup-0.9.0 natasha-1.4.0 navec-0.10.0 pymorphy2-0.9.1 pymorphy2-dicts-ru-2.4.417127.4579844 razdel-0.5.0 slovnet-0.5.0 yargy-0.15.0\n"
          ],
          "name": "stdout"
        }
      ]
    },
    {
      "cell_type": "code",
      "metadata": {
        "id": "NDmWTSkmAO0S"
      },
      "source": [
        "from natasha import (\n",
        "    Segmenter,\n",
        "    MorphVocab,\n",
        "    \n",
        "    NewsEmbedding,\n",
        "    NewsMorphTagger,\n",
        "    NewsSyntaxParser,\n",
        "    NewsNERTagger,\n",
        "    \n",
        "    PER,\n",
        "    NamesExtractor,\n",
        "\n",
        "    Doc\n",
        ")\n",
        "segmenter = Segmenter()\n",
        "morph_vocab = MorphVocab()\n",
        "\n",
        "emb = NewsEmbedding()\n",
        "morph_tagger = NewsMorphTagger(emb)\n",
        "syntax_parser = NewsSyntaxParser(emb)\n",
        "ner_tagger = NewsNERTagger(emb)\n",
        "\n",
        "names_extractor = NamesExtractor(morph_vocab)"
      ],
      "execution_count": 6,
      "outputs": []
    },
    {
      "cell_type": "code",
      "metadata": {
        "id": "kY9Gm9TXAO0S"
      },
      "source": [
        "def natasha_result(TEXT):\n",
        "      doc = Doc(TEXT)\n",
        "      doc.segment(segmenter)\n",
        "      doc.tag_ner(ner_tagger)\n",
        "      display(doc.spans[:5])\n",
        "      doc.ner.print()"
      ],
      "execution_count": 7,
      "outputs": []
    },
    {
      "cell_type": "code",
      "metadata": {
        "id": "-yc4xHmtBW2f"
      },
      "source": [
        ""
      ],
      "execution_count": 8,
      "outputs": []
    },
    {
      "cell_type": "markdown",
      "metadata": {
        "id": "PJSUTi4xAO0S"
      },
      "source": [
        "### PullEnti"
      ]
    },
    {
      "cell_type": "markdown",
      "metadata": {
        "id": "Nz-i-Ju4zFOj"
      },
      "source": [
        "С одной стороны, много тегов. И нужных, и не очень нужных именно для дневниковых записей. Однако если просмотреть их бегло, то понятно, что записи в дневниках попадаются самой разной структуры, и где-то могли бы встретится, к примеру, телефоны. Однако в большей степени многие теги, возможно, если бы не были лишними здесь, то по крайней мере не являлись бы наиболее необходимыми. При этом плюсом данного разметчика является то, что кроме отдельных сущностей, он определяет и отношения между ними, так, что это не просто географический объект, но у него есть тип, и к этому же объекту првязываются разные именования одного и того же объекта, что может быть преимуществом и сделать разметку более удобной. "
      ]
    },
    {
      "cell_type": "code",
      "metadata": {
        "colab": {
          "base_uri": "https://localhost:8080/"
        },
        "id": "2Putgvd0EIXv",
        "outputId": "cfd8d84c-7e56-4d1d-db62-488ea3198ff3"
      },
      "source": [
        "!pip install pullenti-wrapper\n",
        "!pip install graphviz"
      ],
      "execution_count": 9,
      "outputs": [
        {
          "output_type": "stream",
          "text": [
            "Collecting pullenti-wrapper\n",
            "  Downloading https://files.pythonhosted.org/packages/68/78/1534c27b2e9cb27d81c3730a0ea8be1e9c64510a9d9d8ffb9898f7d6d8c1/pullenti_wrapper-0.9.0-py3-none-any.whl\n",
            "Collecting pullenti==3.23\n",
            "\u001b[?25l  Downloading https://files.pythonhosted.org/packages/1b/23/68c539ab43533632ec8a9bacb7ae1f98228e37a140541b97084b406a0ef6/pullenti-3.23-py3-none-any.whl (15.3MB)\n",
            "\u001b[K     |████████████████████████████████| 15.3MB 318kB/s \n",
            "\u001b[?25hCollecting pullenti-client==0.6.0\n",
            "  Downloading https://files.pythonhosted.org/packages/5e/ab/0c026b5a7adbf9172737b14285c222351fd567b5bc5b9f120b2e57b0c826/pullenti_client-0.6.0-py2.py3-none-any.whl\n",
            "Requirement already satisfied: requests in /usr/local/lib/python3.6/dist-packages (from pullenti-client==0.6.0->pullenti-wrapper) (2.23.0)\n",
            "Requirement already satisfied: urllib3!=1.25.0,!=1.25.1,<1.26,>=1.21.1 in /usr/local/lib/python3.6/dist-packages (from requests->pullenti-client==0.6.0->pullenti-wrapper) (1.24.3)\n",
            "Requirement already satisfied: chardet<4,>=3.0.2 in /usr/local/lib/python3.6/dist-packages (from requests->pullenti-client==0.6.0->pullenti-wrapper) (3.0.4)\n",
            "Requirement already satisfied: idna<3,>=2.5 in /usr/local/lib/python3.6/dist-packages (from requests->pullenti-client==0.6.0->pullenti-wrapper) (2.10)\n",
            "Requirement already satisfied: certifi>=2017.4.17 in /usr/local/lib/python3.6/dist-packages (from requests->pullenti-client==0.6.0->pullenti-wrapper) (2020.6.20)\n",
            "Installing collected packages: pullenti, pullenti-client, pullenti-wrapper\n",
            "Successfully installed pullenti-3.23 pullenti-client-0.6.0 pullenti-wrapper-0.9.0\n",
            "Requirement already satisfied: graphviz in /usr/local/lib/python3.6/dist-packages (0.10.1)\n"
          ],
          "name": "stdout"
        }
      ]
    },
    {
      "cell_type": "code",
      "metadata": {
        "id": "prBqLB7ZAO0T"
      },
      "source": [
        "from pullenti_wrapper.processor import (\n",
        "    Processor,\n",
        "    MONEY,\n",
        "    URI,\n",
        "    PHONE,\n",
        "    DATE,\n",
        "    KEYWORD,\n",
        "    DEFINITION,\n",
        "    DENOMINATION,\n",
        "    MEASURE,\n",
        "    BANK,\n",
        "    GEO,\n",
        "    ADDRESS,\n",
        "    ORGANIZATION,\n",
        "    PERSON,\n",
        "    MAIL,\n",
        "    TRANSPORT,\n",
        "    DECREE,\n",
        "    INSTRUMENT,\n",
        "    TITLEPAGE,\n",
        "    BOOKLINK,\n",
        "    BUSINESS,\n",
        "    NAMEDENTITY,\n",
        "    WEAPON,\n",
        ")\n",
        "\n",
        "processor = Processor([PERSON, ORGANIZATION, GEO, DATE, MONEY])"
      ],
      "execution_count": 10,
      "outputs": []
    },
    {
      "cell_type": "code",
      "metadata": {
        "id": "JHaoMjdyhItu"
      },
      "source": [
        "def pullenty_result(TEXT):\n",
        "    text = TEXT\n",
        "    result = processor(text)\n",
        "    return result.graph"
      ],
      "execution_count": 36,
      "outputs": []
    },
    {
      "cell_type": "markdown",
      "metadata": {
        "id": "z5H86N5mAO0U"
      },
      "source": [
        "### Stanza"
      ]
    },
    {
      "cell_type": "markdown",
      "metadata": {
        "id": "ZmRn37TZwqLa"
      },
      "source": [
        "For packages with 4 named entity types, supported types include PER (Person), LOC (Location), ORG (Organization) and MISC (Miscellaneous).\n",
        "\n",
        "Всего четыре тега, три из них стандартны, и этого мало, если мы хотим кроме людей, мест и организаций, выделять ещё дату и время, к примеру. Однако из плюсов здесь есть выделение всего прочего в отдельную категорию. \n",
        "\n",
        "Между прочим, у stanza даже есть специальная модель под \"old russian\", но, к сожалению, именно распознавания именованных сущностей для этой модели нет. Зато есть лемматизация и POS-теги."
      ]
    },
    {
      "cell_type": "code",
      "metadata": {
        "colab": {
          "base_uri": "https://localhost:8080/"
        },
        "id": "iYAj0_G6EjdL",
        "outputId": "b19eedbb-7a69-477b-e22a-710ba104db09"
      },
      "source": [
        "!pip install stanza"
      ],
      "execution_count": 12,
      "outputs": [
        {
          "output_type": "stream",
          "text": [
            "Collecting stanza\n",
            "\u001b[?25l  Downloading https://files.pythonhosted.org/packages/e7/8b/3a9e7a8d8cb14ad6afffc3983b7a7322a3a24d94ebc978a70746fcffc085/stanza-1.1.1-py3-none-any.whl (227kB)\n",
            "\u001b[K     |████████████████████████████████| 235kB 5.7MB/s \n",
            "\u001b[?25hRequirement already satisfied: numpy in /usr/local/lib/python3.6/dist-packages (from stanza) (1.18.5)\n",
            "Requirement already satisfied: protobuf in /usr/local/lib/python3.6/dist-packages (from stanza) (3.12.4)\n",
            "Requirement already satisfied: torch>=1.3.0 in /usr/local/lib/python3.6/dist-packages (from stanza) (1.7.0+cu101)\n",
            "Requirement already satisfied: tqdm in /usr/local/lib/python3.6/dist-packages (from stanza) (4.41.1)\n",
            "Requirement already satisfied: requests in /usr/local/lib/python3.6/dist-packages (from stanza) (2.23.0)\n",
            "Requirement already satisfied: setuptools in /usr/local/lib/python3.6/dist-packages (from protobuf->stanza) (50.3.2)\n",
            "Requirement already satisfied: six>=1.9 in /usr/local/lib/python3.6/dist-packages (from protobuf->stanza) (1.15.0)\n",
            "Requirement already satisfied: future in /usr/local/lib/python3.6/dist-packages (from torch>=1.3.0->stanza) (0.16.0)\n",
            "Requirement already satisfied: dataclasses in /usr/local/lib/python3.6/dist-packages (from torch>=1.3.0->stanza) (0.7)\n",
            "Requirement already satisfied: typing-extensions in /usr/local/lib/python3.6/dist-packages (from torch>=1.3.0->stanza) (3.7.4.3)\n",
            "Requirement already satisfied: idna<3,>=2.5 in /usr/local/lib/python3.6/dist-packages (from requests->stanza) (2.10)\n",
            "Requirement already satisfied: chardet<4,>=3.0.2 in /usr/local/lib/python3.6/dist-packages (from requests->stanza) (3.0.4)\n",
            "Requirement already satisfied: certifi>=2017.4.17 in /usr/local/lib/python3.6/dist-packages (from requests->stanza) (2020.6.20)\n",
            "Requirement already satisfied: urllib3!=1.25.0,!=1.25.1,<1.26,>=1.21.1 in /usr/local/lib/python3.6/dist-packages (from requests->stanza) (1.24.3)\n",
            "Installing collected packages: stanza\n",
            "Successfully installed stanza-1.1.1\n"
          ],
          "name": "stdout"
        }
      ]
    },
    {
      "cell_type": "code",
      "metadata": {
        "colab": {
          "base_uri": "https://localhost:8080/"
        },
        "id": "AcSM1-RMAO0U",
        "outputId": "b14fe098-315d-4112-f6cf-dd244c0f85a2"
      },
      "source": [
        "import stanza\n",
        "stanza.download('ru')\n",
        "def stanza_result(text):\n",
        "  nlp = stanza.Pipeline(lang='ru', processors='tokenize,ner')\n",
        "  doc = nlp(text)\n",
        "  print(*[f'entity: {ent.text}\\ttype: {ent.type}' for sent in doc.sentences for ent in sent.ents], sep='\\n')"
      ],
      "execution_count": 13,
      "outputs": [
        {
          "output_type": "stream",
          "text": [
            "Downloading https://raw.githubusercontent.com/stanfordnlp/stanza-resources/master/resources_1.1.0.json: 122kB [00:00, 22.6MB/s]                    \n",
            "2020-11-20 03:37:28 INFO: Downloading default packages for language: ru (Russian)...\n",
            "Downloading http://nlp.stanford.edu/software/stanza/1.1.0/ru/default.zip: 100%|██████████| 591M/591M [05:37<00:00, 1.75MB/s]\n",
            "2020-11-20 03:43:15 INFO: Finished downloading models and saved to /root/stanza_resources.\n"
          ],
          "name": "stderr"
        }
      ]
    },
    {
      "cell_type": "markdown",
      "metadata": {
        "id": "zom1bcLdAO0U"
      },
      "source": [
        "### Polyglot"
      ]
    },
    {
      "cell_type": "markdown",
      "metadata": {
        "id": "NUF-rm-iixmk"
      },
      "source": [
        "Полиглот также размечает не так много категорий, если посмотреть на примеры, делает это не всегда логично. Лицензия не позволяет использование в коммерческих проектах. В целом кажется не идеальным вариантом для решения именно этой ззадачи."
      ]
    },
    {
      "cell_type": "code",
      "metadata": {
        "colab": {
          "base_uri": "https://localhost:8080/"
        },
        "id": "UW9EH47wHKME",
        "outputId": "ece23aef-6996-4c9a-9a70-b48c02fd630a"
      },
      "source": [
        "!pip3 install -U git+https://github.com/aboSamoor/polyglot.git@master\n",
        "!polyglot download embeddings2.ru ner2.ru\n",
        "from polyglot.text import Text"
      ],
      "execution_count": 14,
      "outputs": [
        {
          "output_type": "stream",
          "text": [
            "Collecting git+https://github.com/aboSamoor/polyglot.git@master\n",
            "  Cloning https://github.com/aboSamoor/polyglot.git (to revision master) to /tmp/pip-req-build-os2iuphm\n",
            "  Running command git clone -q https://github.com/aboSamoor/polyglot.git /tmp/pip-req-build-os2iuphm\n",
            "Requirement already satisfied, skipping upgrade: wheel>=0.23.0 in /usr/local/lib/python3.6/dist-packages (from polyglot==16.7.4) (0.35.1)\n",
            "Requirement already satisfied, skipping upgrade: six>=1.7.3 in /usr/local/lib/python3.6/dist-packages (from polyglot==16.7.4) (1.15.0)\n",
            "Collecting futures>=2.1.6\n",
            "  Downloading https://files.pythonhosted.org/packages/05/80/f41cca0ea1ff69bce7e7a7d76182b47bb4e1a494380a532af3e8ee70b9ec/futures-3.1.1-py3-none-any.whl\n",
            "Collecting morfessor>=2.0.2a1\n",
            "  Downloading https://files.pythonhosted.org/packages/39/e6/7afea30be2ee4d29ce9de0fa53acbb033163615f849515c0b1956ad074ee/Morfessor-2.0.6-py3-none-any.whl\n",
            "Collecting PyICU>=1.8\n",
            "\u001b[?25l  Downloading https://files.pythonhosted.org/packages/31/46/fa08c8efae2951e67681ec24319f789fc1a74e2096dd74373e34c79319de/PyICU-2.6.tar.gz (233kB)\n",
            "\u001b[K     |████████████████████████████████| 235kB 6.8MB/s \n",
            "\u001b[?25hCollecting pycld2>=0.3\n",
            "\u001b[?25l  Downloading https://files.pythonhosted.org/packages/21/d2/8b0def84a53c88d0eb27c67b05269fbd16ad68df8c78849e7b5d65e6aec3/pycld2-0.41.tar.gz (41.4MB)\n",
            "\u001b[K     |████████████████████████████████| 41.4MB 105kB/s \n",
            "\u001b[?25hRequirement already satisfied, skipping upgrade: numpy>=1.6.1 in /usr/local/lib/python3.6/dist-packages (from polyglot==16.7.4) (1.18.5)\n",
            "Building wheels for collected packages: polyglot, PyICU, pycld2\n",
            "  Building wheel for polyglot (setup.py) ... \u001b[?25l\u001b[?25hdone\n",
            "  Created wheel for polyglot: filename=polyglot-16.7.4-py2.py3-none-any.whl size=70643 sha256=b3e5250265ceb8b4309c76aa83192a7a7ce048f472dd177610709b2dc3408196\n",
            "  Stored in directory: /tmp/pip-ephem-wheel-cache-h2w8lqp_/wheels/42/d9/73/345c7ae8554299ff8b31635d64eb8455fd591385fa734cdbef\n",
            "  Building wheel for PyICU (setup.py) ... \u001b[?25l\u001b[?25hdone\n",
            "  Created wheel for PyICU: filename=PyICU-2.6-cp36-cp36m-linux_x86_64.whl size=1288359 sha256=dae074df980b071f7874a1a384c533863e3cf119457ba6268c2a0b0bfe168722\n",
            "  Stored in directory: /root/.cache/pip/wheels/31/21/2f/1c91831e8a93537ab21f6b4b935781b681104635fdb0315791\n",
            "  Building wheel for pycld2 (setup.py) ... \u001b[?25l\u001b[?25hdone\n",
            "  Created wheel for pycld2: filename=pycld2-0.41-cp36-cp36m-linux_x86_64.whl size=9833531 sha256=a3935951c779936f66960a4612205be373c8a8fd52229c30789fd0e68e4beea3\n",
            "  Stored in directory: /root/.cache/pip/wheels/c6/8f/e9/08a1a8932a490175bd140206cd86a3dbcfc70498100de11079\n",
            "Successfully built polyglot PyICU pycld2\n",
            "Installing collected packages: futures, morfessor, PyICU, pycld2, polyglot\n",
            "Successfully installed PyICU-2.6 futures-3.1.1 morfessor-2.0.6 polyglot-16.7.4 pycld2-0.41\n",
            "[polyglot_data] Downloading package embeddings2.ru to\n",
            "[polyglot_data]     /root/polyglot_data...\n",
            "[polyglot_data] Downloading package ner2.ru to /root/polyglot_data...\n"
          ],
          "name": "stdout"
        }
      ]
    },
    {
      "cell_type": "code",
      "metadata": {
        "collapsed": true,
        "id": "jhXo_ZPTAO0V"
      },
      "source": [
        "def polyglot_result(TEXT):\n",
        "    for ent in Text(TEXT).entities:\n",
        "        print(ent[0],ent.tag)"
      ],
      "execution_count": 15,
      "outputs": []
    },
    {
      "cell_type": "markdown",
      "metadata": {
        "id": "K18HY-ZaAO0V"
      },
      "source": [
        "### DeepPavlov"
      ]
    },
    {
      "cell_type": "markdown",
      "metadata": {
        "id": "OvcX6NjElWn3"
      },
      "source": [
        "Одно из известных \"тяжёлых\" решений на трансформерах, которое представляется создателями как более академическое и исследовательское, чем как коммерческое. Из плюсов также открытый исходный код. Из минусов -- очень тяжёлое всё, занимает много и памяти, и вычислительных ресурсов."
      ]
    },
    {
      "cell_type": "code",
      "metadata": {
        "colab": {
          "base_uri": "https://localhost:8080/",
          "height": 1000
        },
        "id": "3VIs-MnkHfl9",
        "outputId": "a2c448cd-44e9-4a6b-f374-d4b008535fa3"
      },
      "source": [
        "!pip3 install deeppavlov\n",
        "!python3 -m deeppavlov install ner_ontonotes\n",
        "!python -m deeppavlov install ner_ontonotes_bert"
      ],
      "execution_count": 16,
      "outputs": [
        {
          "output_type": "stream",
          "text": [
            "Collecting deeppavlov\n",
            "\u001b[?25l  Downloading https://files.pythonhosted.org/packages/28/28/cd11453408f56d8ed003c2636a452b362dda52110593abab98465a2d96fc/deeppavlov-0.13.0-py3-none-any.whl (968kB)\n",
            "\u001b[K     |████████████████████████████████| 972kB 4.2MB/s \n",
            "\u001b[?25hCollecting pyopenssl==19.1.0\n",
            "\u001b[?25l  Downloading https://files.pythonhosted.org/packages/9e/de/f8342b68fa9e981d348039954657bdf681b2ab93de27443be51865ffa310/pyOpenSSL-19.1.0-py2.py3-none-any.whl (53kB)\n",
            "\u001b[K     |████████████████████████████████| 61kB 7.0MB/s \n",
            "\u001b[?25hRequirement already satisfied: pymorphy2-dicts-ru in /usr/local/lib/python3.6/dist-packages (from deeppavlov) (2.4.417127.4579844)\n",
            "Collecting pandas==0.25.3\n",
            "\u001b[?25l  Downloading https://files.pythonhosted.org/packages/52/3f/f6a428599e0d4497e1595030965b5ba455fd8ade6e977e3c819973c4b41d/pandas-0.25.3-cp36-cp36m-manylinux1_x86_64.whl (10.4MB)\n",
            "\u001b[K     |████████████████████████████████| 10.4MB 20.1MB/s \n",
            "\u001b[?25hRequirement already satisfied: filelock==3.0.12 in /usr/local/lib/python3.6/dist-packages (from deeppavlov) (3.0.12)\n",
            "Collecting pydantic==1.3\n",
            "\u001b[?25l  Downloading https://files.pythonhosted.org/packages/99/24/e78cf017628e7eaed20cb040999b1ecc69f872da53dfd0d9aed40c0fa5f1/pydantic-1.3-cp36-cp36m-manylinux2010_x86_64.whl (7.3MB)\n",
            "\u001b[K     |████████████████████████████████| 7.3MB 9.8MB/s \n",
            "\u001b[?25hRequirement already satisfied: click==7.1.2 in /usr/local/lib/python3.6/dist-packages (from deeppavlov) (7.1.2)\n",
            "Collecting numpy==1.18.0\n",
            "\u001b[?25l  Downloading https://files.pythonhosted.org/packages/92/e6/45f71bd24f4e37629e9db5fb75caab919507deae6a5a257f9e4685a5f931/numpy-1.18.0-cp36-cp36m-manylinux1_x86_64.whl (20.1MB)\n",
            "\u001b[K     |████████████████████████████████| 20.1MB 1.4MB/s \n",
            "\u001b[?25hCollecting aio-pika==6.4.1\n",
            "\u001b[?25l  Downloading https://files.pythonhosted.org/packages/c8/07/196a4115cbef31fa0c3dabdea146f02dffe5e49998341d20dbe2278953bc/aio_pika-6.4.1-py3-none-any.whl (40kB)\n",
            "\u001b[K     |████████████████████████████████| 51kB 6.2MB/s \n",
            "\u001b[?25hRequirement already satisfied: tqdm==4.41.1 in /usr/local/lib/python3.6/dist-packages (from deeppavlov) (4.41.1)\n",
            "Collecting requests==2.22.0\n",
            "\u001b[?25l  Downloading https://files.pythonhosted.org/packages/51/bd/23c926cd341ea6b7dd0b2a00aba99ae0f828be89d72b2190f27c11d4b7fb/requests-2.22.0-py2.py3-none-any.whl (57kB)\n",
            "\u001b[K     |████████████████████████████████| 61kB 7.0MB/s \n",
            "\u001b[?25hCollecting ruamel.yaml==0.15.100\n",
            "\u001b[?25l  Downloading https://files.pythonhosted.org/packages/e7/9f/83bb34eaf84032b0b54fcc4a6aff1858572d279d65a301c7ae875f523df5/ruamel.yaml-0.15.100-cp36-cp36m-manylinux1_x86_64.whl (656kB)\n",
            "\u001b[K     |████████████████████████████████| 665kB 44.9MB/s \n",
            "\u001b[?25hCollecting rusenttokenize==0.0.5\n",
            "  Downloading https://files.pythonhosted.org/packages/25/4c/a2f00be5def774a3df2e5387145f1cb54e324607ec4a7e23f573645946e7/rusenttokenize-0.0.5-py3-none-any.whl\n",
            "Requirement already satisfied: h5py==2.10.0 in /usr/local/lib/python3.6/dist-packages (from deeppavlov) (2.10.0)\n",
            "Collecting nltk==3.4.5\n",
            "\u001b[?25l  Downloading https://files.pythonhosted.org/packages/f6/1d/d925cfb4f324ede997f6d47bea4d9babba51b49e87a767c170b77005889d/nltk-3.4.5.zip (1.5MB)\n",
            "\u001b[K     |████████████████████████████████| 1.5MB 44.9MB/s \n",
            "\u001b[?25hRequirement already satisfied: scipy==1.4.1 in /usr/local/lib/python3.6/dist-packages (from deeppavlov) (1.4.1)\n",
            "Collecting Cython==0.29.14\n",
            "\u001b[?25l  Downloading https://files.pythonhosted.org/packages/df/d1/4d3f8a7a920e805488a966cc6ab55c978a712240f584445d703c08b9f405/Cython-0.29.14-cp36-cp36m-manylinux1_x86_64.whl (2.1MB)\n",
            "\u001b[K     |████████████████████████████████| 2.1MB 45.1MB/s \n",
            "\u001b[?25hCollecting scikit-learn==0.21.2\n",
            "\u001b[?25l  Downloading https://files.pythonhosted.org/packages/85/04/49633f490f726da6e454fddc8e938bbb5bfed2001681118d3814c219b723/scikit_learn-0.21.2-cp36-cp36m-manylinux1_x86_64.whl (6.7MB)\n",
            "\u001b[K     |████████████████████████████████| 6.7MB 28.7MB/s \n",
            "\u001b[?25hCollecting fastapi==0.47.1\n",
            "\u001b[?25l  Downloading https://files.pythonhosted.org/packages/a3/a7/4804d7abf8a1544d079d50650af872387154ebdac5bd07d54b2e60e2b334/fastapi-0.47.1-py3-none-any.whl (43kB)\n",
            "\u001b[K     |████████████████████████████████| 51kB 6.2MB/s \n",
            "\u001b[?25hCollecting pytz==2019.1\n",
            "\u001b[?25l  Downloading https://files.pythonhosted.org/packages/3d/73/fe30c2daaaa0713420d0382b16fbb761409f532c56bdcc514bf7b6262bb6/pytz-2019.1-py2.py3-none-any.whl (510kB)\n",
            "\u001b[K     |████████████████████████████████| 512kB 34.9MB/s \n",
            "\u001b[?25hCollecting pymorphy2==0.8\n",
            "\u001b[?25l  Downloading https://files.pythonhosted.org/packages/a3/33/fff9675c68b5f6c63ec8c6e6ff57827dda28a1fa5b2c2d727dffff92dd47/pymorphy2-0.8-py2.py3-none-any.whl (46kB)\n",
            "\u001b[K     |████████████████████████████████| 51kB 5.1MB/s \n",
            "\u001b[?25hCollecting uvicorn==0.11.7\n",
            "\u001b[?25l  Downloading https://files.pythonhosted.org/packages/a9/5f/2bc87272f189662e129ddcd4807ad3ef83128b4df3a3482335f5f9790f24/uvicorn-0.11.7-py3-none-any.whl (43kB)\n",
            "\u001b[K     |████████████████████████████████| 51kB 6.2MB/s \n",
            "\u001b[?25hCollecting overrides==2.7.0\n",
            "  Downloading https://files.pythonhosted.org/packages/ac/98/2430afd204c48ac0a529d439d7e22df8fa603c668d03456b5947cb59ec36/overrides-2.7.0.tar.gz\n",
            "Collecting sacremoses==0.0.35\n",
            "\u001b[?25l  Downloading https://files.pythonhosted.org/packages/1f/8e/ed5364a06a9ba720fddd9820155cc57300d28f5f43a6fd7b7e817177e642/sacremoses-0.0.35.tar.gz (859kB)\n",
            "\u001b[K     |████████████████████████████████| 860kB 38.4MB/s \n",
            "\u001b[?25hCollecting prometheus-client==0.7.1\n",
            "  Downloading https://files.pythonhosted.org/packages/b3/23/41a5a24b502d35a4ad50a5bb7202a5e1d9a0364d0c12f56db3dbf7aca76d/prometheus_client-0.7.1.tar.gz\n",
            "Collecting pytelegrambotapi==3.6.7\n",
            "\u001b[?25l  Downloading https://files.pythonhosted.org/packages/62/ab/99c606f69fcda57e35788b913dd34c9d9acb48dd26349141b3855dcf6351/pyTelegramBotAPI-3.6.7.tar.gz (65kB)\n",
            "\u001b[K     |████████████████████████████████| 71kB 8.5MB/s \n",
            "\u001b[?25hCollecting cryptography>=2.8\n",
            "\u001b[?25l  Downloading https://files.pythonhosted.org/packages/4c/a2/6565c5271a79e3c96d7a079053b4d8408a740d4bf365f0f5f244a807bd09/cryptography-3.2.1-cp35-abi3-manylinux2010_x86_64.whl (2.6MB)\n",
            "\u001b[K     |████████████████████████████████| 2.6MB 37.1MB/s \n",
            "\u001b[?25hRequirement already satisfied: six>=1.5.2 in /usr/local/lib/python3.6/dist-packages (from pyopenssl==19.1.0->deeppavlov) (1.15.0)\n",
            "Requirement already satisfied: python-dateutil>=2.6.1 in /usr/local/lib/python3.6/dist-packages (from pandas==0.25.3->deeppavlov) (2.8.1)\n",
            "Requirement already satisfied: dataclasses>=0.6; python_version < \"3.7\" in /usr/local/lib/python3.6/dist-packages (from pydantic==1.3->deeppavlov) (0.7)\n",
            "Collecting yarl\n",
            "\u001b[?25l  Downloading https://files.pythonhosted.org/packages/da/08/52b26b44bce7b818b410aee37c5e424c9ea420c557bca97dc2adac29b151/yarl-1.6.3-cp36-cp36m-manylinux2014_x86_64.whl (293kB)\n",
            "\u001b[K     |████████████████████████████████| 296kB 39.6MB/s \n",
            "\u001b[?25hCollecting aiormq<4,>=3.2.0\n",
            "  Downloading https://files.pythonhosted.org/packages/0b/c4/dc5b9d50c15af2ee187974a5a0c3f20c06cce6559eea4c065d372e846b6a/aiormq-3.3.1-py3-none-any.whl\n",
            "Requirement already satisfied: urllib3!=1.25.0,!=1.25.1,<1.26,>=1.21.1 in /usr/local/lib/python3.6/dist-packages (from requests==2.22.0->deeppavlov) (1.24.3)\n",
            "Requirement already satisfied: certifi>=2017.4.17 in /usr/local/lib/python3.6/dist-packages (from requests==2.22.0->deeppavlov) (2020.6.20)\n",
            "Requirement already satisfied: chardet<3.1.0,>=3.0.2 in /usr/local/lib/python3.6/dist-packages (from requests==2.22.0->deeppavlov) (3.0.4)\n",
            "Collecting idna<2.9,>=2.5\n",
            "\u001b[?25l  Downloading https://files.pythonhosted.org/packages/14/2c/cd551d81dbe15200be1cf41cd03869a46fe7226e7450af7a6545bfc474c9/idna-2.8-py2.py3-none-any.whl (58kB)\n",
            "\u001b[K     |████████████████████████████████| 61kB 6.8MB/s \n",
            "\u001b[?25hRequirement already satisfied: joblib>=0.11 in /usr/local/lib/python3.6/dist-packages (from scikit-learn==0.21.2->deeppavlov) (0.17.0)\n",
            "Collecting starlette<=0.12.9,>=0.12.9\n",
            "\u001b[?25l  Downloading https://files.pythonhosted.org/packages/67/95/2220fe5bf287e693a6430d8ee36c681b0157035b7249ec08f8fb36319d16/starlette-0.12.9.tar.gz (46kB)\n",
            "\u001b[K     |████████████████████████████████| 51kB 5.7MB/s \n",
            "\u001b[?25hRequirement already satisfied: dawg-python>=0.7 in /usr/local/lib/python3.6/dist-packages (from pymorphy2==0.8->deeppavlov) (0.7.2)\n",
            "Requirement already satisfied: docopt>=0.6 in /usr/local/lib/python3.6/dist-packages (from pymorphy2==0.8->deeppavlov) (0.6.2)\n",
            "Collecting pymorphy2-dicts<3.0,>=2.4\n",
            "\u001b[?25l  Downloading https://files.pythonhosted.org/packages/02/51/2465fd4f72328ab50877b54777764d928da8cb15b74e2680fc1bd8cb3173/pymorphy2_dicts-2.4.393442.3710985-py2.py3-none-any.whl (7.1MB)\n",
            "\u001b[K     |████████████████████████████████| 7.1MB 24.0MB/s \n",
            "\u001b[?25hCollecting httptools==0.1.*; sys_platform != \"win32\" and sys_platform != \"cygwin\" and platform_python_implementation != \"PyPy\"\n",
            "\u001b[?25l  Downloading https://files.pythonhosted.org/packages/b1/a6/dc1e7e8f4049ab70d52c9690ec10652e268ab2542853033cc1d539594102/httptools-0.1.1-cp36-cp36m-manylinux1_x86_64.whl (216kB)\n",
            "\u001b[K     |████████████████████████████████| 225kB 47.8MB/s \n",
            "\u001b[?25hCollecting h11<0.10,>=0.8\n",
            "\u001b[?25l  Downloading https://files.pythonhosted.org/packages/5a/fd/3dad730b0f95e78aeeb742f96fa7bbecbdd56a58e405d3da440d5bfb90c6/h11-0.9.0-py2.py3-none-any.whl (53kB)\n",
            "\u001b[K     |████████████████████████████████| 61kB 7.0MB/s \n",
            "\u001b[?25hCollecting uvloop>=0.14.0; sys_platform != \"win32\" and sys_platform != \"cygwin\" and platform_python_implementation != \"PyPy\"\n",
            "\u001b[?25l  Downloading https://files.pythonhosted.org/packages/41/48/586225bbb02d3bdca475b17e4be5ce5b3f09da2d6979f359916c1592a687/uvloop-0.14.0-cp36-cp36m-manylinux2010_x86_64.whl (3.9MB)\n",
            "\u001b[K     |████████████████████████████████| 3.9MB 39.9MB/s \n",
            "\u001b[?25hCollecting websockets==8.*\n",
            "\u001b[?25l  Downloading https://files.pythonhosted.org/packages/bb/d9/856af84843912e2853b1b6e898ac8b802989fcf9ecf8e8445a1da263bf3b/websockets-8.1-cp36-cp36m-manylinux2010_x86_64.whl (78kB)\n",
            "\u001b[K     |████████████████████████████████| 81kB 6.8MB/s \n",
            "\u001b[?25hRequirement already satisfied: cffi!=1.11.3,>=1.8 in /usr/local/lib/python3.6/dist-packages (from cryptography>=2.8->pyopenssl==19.1.0->deeppavlov) (1.14.3)\n",
            "Requirement already satisfied: typing-extensions>=3.7.4; python_version < \"3.8\" in /usr/local/lib/python3.6/dist-packages (from yarl->aio-pika==6.4.1->deeppavlov) (3.7.4.3)\n",
            "Collecting multidict>=4.0\n",
            "\u001b[?25l  Downloading https://files.pythonhosted.org/packages/a5/95/f89c97db4d27b24fce7c6fb6ef05228f347e43bbf67e4737a0660c8753fd/multidict-5.0.2-cp36-cp36m-manylinux2014_x86_64.whl (141kB)\n",
            "\u001b[K     |████████████████████████████████| 143kB 45.3MB/s \n",
            "\u001b[?25hCollecting pamqp==2.3.0\n",
            "  Downloading https://files.pythonhosted.org/packages/eb/56/afa06143361e640c9159d828dadc95fc9195c52c95b4a97d136617b0166d/pamqp-2.3.0-py2.py3-none-any.whl\n",
            "Requirement already satisfied: pycparser in /usr/local/lib/python3.6/dist-packages (from cffi!=1.11.3,>=1.8->cryptography>=2.8->pyopenssl==19.1.0->deeppavlov) (2.20)\n",
            "Building wheels for collected packages: nltk, overrides, sacremoses, prometheus-client, pytelegrambotapi, starlette\n",
            "  Building wheel for nltk (setup.py) ... \u001b[?25l\u001b[?25hdone\n",
            "  Created wheel for nltk: filename=nltk-3.4.5-cp36-none-any.whl size=1449906 sha256=f5b6aab47e0a77687d432a2745df7093395fab10b701c77f080bca95753eac6f\n",
            "  Stored in directory: /root/.cache/pip/wheels/96/86/f6/68ab24c23f207c0077381a5e3904b2815136b879538a24b483\n",
            "  Building wheel for overrides (setup.py) ... \u001b[?25l\u001b[?25hdone\n",
            "  Created wheel for overrides: filename=overrides-2.7.0-cp36-none-any.whl size=5601 sha256=b166a8a2eeb4158fa116d48655b615a2912fb39e84f9d811b212a6ff7aae21f5\n",
            "  Stored in directory: /root/.cache/pip/wheels/8c/7c/ef/80508418b67d87371c5b3de49e03eb22ee7c1d19affb5099f8\n",
            "  Building wheel for sacremoses (setup.py) ... \u001b[?25l\u001b[?25hdone\n",
            "  Created wheel for sacremoses: filename=sacremoses-0.0.35-cp36-none-any.whl size=883999 sha256=3c8077b2cb22c5387aaca737cf34567847d07aab31213b6cbff5893b21d970bc\n",
            "  Stored in directory: /root/.cache/pip/wheels/63/2a/db/63e2909042c634ef551d0d9ac825b2b0b32dede4a6d87ddc94\n",
            "  Building wheel for prometheus-client (setup.py) ... \u001b[?25l\u001b[?25hdone\n",
            "  Created wheel for prometheus-client: filename=prometheus_client-0.7.1-cp36-none-any.whl size=41403 sha256=36abb48fc25c6a73b176b9fb77fe30cd11e41d74af953781d69662a987dfa8da\n",
            "  Stored in directory: /root/.cache/pip/wheels/1c/54/34/fd47cd9b308826cc4292b54449c1899a30251ef3b506bc91ea\n",
            "  Building wheel for pytelegrambotapi (setup.py) ... \u001b[?25l\u001b[?25hdone\n",
            "  Created wheel for pytelegrambotapi: filename=pyTelegramBotAPI-3.6.7-cp36-none-any.whl size=47179 sha256=6385dcf72ef196f699e3a8f5fb15c52725c90e7ff4b101a4d4c8fe2f7d3df013\n",
            "  Stored in directory: /root/.cache/pip/wheels/23/40/18/8a34153f95ef0dc19e3954898e5a5079244b76a8afdd7d0ec5\n",
            "  Building wheel for starlette (setup.py) ... \u001b[?25l\u001b[?25hdone\n",
            "  Created wheel for starlette: filename=starlette-0.12.9-cp36-none-any.whl size=57245 sha256=714058a65cd2e93e21cfa4de48de1284520d979bb9b592998d74b5cbb8e6b3dd\n",
            "  Stored in directory: /root/.cache/pip/wheels/1c/51/5b/3828d52e185cafad941c4291b6f70894d0794be28c70addae5\n",
            "Successfully built nltk overrides sacremoses prometheus-client pytelegrambotapi starlette\n",
            "\u001b[31mERROR: google-colab 1.0.0 has requirement pandas~=1.1.0; python_version >= \"3.0\", but you'll have pandas 0.25.3 which is incompatible.\u001b[0m\n",
            "\u001b[31mERROR: google-colab 1.0.0 has requirement requests~=2.23.0, but you'll have requests 2.22.0 which is incompatible.\u001b[0m\n",
            "\u001b[31mERROR: fbprophet 0.7.1 has requirement pandas>=1.0.4, but you'll have pandas 0.25.3 which is incompatible.\u001b[0m\n",
            "\u001b[31mERROR: datascience 0.10.6 has requirement folium==0.2.1, but you'll have folium 0.8.3 which is incompatible.\u001b[0m\n",
            "\u001b[31mERROR: albumentations 0.1.12 has requirement imgaug<0.2.7,>=0.2.5, but you'll have imgaug 0.2.9 which is incompatible.\u001b[0m\n",
            "Installing collected packages: cryptography, pyopenssl, pytz, numpy, pandas, pydantic, idna, multidict, yarl, pamqp, aiormq, aio-pika, requests, ruamel.yaml, rusenttokenize, nltk, Cython, scikit-learn, starlette, fastapi, pymorphy2-dicts, pymorphy2, httptools, h11, uvloop, websockets, uvicorn, overrides, sacremoses, prometheus-client, pytelegrambotapi, deeppavlov\n",
            "  Found existing installation: pytz 2018.9\n",
            "    Uninstalling pytz-2018.9:\n",
            "      Successfully uninstalled pytz-2018.9\n",
            "  Found existing installation: numpy 1.18.5\n",
            "    Uninstalling numpy-1.18.5:\n",
            "      Successfully uninstalled numpy-1.18.5\n",
            "  Found existing installation: pandas 1.1.4\n",
            "    Uninstalling pandas-1.1.4:\n",
            "      Successfully uninstalled pandas-1.1.4\n",
            "  Found existing installation: idna 2.10\n",
            "    Uninstalling idna-2.10:\n",
            "      Successfully uninstalled idna-2.10\n",
            "  Found existing installation: requests 2.23.0\n",
            "    Uninstalling requests-2.23.0:\n",
            "      Successfully uninstalled requests-2.23.0\n",
            "  Found existing installation: nltk 3.2.5\n",
            "    Uninstalling nltk-3.2.5:\n",
            "      Successfully uninstalled nltk-3.2.5\n",
            "  Found existing installation: Cython 0.29.21\n",
            "    Uninstalling Cython-0.29.21:\n",
            "      Successfully uninstalled Cython-0.29.21\n",
            "  Found existing installation: scikit-learn 0.22.2.post1\n",
            "    Uninstalling scikit-learn-0.22.2.post1:\n",
            "      Successfully uninstalled scikit-learn-0.22.2.post1\n",
            "  Found existing installation: pymorphy2 0.9.1\n",
            "    Uninstalling pymorphy2-0.9.1:\n",
            "      Successfully uninstalled pymorphy2-0.9.1\n",
            "  Found existing installation: prometheus-client 0.8.0\n",
            "    Uninstalling prometheus-client-0.8.0:\n",
            "      Successfully uninstalled prometheus-client-0.8.0\n",
            "Successfully installed Cython-0.29.14 aio-pika-6.4.1 aiormq-3.3.1 cryptography-3.2.1 deeppavlov-0.13.0 fastapi-0.47.1 h11-0.9.0 httptools-0.1.1 idna-2.8 multidict-5.0.2 nltk-3.4.5 numpy-1.18.0 overrides-2.7.0 pamqp-2.3.0 pandas-0.25.3 prometheus-client-0.7.1 pydantic-1.3 pymorphy2-0.8 pymorphy2-dicts-2.4.393442.3710985 pyopenssl-19.1.0 pytelegrambotapi-3.6.7 pytz-2019.1 requests-2.22.0 ruamel.yaml-0.15.100 rusenttokenize-0.0.5 sacremoses-0.0.35 scikit-learn-0.21.2 starlette-0.12.9 uvicorn-0.11.7 uvloop-0.14.0 websockets-8.1 yarl-1.6.3\n"
          ],
          "name": "stdout"
        },
        {
          "output_type": "display_data",
          "data": {
            "application/vnd.colab-display-data+json": {
              "pip_warning": {
                "packages": [
                  "idna",
                  "numpy",
                  "pandas",
                  "pymorphy2",
                  "pytz",
                  "requests"
                ]
              }
            }
          },
          "metadata": {
            "tags": []
          }
        },
        {
          "output_type": "stream",
          "text": [
            "2020-11-20 03:45:11.775 INFO in 'deeppavlov.core.common.file'['file'] at line 32: Interpreting 'ner_ontonotes' as '/usr/local/lib/python3.6/dist-packages/deeppavlov/configs/ner/ner_ontonotes.json'\n",
            "Collecting tensorflow==1.15.2\n",
            "\u001b[?25l  Downloading https://files.pythonhosted.org/packages/9a/d9/fd234c7bf68638423fb8e7f44af7fcfce3bcaf416b51e6d902391e47ec43/tensorflow-1.15.2-cp36-cp36m-manylinux2010_x86_64.whl (110.5MB)\n",
            "\u001b[K     |████████████████████████████████| 110.5MB 87kB/s \n",
            "\u001b[?25hRequirement already satisfied: protobuf>=3.6.1 in /usr/local/lib/python3.6/dist-packages (from tensorflow==1.15.2) (3.12.4)\n",
            "Requirement already satisfied: grpcio>=1.8.6 in /usr/local/lib/python3.6/dist-packages (from tensorflow==1.15.2) (1.33.2)\n",
            "Requirement already satisfied: numpy<2.0,>=1.16.0 in /usr/local/lib/python3.6/dist-packages (from tensorflow==1.15.2) (1.18.0)\n",
            "Requirement already satisfied: termcolor>=1.1.0 in /usr/local/lib/python3.6/dist-packages (from tensorflow==1.15.2) (1.1.0)\n",
            "Requirement already satisfied: astor>=0.6.0 in /usr/local/lib/python3.6/dist-packages (from tensorflow==1.15.2) (0.8.1)\n",
            "Collecting tensorboard<1.16.0,>=1.15.0\n",
            "\u001b[?25l  Downloading https://files.pythonhosted.org/packages/1e/e9/d3d747a97f7188f48aa5eda486907f3b345cd409f0a0850468ba867db246/tensorboard-1.15.0-py3-none-any.whl (3.8MB)\n",
            "\u001b[K     |████████████████████████████████| 3.8MB 34.6MB/s \n",
            "\u001b[?25hRequirement already satisfied: keras-preprocessing>=1.0.5 in /usr/local/lib/python3.6/dist-packages (from tensorflow==1.15.2) (1.1.2)\n",
            "Requirement already satisfied: absl-py>=0.7.0 in /usr/local/lib/python3.6/dist-packages (from tensorflow==1.15.2) (0.10.0)\n",
            "Collecting gast==0.2.2\n",
            "  Downloading https://files.pythonhosted.org/packages/4e/35/11749bf99b2d4e3cceb4d55ca22590b0d7c2c62b9de38ac4a4a7f4687421/gast-0.2.2.tar.gz\n",
            "Requirement already satisfied: google-pasta>=0.1.6 in /usr/local/lib/python3.6/dist-packages (from tensorflow==1.15.2) (0.2.0)\n",
            "Collecting tensorflow-estimator==1.15.1\n",
            "\u001b[?25l  Downloading https://files.pythonhosted.org/packages/de/62/2ee9cd74c9fa2fa450877847ba560b260f5d0fb70ee0595203082dafcc9d/tensorflow_estimator-1.15.1-py2.py3-none-any.whl (503kB)\n",
            "\u001b[K     |████████████████████████████████| 512kB 38.0MB/s \n",
            "\u001b[?25hRequirement already satisfied: wrapt>=1.11.1 in /usr/local/lib/python3.6/dist-packages (from tensorflow==1.15.2) (1.12.1)\n",
            "Requirement already satisfied: opt-einsum>=2.3.2 in /usr/local/lib/python3.6/dist-packages (from tensorflow==1.15.2) (3.3.0)\n",
            "Requirement already satisfied: wheel>=0.26; python_version >= \"3\" in /usr/local/lib/python3.6/dist-packages (from tensorflow==1.15.2) (0.35.1)\n",
            "Requirement already satisfied: six>=1.10.0 in /usr/local/lib/python3.6/dist-packages (from tensorflow==1.15.2) (1.15.0)\n",
            "Collecting keras-applications>=1.0.8\n",
            "\u001b[?25l  Downloading https://files.pythonhosted.org/packages/71/e3/19762fdfc62877ae9102edf6342d71b28fbfd9dea3d2f96a882ce099b03f/Keras_Applications-1.0.8-py3-none-any.whl (50kB)\n",
            "\u001b[K     |████████████████████████████████| 51kB 4.1MB/s \n",
            "\u001b[?25hRequirement already satisfied: setuptools in /usr/local/lib/python3.6/dist-packages (from protobuf>=3.6.1->tensorflow==1.15.2) (50.3.2)\n",
            "Requirement already satisfied: werkzeug>=0.11.15 in /usr/local/lib/python3.6/dist-packages (from tensorboard<1.16.0,>=1.15.0->tensorflow==1.15.2) (1.0.1)\n",
            "Requirement already satisfied: markdown>=2.6.8 in /usr/local/lib/python3.6/dist-packages (from tensorboard<1.16.0,>=1.15.0->tensorflow==1.15.2) (3.3.3)\n",
            "Requirement already satisfied: h5py in /usr/local/lib/python3.6/dist-packages (from keras-applications>=1.0.8->tensorflow==1.15.2) (2.10.0)\n",
            "Requirement already satisfied: importlib-metadata; python_version < \"3.8\" in /usr/local/lib/python3.6/dist-packages (from markdown>=2.6.8->tensorboard<1.16.0,>=1.15.0->tensorflow==1.15.2) (2.0.0)\n",
            "Requirement already satisfied: zipp>=0.5 in /usr/local/lib/python3.6/dist-packages (from importlib-metadata; python_version < \"3.8\"->markdown>=2.6.8->tensorboard<1.16.0,>=1.15.0->tensorflow==1.15.2) (3.4.0)\n",
            "Building wheels for collected packages: gast\n",
            "  Building wheel for gast (setup.py) ... \u001b[?25l\u001b[?25hdone\n",
            "  Created wheel for gast: filename=gast-0.2.2-cp36-none-any.whl size=7542 sha256=640135609a8951ee6b2925bb7a1814b02ec52b1732b4b8fe8cfbd04bef76ef30\n",
            "  Stored in directory: /root/.cache/pip/wheels/5c/2e/7e/a1d4d4fcebe6c381f378ce7743a3ced3699feb89bcfbdadadd\n",
            "Successfully built gast\n",
            "\u001b[31mERROR: tensorflow-probability 0.11.0 has requirement gast>=0.3.2, but you'll have gast 0.2.2 which is incompatible.\u001b[0m\n",
            "Installing collected packages: tensorboard, gast, tensorflow-estimator, keras-applications, tensorflow\n",
            "  Found existing installation: tensorboard 2.3.0\n",
            "    Uninstalling tensorboard-2.3.0:\n",
            "      Successfully uninstalled tensorboard-2.3.0\n",
            "  Found existing installation: gast 0.3.3\n",
            "    Uninstalling gast-0.3.3:\n",
            "      Successfully uninstalled gast-0.3.3\n",
            "  Found existing installation: tensorflow-estimator 2.3.0\n",
            "    Uninstalling tensorflow-estimator-2.3.0:\n",
            "      Successfully uninstalled tensorflow-estimator-2.3.0\n",
            "  Found existing installation: tensorflow 2.3.0\n",
            "    Uninstalling tensorflow-2.3.0:\n",
            "      Successfully uninstalled tensorflow-2.3.0\n",
            "Successfully installed gast-0.2.2 keras-applications-1.0.8 tensorboard-1.15.0 tensorflow-1.15.2 tensorflow-estimator-1.15.1\n",
            "Collecting gensim==3.8.1\n",
            "\u001b[?25l  Downloading https://files.pythonhosted.org/packages/d1/dd/112bd4258cee11e0baaaba064060eb156475a42362e59e3ff28e7ca2d29d/gensim-3.8.1-cp36-cp36m-manylinux1_x86_64.whl (24.2MB)\n",
            "\u001b[K     |████████████████████████████████| 24.2MB 38.4MB/s \n",
            "\u001b[?25hRequirement already satisfied: numpy>=1.11.3 in /usr/local/lib/python3.6/dist-packages (from gensim==3.8.1) (1.18.0)\n",
            "Requirement already satisfied: smart-open>=1.8.1 in /usr/local/lib/python3.6/dist-packages (from gensim==3.8.1) (3.0.0)\n",
            "Requirement already satisfied: six>=1.5.0 in /usr/local/lib/python3.6/dist-packages (from gensim==3.8.1) (1.15.0)\n",
            "Requirement already satisfied: scipy>=0.18.1 in /usr/local/lib/python3.6/dist-packages (from gensim==3.8.1) (1.4.1)\n",
            "Requirement already satisfied: requests in /usr/local/lib/python3.6/dist-packages (from smart-open>=1.8.1->gensim==3.8.1) (2.22.0)\n",
            "Requirement already satisfied: urllib3!=1.25.0,!=1.25.1,<1.26,>=1.21.1 in /usr/local/lib/python3.6/dist-packages (from requests->smart-open>=1.8.1->gensim==3.8.1) (1.24.3)\n",
            "Requirement already satisfied: chardet<3.1.0,>=3.0.2 in /usr/local/lib/python3.6/dist-packages (from requests->smart-open>=1.8.1->gensim==3.8.1) (3.0.4)\n",
            "Requirement already satisfied: certifi>=2017.4.17 in /usr/local/lib/python3.6/dist-packages (from requests->smart-open>=1.8.1->gensim==3.8.1) (2020.6.20)\n",
            "Requirement already satisfied: idna<2.9,>=2.5 in /usr/local/lib/python3.6/dist-packages (from requests->smart-open>=1.8.1->gensim==3.8.1) (2.8)\n",
            "Installing collected packages: gensim\n",
            "  Found existing installation: gensim 3.6.0\n",
            "    Uninstalling gensim-3.6.0:\n",
            "      Successfully uninstalled gensim-3.6.0\n",
            "Successfully installed gensim-3.8.1\n",
            "2020-11-20 03:46:07.495 INFO in 'deeppavlov.core.common.file'['file'] at line 32: Interpreting 'ner_ontonotes_bert' as '/usr/local/lib/python3.6/dist-packages/deeppavlov/configs/ner/ner_ontonotes_bert.json'\n",
            "Collecting git+https://github.com/deepmipt/bert.git@feat/multi_gpu\n",
            "  Cloning https://github.com/deepmipt/bert.git (to revision feat/multi_gpu) to /tmp/pip-req-build-iztun4ok\n",
            "  Running command git clone -q https://github.com/deepmipt/bert.git /tmp/pip-req-build-iztun4ok\n",
            "Building wheels for collected packages: bert-dp\n",
            "  Building wheel for bert-dp (setup.py) ... \u001b[?25l\u001b[?25hdone\n",
            "  Created wheel for bert-dp: filename=bert_dp-1.0-cp36-none-any.whl size=23581 sha256=68bb5a5f08f52a350cc2662701410bd3e91218133fd4e971b94df805fe6b1311\n",
            "  Stored in directory: /tmp/pip-ephem-wheel-cache-zuzczjex/wheels/1e/41/94/886107eaf932532594886fd8bfc9cb9d4db632e94add49d326\n",
            "Successfully built bert-dp\n",
            "Installing collected packages: bert-dp\n",
            "Successfully installed bert-dp-1.0\n",
            "Requirement already satisfied: tensorflow==1.15.2 in /usr/local/lib/python3.6/dist-packages (1.15.2)\n",
            "Requirement already satisfied: keras-applications>=1.0.8 in /usr/local/lib/python3.6/dist-packages (from tensorflow==1.15.2) (1.0.8)\n",
            "Requirement already satisfied: wrapt>=1.11.1 in /usr/local/lib/python3.6/dist-packages (from tensorflow==1.15.2) (1.12.1)\n",
            "Requirement already satisfied: tensorboard<1.16.0,>=1.15.0 in /usr/local/lib/python3.6/dist-packages (from tensorflow==1.15.2) (1.15.0)\n",
            "Requirement already satisfied: absl-py>=0.7.0 in /usr/local/lib/python3.6/dist-packages (from tensorflow==1.15.2) (0.10.0)\n",
            "Requirement already satisfied: six>=1.10.0 in /usr/local/lib/python3.6/dist-packages (from tensorflow==1.15.2) (1.15.0)\n",
            "Requirement already satisfied: opt-einsum>=2.3.2 in /usr/local/lib/python3.6/dist-packages (from tensorflow==1.15.2) (3.3.0)\n",
            "Requirement already satisfied: protobuf>=3.6.1 in /usr/local/lib/python3.6/dist-packages (from tensorflow==1.15.2) (3.12.4)\n",
            "Requirement already satisfied: termcolor>=1.1.0 in /usr/local/lib/python3.6/dist-packages (from tensorflow==1.15.2) (1.1.0)\n",
            "Requirement already satisfied: gast==0.2.2 in /usr/local/lib/python3.6/dist-packages (from tensorflow==1.15.2) (0.2.2)\n",
            "Requirement already satisfied: astor>=0.6.0 in /usr/local/lib/python3.6/dist-packages (from tensorflow==1.15.2) (0.8.1)\n",
            "Requirement already satisfied: grpcio>=1.8.6 in /usr/local/lib/python3.6/dist-packages (from tensorflow==1.15.2) (1.33.2)\n",
            "Requirement already satisfied: keras-preprocessing>=1.0.5 in /usr/local/lib/python3.6/dist-packages (from tensorflow==1.15.2) (1.1.2)\n",
            "Requirement already satisfied: wheel>=0.26; python_version >= \"3\" in /usr/local/lib/python3.6/dist-packages (from tensorflow==1.15.2) (0.35.1)\n",
            "Requirement already satisfied: numpy<2.0,>=1.16.0 in /usr/local/lib/python3.6/dist-packages (from tensorflow==1.15.2) (1.18.0)\n",
            "Requirement already satisfied: google-pasta>=0.1.6 in /usr/local/lib/python3.6/dist-packages (from tensorflow==1.15.2) (0.2.0)\n",
            "Requirement already satisfied: tensorflow-estimator==1.15.1 in /usr/local/lib/python3.6/dist-packages (from tensorflow==1.15.2) (1.15.1)\n",
            "Requirement already satisfied: h5py in /usr/local/lib/python3.6/dist-packages (from keras-applications>=1.0.8->tensorflow==1.15.2) (2.10.0)\n",
            "Requirement already satisfied: markdown>=2.6.8 in /usr/local/lib/python3.6/dist-packages (from tensorboard<1.16.0,>=1.15.0->tensorflow==1.15.2) (3.3.3)\n",
            "Requirement already satisfied: setuptools>=41.0.0 in /usr/local/lib/python3.6/dist-packages (from tensorboard<1.16.0,>=1.15.0->tensorflow==1.15.2) (50.3.2)\n",
            "Requirement already satisfied: werkzeug>=0.11.15 in /usr/local/lib/python3.6/dist-packages (from tensorboard<1.16.0,>=1.15.0->tensorflow==1.15.2) (1.0.1)\n",
            "Requirement already satisfied: importlib-metadata; python_version < \"3.8\" in /usr/local/lib/python3.6/dist-packages (from markdown>=2.6.8->tensorboard<1.16.0,>=1.15.0->tensorflow==1.15.2) (2.0.0)\n",
            "Requirement already satisfied: zipp>=0.5 in /usr/local/lib/python3.6/dist-packages (from importlib-metadata; python_version < \"3.8\"->markdown>=2.6.8->tensorboard<1.16.0,>=1.15.0->tensorflow==1.15.2) (3.4.0)\n"
          ],
          "name": "stdout"
        }
      ]
    },
    {
      "cell_type": "code",
      "metadata": {
        "colab": {
          "base_uri": "https://localhost:8080/"
        },
        "id": "os8ll8GNAO0V",
        "outputId": "eba227a0-acb6-4b45-8f3a-517d4772d033"
      },
      "source": [
        "from deeppavlov import configs, build_model\n",
        "\n",
        "ner_model = build_model(configs.ner.ner_rus_bert, download=True)"
      ],
      "execution_count": 37,
      "outputs": [
        {
          "output_type": "stream",
          "text": [
            "2020-11-20 04:11:38.532 INFO in 'deeppavlov.download'['download'] at line 138: Skipped http://files.deeppavlov.ai/deeppavlov_data/ner_rus_bert_v1.tar.gz download because of matching hashes\n",
            "2020-11-20 04:11:52.452 INFO in 'deeppavlov.download'['download'] at line 138: Skipped http://files.deeppavlov.ai/deeppavlov_data/bert/rubert_cased_L-12_H-768_A-12_v1.tar.gz download because of matching hashes\n",
            "2020-11-20 04:11:52.912 INFO in 'deeppavlov.core.data.simple_vocab'['simple_vocab'] at line 115: [loading vocabulary from /root/.deeppavlov/models/ner_rus_bert/tag.dict]\n",
            "2020-11-20 04:12:21.174 INFO in 'deeppavlov.core.models.tf_model'['tf_model'] at line 51: [loading model from /root/.deeppavlov/models/ner_rus_bert/model]\n"
          ],
          "name": "stderr"
        },
        {
          "output_type": "stream",
          "text": [
            "INFO:tensorflow:Restoring parameters from /root/.deeppavlov/models/ner_rus_bert/model\n"
          ],
          "name": "stdout"
        }
      ]
    },
    {
      "cell_type": "code",
      "metadata": {
        "id": "44u6tZh6ItYw"
      },
      "source": [
        "def deeppavlov_result(TEXT):\n",
        "    result = ner_model([TEXT])\n",
        "    for i in range(len(result[0][0])):\n",
        "        if result [1][0][i] != 'O':\n",
        "            print(result[0][0][i], result[1][0][i])"
      ],
      "execution_count": 19,
      "outputs": []
    },
    {
      "cell_type": "markdown",
      "metadata": {
        "id": "aOSYZ_SHpNEF"
      },
      "source": [
        "## TEXT1\n"
      ]
    },
    {
      "cell_type": "markdown",
      "metadata": {
        "id": "t_XUg_eY4FFz"
      },
      "source": [
        "Органицацию рапознали как место. Спорно, конечно, но кажется, вот она, проблема неиспользуемых аббревиатур. Города разметили правильно, и вторую аббревиатуру распознали как организацию, уже неплохо. Ничего не пропустили, не попытались запихнуть сокращение начальника в организацию.\n"
      ]
    },
    {
      "cell_type": "code",
      "metadata": {
        "colab": {
          "base_uri": "https://localhost:8080/",
          "height": 340
        },
        "id": "76PWX6mAojXH",
        "outputId": "8298d46e-c48f-49ad-b343-c112be0e7e92"
      },
      "source": [
        "natasha_result(TEXT1)"
      ],
      "execution_count": 20,
      "outputs": [
        {
          "output_type": "display_data",
          "data": {
            "text/plain": [
              "[DocSpan(start=79, stop=82, type='LOC', text='ЭРО', tokens=[...]),\n",
              " DocSpan(start=116, stop=122, type='LOC', text='Москву', tokens=[...]),\n",
              " DocSpan(start=124, stop=131, type='LOC', text='Житомир', tokens=[...]),\n",
              " DocSpan(start=134, stop=143, type='LOC', text='Борисполь', tokens=[...]),\n",
              " DocSpan(start=186, stop=189, type='ORG', text='ОТК', tokens=[...])]"
            ]
          },
          "metadata": {
            "tags": []
          }
        },
        {
          "output_type": "stream",
          "text": [
            "Позавчера я сдал все дела и снова стал работать рядовым контролером. \n",
            "Заходил в ЭРО. Там мне выписали командировку в Москву, Житомир и \n",
            "          LOC                                  LOC───  LOC────   \n",
            "Борисполь. \n",
            "LOC──────  \n",
            "Но когда я стал разговаривать с нач-ком ОТК, он своего согласия не \n",
            "                                        ORG                        \n",
            "дал. Я его все два дня уговорить пытался. А причина этому опять та, \n",
            "что Кравец остался за парторга \n",
            "    PER───                     \n",
            "цеха, а я буду снова за старшего, но в другой смене. Не хочется, но \n",
            "ничего не сделаешь.    \n",
            "Черт с ним! Лишь бы мне только отпуск в сентябре вырвать, да на \n",
            "пароходе скататься. И дом суметь перед отпуском отремонтировать.\n"
          ],
          "name": "stdout"
        }
      ]
    },
    {
      "cell_type": "markdown",
      "metadata": {
        "id": "SuKYbXJK33Nc"
      },
      "source": [
        "Ура! Мы ещё даже до разбора не дошли, а всё уже сломалось.  Причём, к сожалению, внутри модуля"
      ]
    },
    {
      "cell_type": "code",
      "metadata": {
        "colab": {
          "base_uri": "https://localhost:8080/",
          "height": 1000
        },
        "id": "XtP09L_ipIU3",
        "outputId": "769598eb-14f8-4234-9c9a-beb2689d8546"
      },
      "source": [
        "pullenty_result(TEXT1)"
      ],
      "execution_count": 21,
      "outputs": [
        {
          "output_type": "error",
          "ename": "ValueError",
          "evalue": "ignored",
          "traceback": [
            "\u001b[0;31m---------------------------------------------------------------------------\u001b[0m",
            "\u001b[0;31mValueError\u001b[0m                                Traceback (most recent call last)",
            "\u001b[0;32m<ipython-input-21-9169bfa40dc5>\u001b[0m in \u001b[0;36m<module>\u001b[0;34m()\u001b[0m\n\u001b[0;32m----> 1\u001b[0;31m \u001b[0mpullenty_result\u001b[0m\u001b[0;34m(\u001b[0m\u001b[0mTEXT1\u001b[0m\u001b[0;34m)\u001b[0m\u001b[0;34m\u001b[0m\u001b[0;34m\u001b[0m\u001b[0m\n\u001b[0m",
            "\u001b[0;32m<ipython-input-11-ec34dcad54d8>\u001b[0m in \u001b[0;36mpullenty_result\u001b[0;34m(TEXT)\u001b[0m\n\u001b[1;32m      1\u001b[0m \u001b[0;32mdef\u001b[0m \u001b[0mpullenty_result\u001b[0m\u001b[0;34m(\u001b[0m\u001b[0mTEXT\u001b[0m\u001b[0;34m)\u001b[0m\u001b[0;34m:\u001b[0m\u001b[0;34m\u001b[0m\u001b[0;34m\u001b[0m\u001b[0m\n\u001b[1;32m      2\u001b[0m     \u001b[0mtext\u001b[0m \u001b[0;34m=\u001b[0m \u001b[0mTEXT\u001b[0m\u001b[0;34m\u001b[0m\u001b[0;34m\u001b[0m\u001b[0m\n\u001b[0;32m----> 3\u001b[0;31m     \u001b[0mresult\u001b[0m \u001b[0;34m=\u001b[0m \u001b[0mprocessor\u001b[0m\u001b[0;34m(\u001b[0m\u001b[0mtext\u001b[0m\u001b[0;34m)\u001b[0m\u001b[0;34m\u001b[0m\u001b[0;34m\u001b[0m\u001b[0m\n\u001b[0m\u001b[1;32m      4\u001b[0m     \u001b[0mresult\u001b[0m\u001b[0;34m.\u001b[0m\u001b[0mgraph\u001b[0m\u001b[0;34m\u001b[0m\u001b[0;34m\u001b[0m\u001b[0m\n",
            "\u001b[0;32m/usr/local/lib/python3.6/dist-packages/pullenti_wrapper/processor.py\u001b[0m in \u001b[0;36m__call__\u001b[0;34m(self, text)\u001b[0m\n\u001b[1;32m    143\u001b[0m         \u001b[0mtext\u001b[0m \u001b[0;34m=\u001b[0m \u001b[0mpreprocess\u001b[0m\u001b[0;34m(\u001b[0m\u001b[0mtext\u001b[0m\u001b[0;34m)\u001b[0m\u001b[0;34m\u001b[0m\u001b[0;34m\u001b[0m\u001b[0m\n\u001b[1;32m    144\u001b[0m         \u001b[0msofa\u001b[0m \u001b[0;34m=\u001b[0m \u001b[0mSourceOfAnalysis\u001b[0m\u001b[0;34m(\u001b[0m\u001b[0mtext\u001b[0m\u001b[0;34m)\u001b[0m\u001b[0;34m\u001b[0m\u001b[0;34m\u001b[0m\u001b[0m\n\u001b[0;32m--> 145\u001b[0;31m         \u001b[0mraw\u001b[0m \u001b[0;34m=\u001b[0m \u001b[0mself\u001b[0m\u001b[0;34m.\u001b[0m\u001b[0mraw\u001b[0m\u001b[0;34m.\u001b[0m\u001b[0mprocess\u001b[0m\u001b[0;34m(\u001b[0m\u001b[0msofa\u001b[0m\u001b[0;34m)\u001b[0m\u001b[0;34m\u001b[0m\u001b[0;34m\u001b[0m\u001b[0m\n\u001b[0m\u001b[1;32m    146\u001b[0m         \u001b[0;32mreturn\u001b[0m \u001b[0mconvert_result\u001b[0m\u001b[0;34m(\u001b[0m\u001b[0mtext\u001b[0m\u001b[0;34m,\u001b[0m \u001b[0mraw\u001b[0m\u001b[0;34m)\u001b[0m\u001b[0;34m\u001b[0m\u001b[0;34m\u001b[0m\u001b[0m\n\u001b[1;32m    147\u001b[0m \u001b[0;34m\u001b[0m\u001b[0m\n",
            "\u001b[0;32m/usr/local/lib/python3.6/dist-packages/pullenti/ner/Processor.py\u001b[0m in \u001b[0;36mprocess\u001b[0;34m(self, text, ext_ontology, lang)\u001b[0m\n\u001b[1;32m    122\u001b[0m             \u001b[0mAnalysisResult\u001b[0m\u001b[0;34m:\u001b[0m \u001b[0mаналитический\u001b[0m \u001b[0mконтейнер\u001b[0m \u001b[0mс\u001b[0m \u001b[0mрезультатом\u001b[0m\u001b[0;34m\u001b[0m\u001b[0;34m\u001b[0m\u001b[0m\n\u001b[1;32m    123\u001b[0m         \"\"\"\n\u001b[0;32m--> 124\u001b[0;31m         \u001b[0;32mreturn\u001b[0m \u001b[0mself\u001b[0m\u001b[0;34m.\u001b[0m\u001b[0m_process\u001b[0m\u001b[0;34m(\u001b[0m\u001b[0mtext\u001b[0m\u001b[0;34m,\u001b[0m \u001b[0;32mFalse\u001b[0m\u001b[0;34m,\u001b[0m \u001b[0;32mFalse\u001b[0m\u001b[0;34m,\u001b[0m \u001b[0mext_ontology\u001b[0m\u001b[0;34m,\u001b[0m \u001b[0mlang\u001b[0m\u001b[0;34m)\u001b[0m\u001b[0;34m\u001b[0m\u001b[0;34m\u001b[0m\u001b[0m\n\u001b[0m\u001b[1;32m    125\u001b[0m \u001b[0;34m\u001b[0m\u001b[0m\n\u001b[1;32m    126\u001b[0m     \u001b[0;32mdef\u001b[0m \u001b[0mprocess_next\u001b[0m\u001b[0;34m(\u001b[0m\u001b[0mself\u001b[0m\u001b[0;34m,\u001b[0m \u001b[0mar\u001b[0m \u001b[0;34m:\u001b[0m \u001b[0;34m'AnalysisResult'\u001b[0m\u001b[0;34m)\u001b[0m \u001b[0;34m->\u001b[0m \u001b[0;32mNone\u001b[0m\u001b[0;34m:\u001b[0m\u001b[0;34m\u001b[0m\u001b[0;34m\u001b[0m\u001b[0m\n",
            "\u001b[0;32m/usr/local/lib/python3.6/dist-packages/pullenti/ner/Processor.py\u001b[0m in \u001b[0;36m_process\u001b[0;34m(self, text, onto_regine, no_log, ext_ontology, lang)\u001b[0m\n\u001b[1;32m    166\u001b[0m         \u001b[0msw0\u001b[0m\u001b[0;34m.\u001b[0m\u001b[0mstart\u001b[0m\u001b[0;34m(\u001b[0m\u001b[0;34m)\u001b[0m\u001b[0;34m\u001b[0m\u001b[0;34m\u001b[0m\u001b[0m\n\u001b[1;32m    167\u001b[0m         \u001b[0;32mif\u001b[0m \u001b[0;34m(\u001b[0m\u001b[0mkit\u001b[0m\u001b[0;34m.\u001b[0m\u001b[0mfirst_token\u001b[0m \u001b[0;32mis\u001b[0m \u001b[0;32mnot\u001b[0m \u001b[0;32mNone\u001b[0m\u001b[0;34m)\u001b[0m\u001b[0;34m:\u001b[0m\u001b[0;34m\u001b[0m\u001b[0;34m\u001b[0m\u001b[0m\n\u001b[0;32m--> 168\u001b[0;31m             \u001b[0mself\u001b[0m\u001b[0;34m.\u001b[0m\u001b[0m__process2\u001b[0m\u001b[0;34m(\u001b[0m\u001b[0mkit\u001b[0m\u001b[0;34m,\u001b[0m \u001b[0mar\u001b[0m\u001b[0;34m,\u001b[0m \u001b[0mno_log\u001b[0m\u001b[0;34m)\u001b[0m\u001b[0;34m\u001b[0m\u001b[0;34m\u001b[0m\u001b[0m\n\u001b[0m\u001b[1;32m    169\u001b[0m         \u001b[0;32mif\u001b[0m \u001b[0;34m(\u001b[0m\u001b[0;32mnot\u001b[0m \u001b[0monto_regine\u001b[0m\u001b[0;34m)\u001b[0m\u001b[0;34m:\u001b[0m\u001b[0;34m\u001b[0m\u001b[0;34m\u001b[0m\u001b[0m\n\u001b[1;32m    170\u001b[0m             \u001b[0mself\u001b[0m\u001b[0;34m.\u001b[0m\u001b[0m_create_res\u001b[0m\u001b[0;34m(\u001b[0m\u001b[0mkit\u001b[0m\u001b[0;34m,\u001b[0m \u001b[0mar\u001b[0m\u001b[0;34m,\u001b[0m \u001b[0mext_ontology\u001b[0m\u001b[0;34m,\u001b[0m \u001b[0mno_log\u001b[0m\u001b[0;34m)\u001b[0m\u001b[0;34m\u001b[0m\u001b[0;34m\u001b[0m\u001b[0m\n",
            "\u001b[0;32m/usr/local/lib/python3.6/dist-packages/pullenti/ner/Processor.py\u001b[0m in \u001b[0;36m__process2\u001b[0;34m(self, kit, ar, no_log)\u001b[0m\n\u001b[1;32m    226\u001b[0m             \u001b[0msw\u001b[0m\u001b[0;34m.\u001b[0m\u001b[0mreset\u001b[0m\u001b[0;34m(\u001b[0m\u001b[0;34m)\u001b[0m\u001b[0;34m\u001b[0m\u001b[0;34m\u001b[0m\u001b[0m\n\u001b[1;32m    227\u001b[0m             \u001b[0msw\u001b[0m\u001b[0;34m.\u001b[0m\u001b[0mstart\u001b[0m\u001b[0;34m(\u001b[0m\u001b[0;34m)\u001b[0m\u001b[0;34m\u001b[0m\u001b[0;34m\u001b[0m\u001b[0m\n\u001b[0;32m--> 228\u001b[0;31m             \u001b[0mc\u001b[0m\u001b[0;34m.\u001b[0m\u001b[0mprocess\u001b[0m\u001b[0;34m(\u001b[0m\u001b[0mkit\u001b[0m\u001b[0;34m)\u001b[0m\u001b[0;34m\u001b[0m\u001b[0;34m\u001b[0m\u001b[0m\n\u001b[0m\u001b[1;32m    229\u001b[0m             \u001b[0msw\u001b[0m\u001b[0;34m.\u001b[0m\u001b[0mstop\u001b[0m\u001b[0;34m(\u001b[0m\u001b[0;34m)\u001b[0m\u001b[0;34m\u001b[0m\u001b[0;34m\u001b[0m\u001b[0m\n\u001b[1;32m    230\u001b[0m             \u001b[0mdat\u001b[0m \u001b[0;34m=\u001b[0m \u001b[0mkit\u001b[0m\u001b[0;34m.\u001b[0m\u001b[0mget_analyzer_data\u001b[0m\u001b[0;34m(\u001b[0m\u001b[0mc\u001b[0m\u001b[0;34m)\u001b[0m\u001b[0;34m\u001b[0m\u001b[0;34m\u001b[0m\u001b[0m\n",
            "\u001b[0;32m/usr/local/lib/python3.6/dist-packages/pullenti/ner/date/DateAnalyzer.py\u001b[0m in \u001b[0;36mprocess\u001b[0;34m(self, kit)\u001b[0m\n\u001b[1;32m    262\u001b[0m                 \u001b[0mrt\u001b[0m \u001b[0;34m=\u001b[0m \u001b[0mrts\u001b[0m\u001b[0;34m[\u001b[0m\u001b[0mi\u001b[0m\u001b[0;34m]\u001b[0m\u001b[0;34m\u001b[0m\u001b[0;34m\u001b[0m\u001b[0m\n\u001b[1;32m    263\u001b[0m                 \u001b[0mold\u001b[0m \u001b[0;34m=\u001b[0m \u001b[0mrt\u001b[0m\u001b[0;34m.\u001b[0m\u001b[0mreferent\u001b[0m\u001b[0;34m\u001b[0m\u001b[0;34m\u001b[0m\u001b[0m\n\u001b[0;32m--> 264\u001b[0;31m                 \u001b[0mrt\u001b[0m\u001b[0;34m.\u001b[0m\u001b[0mreferent\u001b[0m \u001b[0;34m=\u001b[0m \u001b[0mad\u001b[0m\u001b[0;34m.\u001b[0m\u001b[0mregister_referent\u001b[0m\u001b[0;34m(\u001b[0m\u001b[0mrt\u001b[0m\u001b[0;34m.\u001b[0m\u001b[0mreferent\u001b[0m\u001b[0;34m)\u001b[0m\u001b[0;34m\u001b[0m\u001b[0;34m\u001b[0m\u001b[0m\n\u001b[0m\u001b[1;32m    265\u001b[0m                 \u001b[0;32mif\u001b[0m \u001b[0;34m(\u001b[0m\u001b[0mold\u001b[0m \u001b[0;34m==\u001b[0m \u001b[0mroot\u001b[0m\u001b[0;34m)\u001b[0m\u001b[0;34m:\u001b[0m\u001b[0;34m\u001b[0m\u001b[0;34m\u001b[0m\u001b[0m\n\u001b[1;32m    266\u001b[0m                     \u001b[0mroot\u001b[0m \u001b[0;34m=\u001b[0m \u001b[0mrt\u001b[0m\u001b[0;34m.\u001b[0m\u001b[0mreferent\u001b[0m\u001b[0;34m\u001b[0m\u001b[0;34m\u001b[0m\u001b[0m\n",
            "\u001b[0;32m/usr/local/lib/python3.6/dist-packages/pullenti/ner/date/DateAnalyzer.py\u001b[0m in \u001b[0;36mregister_referent\u001b[0;34m(self, referent)\u001b[0m\n\u001b[1;32m     52\u001b[0m \u001b[0;34m\u001b[0m\u001b[0m\n\u001b[1;32m     53\u001b[0m         \u001b[0;32mdef\u001b[0m \u001b[0mregister_referent\u001b[0m\u001b[0;34m(\u001b[0m\u001b[0mself\u001b[0m\u001b[0;34m,\u001b[0m \u001b[0mreferent\u001b[0m \u001b[0;34m:\u001b[0m \u001b[0;34m'Referent'\u001b[0m\u001b[0;34m)\u001b[0m \u001b[0;34m->\u001b[0m \u001b[0;34m'Referent'\u001b[0m\u001b[0;34m:\u001b[0m\u001b[0;34m\u001b[0m\u001b[0;34m\u001b[0m\u001b[0m\n\u001b[0;32m---> 54\u001b[0;31m             \u001b[0mkey\u001b[0m \u001b[0;34m=\u001b[0m \u001b[0mstr\u001b[0m\u001b[0;34m(\u001b[0m\u001b[0mreferent\u001b[0m\u001b[0;34m)\u001b[0m\u001b[0;34m\u001b[0m\u001b[0;34m\u001b[0m\u001b[0m\n\u001b[0m\u001b[1;32m     55\u001b[0m             \u001b[0mwrapdr778\u001b[0m \u001b[0;34m=\u001b[0m \u001b[0mRefOutArgWrapper\u001b[0m\u001b[0;34m(\u001b[0m\u001b[0;32mNone\u001b[0m\u001b[0;34m)\u001b[0m\u001b[0;34m\u001b[0m\u001b[0;34m\u001b[0m\u001b[0m\n\u001b[1;32m     56\u001b[0m             \u001b[0minoutres779\u001b[0m \u001b[0;34m=\u001b[0m \u001b[0mUtils\u001b[0m\u001b[0;34m.\u001b[0m\u001b[0mtryGetValue\u001b[0m\u001b[0;34m(\u001b[0m\u001b[0mself\u001b[0m\u001b[0;34m.\u001b[0m\u001b[0m__m_hash\u001b[0m\u001b[0;34m,\u001b[0m \u001b[0mkey\u001b[0m\u001b[0;34m,\u001b[0m \u001b[0mwrapdr778\u001b[0m\u001b[0;34m)\u001b[0m\u001b[0;34m\u001b[0m\u001b[0;34m\u001b[0m\u001b[0m\n",
            "\u001b[0;32m/usr/local/lib/python3.6/dist-packages/pullenti/ner/Referent.py\u001b[0m in \u001b[0;36m__str__\u001b[0;34m(self)\u001b[0m\n\u001b[1;32m     49\u001b[0m \u001b[0;34m\u001b[0m\u001b[0m\n\u001b[1;32m     50\u001b[0m     \u001b[0;32mdef\u001b[0m \u001b[0m__str__\u001b[0m\u001b[0;34m(\u001b[0m\u001b[0mself\u001b[0m\u001b[0;34m)\u001b[0m \u001b[0;34m->\u001b[0m \u001b[0mstr\u001b[0m\u001b[0;34m:\u001b[0m\u001b[0;34m\u001b[0m\u001b[0;34m\u001b[0m\u001b[0m\n\u001b[0;32m---> 51\u001b[0;31m         \u001b[0;32mreturn\u001b[0m \u001b[0mself\u001b[0m\u001b[0;34m.\u001b[0m\u001b[0mto_string\u001b[0m\u001b[0;34m(\u001b[0m\u001b[0;32mFalse\u001b[0m\u001b[0;34m,\u001b[0m \u001b[0mMorphLang\u001b[0m\u001b[0;34m.\u001b[0m\u001b[0mUNKNOWN\u001b[0m\u001b[0;34m,\u001b[0m \u001b[0;36m0\u001b[0m\u001b[0;34m)\u001b[0m\u001b[0;34m\u001b[0m\u001b[0;34m\u001b[0m\u001b[0m\n\u001b[0m\u001b[1;32m     52\u001b[0m \u001b[0;34m\u001b[0m\u001b[0m\n\u001b[1;32m     53\u001b[0m     \u001b[0;32mdef\u001b[0m \u001b[0mto_string\u001b[0m\u001b[0;34m(\u001b[0m\u001b[0mself\u001b[0m\u001b[0;34m,\u001b[0m \u001b[0mshort_variant\u001b[0m \u001b[0;34m:\u001b[0m \u001b[0mbool\u001b[0m\u001b[0;34m,\u001b[0m \u001b[0mlang\u001b[0m \u001b[0;34m:\u001b[0m \u001b[0;34m'MorphLang'\u001b[0m\u001b[0;34m=\u001b[0m\u001b[0;32mNone\u001b[0m\u001b[0;34m,\u001b[0m \u001b[0mlev\u001b[0m \u001b[0;34m:\u001b[0m \u001b[0mint\u001b[0m\u001b[0;34m=\u001b[0m\u001b[0;36m0\u001b[0m\u001b[0;34m)\u001b[0m \u001b[0;34m->\u001b[0m \u001b[0mstr\u001b[0m\u001b[0;34m:\u001b[0m\u001b[0;34m\u001b[0m\u001b[0;34m\u001b[0m\u001b[0m\n",
            "\u001b[0;32m/usr/local/lib/python3.6/dist-packages/pullenti/ner/date/DateReferent.py\u001b[0m in \u001b[0;36mto_string\u001b[0;34m(self, short_variant, lang, lev)\u001b[0m\n\u001b[1;32m    303\u001b[0m \u001b[0;34m\u001b[0m\u001b[0m\n\u001b[1;32m    304\u001b[0m     \u001b[0;32mdef\u001b[0m \u001b[0mto_string\u001b[0m\u001b[0;34m(\u001b[0m\u001b[0mself\u001b[0m\u001b[0;34m,\u001b[0m \u001b[0mshort_variant\u001b[0m \u001b[0;34m:\u001b[0m \u001b[0mbool\u001b[0m\u001b[0;34m,\u001b[0m \u001b[0mlang\u001b[0m \u001b[0;34m:\u001b[0m \u001b[0;34m'MorphLang'\u001b[0m\u001b[0;34m=\u001b[0m\u001b[0;32mNone\u001b[0m\u001b[0;34m,\u001b[0m \u001b[0mlev\u001b[0m \u001b[0;34m:\u001b[0m \u001b[0mint\u001b[0m\u001b[0;34m=\u001b[0m\u001b[0;36m0\u001b[0m\u001b[0;34m)\u001b[0m \u001b[0;34m->\u001b[0m \u001b[0mstr\u001b[0m\u001b[0;34m:\u001b[0m\u001b[0;34m\u001b[0m\u001b[0;34m\u001b[0m\u001b[0m\n\u001b[0;32m--> 305\u001b[0;31m         \u001b[0;32mreturn\u001b[0m \u001b[0mself\u001b[0m\u001b[0;34m.\u001b[0m\u001b[0m_to_string\u001b[0m\u001b[0;34m(\u001b[0m\u001b[0mshort_variant\u001b[0m\u001b[0;34m,\u001b[0m \u001b[0mlang\u001b[0m\u001b[0;34m,\u001b[0m \u001b[0mlev\u001b[0m\u001b[0;34m,\u001b[0m \u001b[0;36m0\u001b[0m\u001b[0;34m)\u001b[0m\u001b[0;34m\u001b[0m\u001b[0;34m\u001b[0m\u001b[0m\n\u001b[0m\u001b[1;32m    306\u001b[0m \u001b[0;34m\u001b[0m\u001b[0m\n\u001b[1;32m    307\u001b[0m     \u001b[0;32mdef\u001b[0m \u001b[0m_to_string\u001b[0m\u001b[0;34m(\u001b[0m\u001b[0mself\u001b[0m\u001b[0;34m,\u001b[0m \u001b[0mshort_variant\u001b[0m \u001b[0;34m:\u001b[0m \u001b[0mbool\u001b[0m\u001b[0;34m,\u001b[0m \u001b[0mlang\u001b[0m \u001b[0;34m:\u001b[0m \u001b[0;34m'MorphLang'\u001b[0m\u001b[0;34m,\u001b[0m \u001b[0mlev\u001b[0m \u001b[0;34m:\u001b[0m \u001b[0mint\u001b[0m\u001b[0;34m,\u001b[0m \u001b[0mfrom_range\u001b[0m \u001b[0;34m:\u001b[0m \u001b[0mint\u001b[0m\u001b[0;34m)\u001b[0m \u001b[0;34m->\u001b[0m \u001b[0mstr\u001b[0m\u001b[0;34m:\u001b[0m\u001b[0;34m\u001b[0m\u001b[0;34m\u001b[0m\u001b[0m\n",
            "\u001b[0;32m/usr/local/lib/python3.6/dist-packages/pullenti/ner/date/DateReferent.py\u001b[0m in \u001b[0;36m_to_string\u001b[0;34m(self, short_variant, lang, lev, from_range)\u001b[0m\n\u001b[1;32m    394\u001b[0m                 \u001b[0mprint\u001b[0m\u001b[0;34m(\u001b[0m\u001b[0;34m\"{0} {1}\"\u001b[0m\u001b[0;34m.\u001b[0m\u001b[0mformat\u001b[0m\u001b[0;34m(\u001b[0m\u001b[0mval\u001b[0m\u001b[0;34m,\u001b[0m \u001b[0mMiscHelper\u001b[0m\u001b[0;34m.\u001b[0m\u001b[0mget_text_morph_var_by_case_and_number_ex\u001b[0m\u001b[0;34m(\u001b[0m\u001b[0mword\u001b[0m\u001b[0;34m,\u001b[0m \u001b[0;32mNone\u001b[0m\u001b[0;34m,\u001b[0m \u001b[0mMorphNumber\u001b[0m\u001b[0;34m.\u001b[0m\u001b[0mUNDEFINED\u001b[0m\u001b[0;34m,\u001b[0m \u001b[0mstr\u001b[0m\u001b[0;34m(\u001b[0m\u001b[0mval\u001b[0m\u001b[0;34m)\u001b[0m\u001b[0;34m)\u001b[0m\u001b[0;34m)\u001b[0m\u001b[0;34m,\u001b[0m \u001b[0mend\u001b[0m\u001b[0;34m=\u001b[0m\u001b[0;34m\"\"\u001b[0m\u001b[0;34m,\u001b[0m \u001b[0mfile\u001b[0m\u001b[0;34m=\u001b[0m\u001b[0mres\u001b[0m\u001b[0;34m,\u001b[0m \u001b[0mflush\u001b[0m\u001b[0;34m=\u001b[0m\u001b[0;32mTrue\u001b[0m\u001b[0;34m)\u001b[0m\u001b[0;34m\u001b[0m\u001b[0;34m\u001b[0m\u001b[0m\n\u001b[1;32m    395\u001b[0m             \u001b[0;32mif\u001b[0m \u001b[0;34m(\u001b[0m\u001b[0;32mnot\u001b[0m \u001b[0mshort_variant\u001b[0m\u001b[0;34m)\u001b[0m\u001b[0;34m:\u001b[0m\u001b[0;34m\u001b[0m\u001b[0;34m\u001b[0m\u001b[0m\n\u001b[0;32m--> 396\u001b[0;31m                 \u001b[0mDateRelHelper\u001b[0m\u001b[0;34m.\u001b[0m\u001b[0mappend_to_string\u001b[0m\u001b[0;34m(\u001b[0m\u001b[0mself\u001b[0m\u001b[0;34m,\u001b[0m \u001b[0mres\u001b[0m\u001b[0;34m)\u001b[0m\u001b[0;34m\u001b[0m\u001b[0;34m\u001b[0m\u001b[0m\n\u001b[0m\u001b[1;32m    397\u001b[0m             \u001b[0;32mif\u001b[0m \u001b[0;34m(\u001b[0m\u001b[0mfrom_range\u001b[0m \u001b[0;34m==\u001b[0m \u001b[0;36m1\u001b[0m\u001b[0;34m)\u001b[0m\u001b[0;34m:\u001b[0m\u001b[0;34m\u001b[0m\u001b[0;34m\u001b[0m\u001b[0m\n\u001b[1;32m    398\u001b[0m                 \u001b[0mUtils\u001b[0m\u001b[0;34m.\u001b[0m\u001b[0minsertStringIO\u001b[0m\u001b[0;34m(\u001b[0m\u001b[0mres\u001b[0m\u001b[0;34m,\u001b[0m \u001b[0;36m0\u001b[0m\u001b[0;34m,\u001b[0m \u001b[0;34m\"{0} \"\u001b[0m\u001b[0;34m.\u001b[0m\u001b[0mformat\u001b[0m\u001b[0;34m(\u001b[0m\u001b[0;34m(\u001b[0m\u001b[0;34m\"з\"\u001b[0m \u001b[0;32mif\u001b[0m \u001b[0mlang\u001b[0m\u001b[0;34m.\u001b[0m\u001b[0mis_ua\u001b[0m \u001b[0;32melse\u001b[0m \u001b[0;34m(\u001b[0m\u001b[0;34m\"from\"\u001b[0m \u001b[0;32mif\u001b[0m \u001b[0mlang\u001b[0m\u001b[0;34m.\u001b[0m\u001b[0mis_en\u001b[0m \u001b[0;32melse\u001b[0m \u001b[0;34m\"с\"\u001b[0m\u001b[0;34m)\u001b[0m\u001b[0;34m)\u001b[0m\u001b[0;34m)\u001b[0m\u001b[0;34m)\u001b[0m\u001b[0;34m\u001b[0m\u001b[0;34m\u001b[0m\u001b[0m\n",
            "\u001b[0;32m/usr/local/lib/python3.6/dist-packages/pullenti/ner/date/internal/DateRelHelper.py\u001b[0m in \u001b[0;36mappend_to_string\u001b[0;34m(dr, res)\u001b[0m\n\u001b[1;32m    231\u001b[0m         \u001b[0mwrapdt0772\u001b[0m \u001b[0;34m=\u001b[0m \u001b[0mRefOutArgWrapper\u001b[0m\u001b[0;34m(\u001b[0m\u001b[0;32mNone\u001b[0m\u001b[0;34m)\u001b[0m\u001b[0;34m\u001b[0m\u001b[0;34m\u001b[0m\u001b[0m\n\u001b[1;32m    232\u001b[0m         \u001b[0mwrapdt1773\u001b[0m \u001b[0;34m=\u001b[0m \u001b[0mRefOutArgWrapper\u001b[0m\u001b[0;34m(\u001b[0m\u001b[0;32mNone\u001b[0m\u001b[0;34m)\u001b[0m\u001b[0;34m\u001b[0m\u001b[0;34m\u001b[0m\u001b[0m\n\u001b[0;32m--> 233\u001b[0;31m         \u001b[0minoutres774\u001b[0m \u001b[0;34m=\u001b[0m \u001b[0mDateRelHelper\u001b[0m\u001b[0;34m.\u001b[0m\u001b[0mcalculate_date_range\u001b[0m\u001b[0;34m(\u001b[0m\u001b[0mdr\u001b[0m\u001b[0;34m,\u001b[0m \u001b[0mcur\u001b[0m\u001b[0;34m,\u001b[0m \u001b[0mwrapdt0772\u001b[0m\u001b[0;34m,\u001b[0m \u001b[0mwrapdt1773\u001b[0m\u001b[0;34m,\u001b[0m \u001b[0;36m0\u001b[0m\u001b[0;34m)\u001b[0m\u001b[0;34m\u001b[0m\u001b[0;34m\u001b[0m\u001b[0m\n\u001b[0m\u001b[1;32m    234\u001b[0m         \u001b[0mdt0\u001b[0m \u001b[0;34m=\u001b[0m \u001b[0mwrapdt0772\u001b[0m\u001b[0;34m.\u001b[0m\u001b[0mvalue\u001b[0m\u001b[0;34m\u001b[0m\u001b[0;34m\u001b[0m\u001b[0m\n\u001b[1;32m    235\u001b[0m         \u001b[0mdt1\u001b[0m \u001b[0;34m=\u001b[0m \u001b[0mwrapdt1773\u001b[0m\u001b[0;34m.\u001b[0m\u001b[0mvalue\u001b[0m\u001b[0;34m\u001b[0m\u001b[0;34m\u001b[0m\u001b[0m\n",
            "\u001b[0;32m/usr/local/lib/python3.6/dist-packages/pullenti/ner/date/internal/DateRelHelper.py\u001b[0m in \u001b[0;36mcalculate_date_range\u001b[0;34m(dr, now, from0_, to, tense)\u001b[0m\n\u001b[1;32m    179\u001b[0m         \u001b[0mdet\u001b[0m \u001b[0;34m=\u001b[0m \u001b[0mDateExToken\u001b[0m\u001b[0;34m(\u001b[0m\u001b[0;32mNone\u001b[0m\u001b[0;34m,\u001b[0m \u001b[0;32mNone\u001b[0m\u001b[0;34m)\u001b[0m\u001b[0;34m\u001b[0m\u001b[0;34m\u001b[0m\u001b[0m\n\u001b[1;32m    180\u001b[0m         \u001b[0mdet\u001b[0m\u001b[0;34m.\u001b[0m\u001b[0mitems_from\u001b[0m \u001b[0;34m=\u001b[0m \u001b[0mDateRelHelper\u001b[0m\u001b[0;34m.\u001b[0m\u001b[0m__create_date_ex\u001b[0m\u001b[0;34m(\u001b[0m\u001b[0mdr\u001b[0m\u001b[0;34m)\u001b[0m\u001b[0;34m\u001b[0m\u001b[0;34m\u001b[0m\u001b[0m\n\u001b[0;32m--> 181\u001b[0;31m         \u001b[0minoutres759\u001b[0m \u001b[0;34m=\u001b[0m \u001b[0mdet\u001b[0m\u001b[0;34m.\u001b[0m\u001b[0mget_dates\u001b[0m\u001b[0;34m(\u001b[0m\u001b[0mnow\u001b[0m\u001b[0;34m,\u001b[0m \u001b[0mfrom0_\u001b[0m\u001b[0;34m,\u001b[0m \u001b[0mto\u001b[0m\u001b[0;34m,\u001b[0m \u001b[0mtense\u001b[0m\u001b[0;34m)\u001b[0m\u001b[0;34m\u001b[0m\u001b[0;34m\u001b[0m\u001b[0m\n\u001b[0m\u001b[1;32m    182\u001b[0m         \u001b[0;32mreturn\u001b[0m \u001b[0minoutres759\u001b[0m\u001b[0;34m\u001b[0m\u001b[0;34m\u001b[0m\u001b[0m\n\u001b[1;32m    183\u001b[0m \u001b[0;34m\u001b[0m\u001b[0m\n",
            "\u001b[0;32m/usr/local/lib/python3.6/dist-packages/pullenti/ner/date/internal/DateExToken.py\u001b[0m in \u001b[0;36mget_dates\u001b[0;34m(self, now, from0_, to, tense)\u001b[0m\n\u001b[1;32m    618\u001b[0m             \u001b[0;32mreturn\u001b[0m \u001b[0;32mTrue\u001b[0m\u001b[0;34m\u001b[0m\u001b[0;34m\u001b[0m\u001b[0m\n\u001b[1;32m    619\u001b[0m         \u001b[0;32mif\u001b[0m \u001b[0;34m(\u001b[0m\u001b[0mlen\u001b[0m\u001b[0;34m(\u001b[0m\u001b[0mself\u001b[0m\u001b[0;34m.\u001b[0m\u001b[0mitems_to\u001b[0m\u001b[0;34m)\u001b[0m \u001b[0;34m==\u001b[0m \u001b[0;36m0\u001b[0m\u001b[0;34m)\u001b[0m\u001b[0;34m:\u001b[0m\u001b[0;34m\u001b[0m\u001b[0;34m\u001b[0m\u001b[0m\n\u001b[0;32m--> 620\u001b[0;31m             \u001b[0mdvl\u001b[0m \u001b[0;34m=\u001b[0m \u001b[0mDateExToken\u001b[0m\u001b[0;34m.\u001b[0m\u001b[0mDateValues\u001b[0m\u001b[0;34m.\u001b[0m\u001b[0mtry_create\u001b[0m\u001b[0;34m(\u001b[0m\u001b[0mself\u001b[0m\u001b[0;34m.\u001b[0m\u001b[0mitems_from\u001b[0m\u001b[0;34m,\u001b[0m \u001b[0mnow\u001b[0m\u001b[0;34m,\u001b[0m \u001b[0mtense\u001b[0m\u001b[0;34m)\u001b[0m\u001b[0;34m\u001b[0m\u001b[0;34m\u001b[0m\u001b[0m\n\u001b[0m\u001b[1;32m    621\u001b[0m             \u001b[0;32mif\u001b[0m \u001b[0;34m(\u001b[0m\u001b[0mdvl\u001b[0m \u001b[0;32mis\u001b[0m \u001b[0;32mNone\u001b[0m\u001b[0;34m)\u001b[0m\u001b[0;34m:\u001b[0m\u001b[0;34m\u001b[0m\u001b[0;34m\u001b[0m\u001b[0m\n\u001b[1;32m    622\u001b[0m                 \u001b[0;32mreturn\u001b[0m \u001b[0;32mFalse\u001b[0m\u001b[0;34m\u001b[0m\u001b[0;34m\u001b[0m\u001b[0m\n",
            "\u001b[0;32m/usr/local/lib/python3.6/dist-packages/pullenti/ner/date/internal/DateExToken.py\u001b[0m in \u001b[0;36mtry_create\u001b[0;34m(list0_, today, tense)\u001b[0m\n\u001b[1;32m    277\u001b[0m                             \u001b[0mres\u001b[0m\u001b[0;34m.\u001b[0m\u001b[0mmonth1\u001b[0m \u001b[0;34m=\u001b[0m \u001b[0;36m12\u001b[0m\u001b[0;34m\u001b[0m\u001b[0;34m\u001b[0m\u001b[0m\n\u001b[1;32m    278\u001b[0m                             \u001b[0mres\u001b[0m\u001b[0;34m.\u001b[0m\u001b[0myear\u001b[0m \u001b[0;34m-=\u001b[0m \u001b[0;36m1\u001b[0m\u001b[0;34m\u001b[0m\u001b[0;34m\u001b[0m\u001b[0m\n\u001b[0;32m--> 279\u001b[0;31m                         \u001b[0mv\u001b[0m \u001b[0;34m+=\u001b[0m \u001b[0mUtils\u001b[0m\u001b[0;34m.\u001b[0m\u001b[0mlastDayOfMonth\u001b[0m\u001b[0;34m(\u001b[0m\u001b[0mres\u001b[0m\u001b[0;34m.\u001b[0m\u001b[0myear\u001b[0m\u001b[0;34m,\u001b[0m \u001b[0mres\u001b[0m\u001b[0;34m.\u001b[0m\u001b[0mmonth1\u001b[0m\u001b[0;34m)\u001b[0m\u001b[0;34m\u001b[0m\u001b[0;34m\u001b[0m\u001b[0m\n\u001b[0m\u001b[1;32m    280\u001b[0m                     \u001b[0mres\u001b[0m\u001b[0;34m.\u001b[0m\u001b[0mday1\u001b[0m \u001b[0;34m=\u001b[0m \u001b[0mv\u001b[0m\u001b[0;34m\u001b[0m\u001b[0;34m\u001b[0m\u001b[0m\n\u001b[1;32m    281\u001b[0m                 \u001b[0mi\u001b[0m \u001b[0;34m+=\u001b[0m \u001b[0;36m1\u001b[0m\u001b[0;34m\u001b[0m\u001b[0;34m\u001b[0m\u001b[0m\n",
            "\u001b[0;32m/usr/local/lib/python3.6/dist-packages/pullenti/unisharp/Utils.py\u001b[0m in \u001b[0;36mlastDayOfMonth\u001b[0;34m(year, month)\u001b[0m\n\u001b[1;32m    175\u001b[0m     \u001b[0;34m@\u001b[0m\u001b[0mstaticmethod\u001b[0m\u001b[0;34m\u001b[0m\u001b[0;34m\u001b[0m\u001b[0m\n\u001b[1;32m    176\u001b[0m     \u001b[0;32mdef\u001b[0m \u001b[0mlastDayOfMonth\u001b[0m\u001b[0;34m(\u001b[0m\u001b[0myear\u001b[0m\u001b[0;34m,\u001b[0m \u001b[0mmonth\u001b[0m\u001b[0;34m)\u001b[0m\u001b[0;34m:\u001b[0m\u001b[0;34m\u001b[0m\u001b[0;34m\u001b[0m\u001b[0m\n\u001b[0;32m--> 177\u001b[0;31m         \u001b[0many_day\u001b[0m \u001b[0;34m=\u001b[0m \u001b[0mdatetime\u001b[0m\u001b[0;34m.\u001b[0m\u001b[0mdate\u001b[0m\u001b[0;34m(\u001b[0m\u001b[0myear\u001b[0m\u001b[0;34m,\u001b[0m \u001b[0mmonth\u001b[0m\u001b[0;34m,\u001b[0m \u001b[0;36m1\u001b[0m\u001b[0;34m)\u001b[0m\u001b[0;34m\u001b[0m\u001b[0;34m\u001b[0m\u001b[0m\n\u001b[0m\u001b[1;32m    178\u001b[0m         \u001b[0mnext_month\u001b[0m \u001b[0;34m=\u001b[0m \u001b[0many_day\u001b[0m\u001b[0;34m.\u001b[0m\u001b[0mreplace\u001b[0m\u001b[0;34m(\u001b[0m\u001b[0mday\u001b[0m\u001b[0;34m=\u001b[0m\u001b[0;36m28\u001b[0m\u001b[0;34m)\u001b[0m \u001b[0;34m+\u001b[0m \u001b[0mdatetime\u001b[0m\u001b[0;34m.\u001b[0m\u001b[0mtimedelta\u001b[0m\u001b[0;34m(\u001b[0m\u001b[0mdays\u001b[0m\u001b[0;34m=\u001b[0m\u001b[0;36m4\u001b[0m\u001b[0;34m)\u001b[0m\u001b[0;34m\u001b[0m\u001b[0;34m\u001b[0m\u001b[0m\n\u001b[1;32m    179\u001b[0m         \u001b[0mdat\u001b[0m \u001b[0;34m=\u001b[0m \u001b[0mnext_month\u001b[0m \u001b[0;34m-\u001b[0m \u001b[0mdatetime\u001b[0m\u001b[0;34m.\u001b[0m\u001b[0mtimedelta\u001b[0m\u001b[0;34m(\u001b[0m\u001b[0mdays\u001b[0m\u001b[0;34m=\u001b[0m\u001b[0mnext_month\u001b[0m\u001b[0;34m.\u001b[0m\u001b[0mday\u001b[0m\u001b[0;34m)\u001b[0m\u001b[0;34m\u001b[0m\u001b[0;34m\u001b[0m\u001b[0m\n",
            "\u001b[0;31mValueError\u001b[0m: year 0 is out of range"
          ]
        }
      ]
    },
    {
      "cell_type": "markdown",
      "metadata": {
        "id": "rz5GhHkp4tw3"
      },
      "source": [
        "То же самое спорное место, что у Наташи. Результаты совпадают."
      ]
    },
    {
      "cell_type": "code",
      "metadata": {
        "colab": {
          "base_uri": "https://localhost:8080/"
        },
        "id": "Cmx0bn1noj6H",
        "outputId": "13e8040a-d73e-43f0-c72b-661c5829ce12"
      },
      "source": [
        "stanza_result(TEXT1)"
      ],
      "execution_count": 22,
      "outputs": [
        {
          "output_type": "stream",
          "text": [
            "2020-11-20 04:02:58 INFO: Loading these models for language: ru (Russian):\n",
            "=========================\n",
            "| Processor | Package   |\n",
            "-------------------------\n",
            "| tokenize  | syntagrus |\n",
            "| ner       | wikiner   |\n",
            "=========================\n",
            "\n",
            "2020-11-20 04:02:58 INFO: Use device: cpu\n",
            "2020-11-20 04:02:58 INFO: Loading: tokenize\n",
            "2020-11-20 04:02:58 INFO: Loading: ner\n",
            "2020-11-20 04:03:06 INFO: Done loading processors!\n"
          ],
          "name": "stderr"
        },
        {
          "output_type": "stream",
          "text": [
            "entity: ЭРО\ttype: LOC\n",
            "entity: Москву\ttype: LOC\n",
            "entity: Житомир\ttype: LOC\n",
            "entity: Борисполь\ttype: LOC\n",
            "entity: ОТК\ttype: ORG\n",
            "entity: Кравец\ttype: PER\n"
          ],
          "name": "stdout"
        }
      ]
    },
    {
      "cell_type": "markdown",
      "metadata": {
        "id": "RoV7qwiG40uQ"
      },
      "source": [
        "Ошиблись и в выделениии редкоиспользуемой формы как персонажа, и даже не заметили вторую аббревиатуру. Первую приписали к местам."
      ]
    },
    {
      "cell_type": "code",
      "metadata": {
        "colab": {
          "base_uri": "https://localhost:8080/"
        },
        "id": "ELaTRvZGpAOh",
        "outputId": "2601385a-aea4-4102-fb94-232ec882d13a"
      },
      "source": [
        "polyglot_result(TEXT1)"
      ],
      "execution_count": 23,
      "outputs": [
        {
          "output_type": "stream",
          "text": [
            "ЭРО I-LOC\n",
            "Москву I-LOC\n",
            "Житомир I-LOC\n",
            "Борисполь I-LOC\n",
            "Кравец I-PER\n",
            "скататься I-PER\n"
          ],
          "name": "stdout"
        }
      ]
    },
    {
      "cell_type": "markdown",
      "metadata": {
        "id": "__dVvpmc4184"
      },
      "source": [
        "То же, что у Наташи и stanza, только заняло всю оперативную память."
      ]
    },
    {
      "cell_type": "code",
      "metadata": {
        "colab": {
          "base_uri": "https://localhost:8080/"
        },
        "id": "3xADJeDOokQn",
        "outputId": "99e00b33-5287-4765-ba2b-41ff9e7acbe0"
      },
      "source": [
        "deeppavlov_result(TEXT1)"
      ],
      "execution_count": 24,
      "outputs": [
        {
          "output_type": "stream",
          "text": [
            "ЭРО B-LOC\n",
            "Москву B-LOC\n",
            "Житомир B-LOC\n",
            "Борисполь B-LOC\n",
            "ОТК B-ORG\n",
            "Кравец B-PER\n"
          ],
          "name": "stdout"
        }
      ]
    },
    {
      "cell_type": "markdown",
      "metadata": {
        "id": "uDCf4jp_pYIp"
      },
      "source": [
        "## TEXT2"
      ]
    },
    {
      "cell_type": "markdown",
      "metadata": {
        "id": "BRhYu-jg2jiC"
      },
      "source": [
        "1. Действительно споткнулась на нетипичном (для новостей-то особенно) сокращении 'Конст. Хр.', хотя это явно один человек. Ура, мы видим, что с дневниками не всё так просто.\n",
        "2. Островский будет персонажем, и никак мы этого не избежим ('Протестую, Достоевский бессмертен!')\n",
        "3. А вот 'Кити Толстого' один человек. Тоже минус.\n",
        "Плюсы:\n",
        "1. На просто инициалах не споткнулись.\n",
        "2. Площадь и заставу не попытались оторвать от их названий (хотя в каком-то контексте и минус), выделили Зоопарк.\n",
        "3. Не пропустили сущности."
      ]
    },
    {
      "cell_type": "code",
      "metadata": {
        "colab": {
          "base_uri": "https://localhost:8080/",
          "height": 476
        },
        "id": "rDdOghW4okHn",
        "outputId": "f96c97f6-5c95-405f-af54-2df67c3f14e4"
      },
      "source": [
        "natasha_result(TEXT2)"
      ],
      "execution_count": 25,
      "outputs": [
        {
          "output_type": "display_data",
          "data": {
            "text/plain": [
              "[DocSpan(start=103, stop=108, type='PER', text='Конст', tokens=[...]),\n",
              " DocSpan(start=320, stop=324, type='PER', text='Шура', tokens=[...]),\n",
              " DocSpan(start=351, stop=358, type='PER', text='Аджемов', tokens=[...]),\n",
              " DocSpan(start=508, stop=519, type='PER', text='Островского', tokens=[...]),\n",
              " DocSpan(start=522, stop=529, type='PER', text='Аджемов', tokens=[...])]"
            ]
          },
          "metadata": {
            "tags": []
          }
        },
        {
          "output_type": "stream",
          "text": [
            "Я купила себе шёлковый шарфик для шубы и с нетерпением ждала вечера, \n",
            "хотя, в то же время, боялась, что Конст. Хр. будет со мной скучать. О \n",
            "                                  PER──                               \n",
            "чём я буду с ним говорить? \n",
            "Приехав домой из техникума, я стала торопливо собираться, т. к. \n",
            "времени осталось мало; погладила платье, сделала маникюр, причесалась \n",
            "и, вдруг, звонок. \n",
            "Шура пошёл открывать – это был Аджемов, он пришёл, чтобы предупредить \n",
            "PER─                           PER────                                \n",
            "меня, что вместо 20-го, ему удалось достать билеты на 28-е, а на \n",
            "сегодняшний вечер он взял билеты на «Бедную невесту» Островского. \n",
            "                                                     PER────────  \n",
            "Аджемов был очень мил и внимателен. \n",
            "PER────                             \n",
            "Мы доехали до Никитской пл., затем пересели на другой трамвай, причём \n",
            "              LOC─────────                                            \n",
            "К. Х. хотел, т. к. времени было много, обязательно пройтись пешком. \n",
            "PER──                                                               \n",
            "Мы встали у Зоопарка и, пройдя мимо пруда, на котором каталась Кити \n",
            "            LOC─────                                           PER──\n",
            "Толстого, пошли к Краснопресненской заставе.\n",
            "────────          LOC────────────────────── \n"
          ],
          "name": "stdout"
        }
      ]
    },
    {
      "cell_type": "markdown",
      "metadata": {
        "id": "fnK3WZbZ5Z8h"
      },
      "source": [
        "Ну что ж... Мы проигнорировали приблизительно всё и приблизительно всех, кроме Кити и Толстого, склеенных в одного человека. Очень грустно."
      ]
    },
    {
      "cell_type": "code",
      "metadata": {
        "colab": {
          "base_uri": "https://localhost:8080/",
          "height": 198
        },
        "id": "n27BrZpNoj0C",
        "outputId": "a1e9f7c8-a0fb-496f-8fc7-bd6dc2b18c31"
      },
      "source": [
        "pullenty_result(TEXT2)"
      ],
      "execution_count": 38,
      "outputs": [
        {
          "output_type": "execute_result",
          "data": {
            "text/plain": [
              "Graph(...)"
            ],
            "image/svg+xml": "<?xml version=\"1.0\" encoding=\"UTF-8\" standalone=\"no\"?>\n<!DOCTYPE svg PUBLIC \"-//W3C//DTD SVG 1.1//EN\"\n \"http://www.w3.org/Graphics/SVG/1.1/DTD/svg11.dtd\">\n<!-- Generated by graphviz version 2.40.1 (20161225.0304)\n -->\n<!-- Title: G Pages: 1 -->\n<svg width=\"162pt\" height=\"133pt\"\n viewBox=\"0.00 0.00 161.78 132.87\" xmlns=\"http://www.w3.org/2000/svg\" xmlns:xlink=\"http://www.w3.org/1999/xlink\">\n<g id=\"graph0\" class=\"graph\" transform=\"scale(1 1) rotate(0) translate(4 128.8725)\">\n<title>G</title>\n<polygon fill=\"#ffffff\" stroke=\"transparent\" points=\"-4,4 -4,-128.8725 157.7771,-128.8725 157.7771,4 -4,4\"/>\n<!-- 0 -->\n<g id=\"node1\" class=\"node\">\n<title>0</title>\n<polygon fill=\"#aec7e8\" stroke=\"transparent\" points=\"92.7771,-76.6484 39.7771,-76.6484 39.7771,-57.6484 92.7771,-57.6484 92.7771,-76.6484\"/>\n<text text-anchor=\"middle\" x=\"66.2771\" y=\"-64.6484\" font-family=\"sans\" font-size=\"10.00\" fill=\"#000000\">PERSON</text>\n</g>\n<!-- 1 -->\n<g id=\"node2\" class=\"node\">\n<title>1</title>\n<polygon fill=\"#eeeeee\" stroke=\"transparent\" points=\"153.7771,-86.1162 100.7771,-86.1162 100.7771,-67.1162 153.7771,-67.1162 153.7771,-86.1162\"/>\n<text text-anchor=\"middle\" x=\"127.2771\" y=\"-74.1162\" font-family=\"sans\" font-size=\"10.00\" fill=\"#000000\">FEMALE</text>\n</g>\n<!-- 0&#45;&gt;1 -->\n<g id=\"edge1\" class=\"edge\">\n<title>0&#45;&gt;1</title>\n<path fill=\"none\" stroke=\"#c0c0c0\" d=\"M92.8552,-71.2736C94.3,-71.4978 95.7567,-71.7239 97.212,-71.9498\"/>\n<polygon fill=\"#c0c0c0\" stroke=\"#c0c0c0\" points=\"97.4737,-73.0529 100.5993,-72.4755 97.7959,-70.9778 97.4737,-73.0529\"/>\n<text text-anchor=\"middle\" x=\"103.0336\" y=\"-65.2117\" font-family=\"sans\" font-size=\"8.00\" fill=\"#c0c0c0\">SEX</text>\n</g>\n<!-- 2 -->\n<g id=\"node3\" class=\"node\">\n<title>2</title>\n<polygon fill=\"#eeeeee\" stroke=\"transparent\" points=\"73.7694,-19 14.7694,-19 14.7694,0 73.7694,0 73.7694,-19\"/>\n<text text-anchor=\"middle\" x=\"44.2694\" y=\"-7\" font-family=\"sans\" font-size=\"10.00\" fill=\"#000000\">ТОЛСТОЙ</text>\n</g>\n<!-- 0&#45;&gt;2 -->\n<g id=\"edge2\" class=\"edge\">\n<title>0&#45;&gt;2</title>\n<path fill=\"none\" stroke=\"#c0c0c0\" d=\"M62.643,-57.629C58.9381,-47.924 53.1703,-32.8155 49.0866,-22.1183\"/>\n<polygon fill=\"#c0c0c0\" stroke=\"#c0c0c0\" points=\"50.0335,-21.6545 47.9825,-19.2263 48.0716,-22.4035 50.0335,-21.6545\"/>\n<text text-anchor=\"middle\" x=\"34.3648\" y=\"-42.4736\" font-family=\"sans\" font-size=\"8.00\" fill=\"#c0c0c0\">LASTNAME</text>\n</g>\n<!-- 3 -->\n<g id=\"node4\" class=\"node\">\n<title>3</title>\n<polygon fill=\"#eeeeee\" stroke=\"transparent\" points=\"48.2855,-124.8725 7.2855,-124.8725 7.2855,-105.8725 48.2855,-105.8725 48.2855,-124.8725\"/>\n<text text-anchor=\"middle\" x=\"27.7855\" y=\"-112.8725\" font-family=\"sans\" font-size=\"10.00\" fill=\"#000000\">КИТИ</text>\n</g>\n<!-- 0&#45;&gt;3 -->\n<g id=\"edge3\" class=\"edge\">\n<title>0&#45;&gt;3</title>\n<path fill=\"none\" stroke=\"#c0c0c0\" d=\"M58.4878,-76.9073C52.4358,-84.4896 44.0073,-95.0491 37.5122,-103.1865\"/>\n<polygon fill=\"#c0c0c0\" stroke=\"#c0c0c0\" points=\"36.6142,-102.6284 35.5633,-105.6281 38.2555,-103.9384 36.6142,-102.6284\"/>\n<text text-anchor=\"middle\" x=\"24\" y=\"-92.6469\" font-family=\"sans\" font-size=\"8.00\" fill=\"#c0c0c0\">FIRSTNAME</text>\n</g>\n</g>\n</svg>\n"
          },
          "metadata": {
            "tags": []
          },
          "execution_count": 38
        }
      ]
    },
    {
      "cell_type": "markdown",
      "metadata": {
        "id": "bl3rxj3A6Wln"
      },
      "source": [
        "Относительно достойно, \"Хр.\" разметили как разное и пропустили Шуру. Зато нашли \"Бедную невесту\"! Названия произведений тоже было бы хорошо видеть. Кити и Толстой снова неразлучны."
      ]
    },
    {
      "cell_type": "code",
      "metadata": {
        "colab": {
          "base_uri": "https://localhost:8080/"
        },
        "id": "DyPFMxQ-ojsr",
        "outputId": "24141e2f-ffb8-443a-b877-0e0ce4e0d3ce"
      },
      "source": [
        "stanza_result(TEXT2)"
      ],
      "execution_count": 27,
      "outputs": [
        {
          "output_type": "stream",
          "text": [
            "2020-11-20 04:03:16 INFO: Loading these models for language: ru (Russian):\n",
            "=========================\n",
            "| Processor | Package   |\n",
            "-------------------------\n",
            "| tokenize  | syntagrus |\n",
            "| ner       | wikiner   |\n",
            "=========================\n",
            "\n",
            "2020-11-20 04:03:16 INFO: Use device: cpu\n",
            "2020-11-20 04:03:16 INFO: Loading: tokenize\n",
            "2020-11-20 04:03:16 INFO: Loading: ner\n",
            "2020-11-20 04:03:17 INFO: Done loading processors!\n"
          ],
          "name": "stderr"
        },
        {
          "output_type": "stream",
          "text": [
            "entity: Конст\ttype: PER\n",
            "entity: Хр.\ttype: MISC\n",
            "entity: Аджемов\ttype: PER\n",
            "entity: Бедную невесту\ttype: MISC\n",
            "entity: Островского\ttype: PER\n",
            "entity: Аджемов\ttype: PER\n",
            "entity: Никитской пл.\ttype: LOC\n",
            "entity: К. Х.\ttype: PER\n",
            "entity: Зоопарка\ttype: LOC\n",
            "entity: Кити Толстого\ttype: PER\n",
            "entity: Краснопресненской заставе\ttype: LOC\n"
          ],
          "name": "stdout"
        }
      ]
    },
    {
      "cell_type": "markdown",
      "metadata": {
        "id": "aP_bPBQc67k9"
      },
      "source": [
        "Всё очень-очень плохо без дополнительного обучения и танцев с бубном. Две лишних формы, много пропусков. зато Кити накогнец отделили. Сложное именование \"Конст. Хр.\", конечно, потеряно"
      ]
    },
    {
      "cell_type": "code",
      "metadata": {
        "colab": {
          "base_uri": "https://localhost:8080/"
        },
        "id": "ANO81bUqpgJ4",
        "outputId": "058b8490-83fe-4a70-dc94-b1514a890317"
      },
      "source": [
        "polyglot_result(TEXT2)"
      ],
      "execution_count": 28,
      "outputs": [
        {
          "output_type": "stream",
          "text": [
            "причесалась I-LOC\n",
            "Шура I-PER\n",
            "Островского I-PER\n",
            "Аджемов I-PER\n",
            "внимателен I-PER\n",
            "К I-PER\n",
            "Кити I-PER\n"
          ],
          "name": "stdout"
        }
      ]
    },
    {
      "cell_type": "markdown",
      "metadata": {
        "id": "7RzcC-xx7OdD"
      },
      "source": [
        "Аналогично Наташе, но снова оперативная память"
      ]
    },
    {
      "cell_type": "code",
      "metadata": {
        "colab": {
          "base_uri": "https://localhost:8080/"
        },
        "id": "WKUqHYhUpipf",
        "outputId": "ce30a740-2919-443a-f168-cffb5d20b207"
      },
      "source": [
        "deeppavlov_result(TEXT2)"
      ],
      "execution_count": 29,
      "outputs": [
        {
          "output_type": "stream",
          "text": [
            "Конст B-PER\n",
            ". I-PER\n",
            "Хр I-PER\n",
            ". I-PER\n",
            "Шура B-PER\n",
            "Аджемов B-PER\n",
            "Островского B-PER\n",
            "Аджемов B-PER\n",
            "Никитской B-LOC\n",
            "пл I-LOC\n",
            "К B-PER\n",
            ". I-PER\n",
            "Х I-PER\n",
            ". I-PER\n",
            "Зоопарка B-ORG\n",
            "Кити B-PER\n",
            "Толстого I-PER\n",
            "Краснопресненской B-LOC\n",
            "заставе I-LOC\n"
          ],
          "name": "stdout"
        }
      ]
    },
    {
      "cell_type": "markdown",
      "metadata": {
        "id": "mJxCpTdKp-jF"
      },
      "source": [
        "## TEXT3"
      ]
    },
    {
      "cell_type": "markdown",
      "metadata": {
        "id": "jzQ_rPHW7fvt"
      },
      "source": [
        "Оооо... Кажется, здесь и человек вполне может запутаться. В идеале до предлога \"от\" всё идёт один человек. Заодно здесь видно, как однотипные вроде бы вещи размечаются и как организация, и как место, а некоторые вообще не попали в сущности. \"Земли Государя нашего\" -- место, но без земель. Союз тоже место, но это объяснимо существованием его в поле слов, обозначающих страны. В целом разметка очень неравномерная, и вряд ои какой-то из теггеров справился лучше, случай-то сложный и в теории, и для обработки."
      ]
    },
    {
      "cell_type": "code",
      "metadata": {
        "colab": {
          "base_uri": "https://localhost:8080/",
          "height": 1000
        },
        "id": "ajCoZt4hp2lB",
        "outputId": "4c8de81e-2725-4b51-8a31-c45906cede88"
      },
      "source": [
        "natasha_result(TEXT3)"
      ],
      "execution_count": 30,
      "outputs": [
        {
          "output_type": "display_data",
          "data": {
            "text/plain": [
              "[DocSpan(start=58, stop=75, type='PER', text='Василия Ивановича', tokens=[...]),\n",
              " DocSpan(start=82, stop=86, type='LOC', text='Руси', tokens=[...]),\n",
              " DocSpan(start=87, stop=97, type='PER', text='Самодержца', tokens=[...]),\n",
              " DocSpan(start=99, stop=112, type='ORG', text='Владимирского', tokens=[...]),\n",
              " DocSpan(start=115, stop=126, type='ORG', text='Московского', tokens=[...])]"
            ]
          },
          "metadata": {
            "tags": []
          }
        },
        {
          "output_type": "stream",
          "text": [
            "Божиею милостью Великого Государя, Царя и Великого Князя, Василия \n",
            "                                                          PER─────\n",
            "Ивановича, всей Руси Самодержца, Владимирского, \n",
            "─────────       LOC─ PER───────  ORG──────────  \n",
            "Московского, Новгородского, Царя Казанского, Царя Астраханского, Царя \n",
            "ORG────────  LOC──────────  PER────────────  PER───────────────       \n",
            "Сибирского, Государя Псковского и Великого Князя \n",
            "            PER────────────────                  \n",
            "Смоленского, Болгарского и иных, Государя и Великого Князя Новагорода \n",
            "             LOC────────                                              \n",
            "Низовской земли, Черниговского, Рязанского, \n",
            "                 LOC──────────  LOC───────  \n",
            "Ростовского, Ярославского, Белозерского, Удорского, Обдорского, \n",
            "LOC────────  LOC─────────  LOC─────────  LOC──────  LOC───────  \n",
            "Кондийского и всей Северной страны Повелителя, \n",
            "LOC────────        LOC──────────── LOC───────  \n",
            "Государя Северской земли, Карталинских и Грузинских Царей и \n",
            "PER───────────────        LOC─────────   LOC─────────────   \n",
            "Кабардинской земли, Черкасских и Горских Князей и иных \n",
            "LOC───────────────  LOC───────                         \n",
            "многих государств Государя и Обладателя, Его Царского Величества от \n",
            "                  PER─────                                          \n",
            "старшины и воеводы и наместника Смоленского, \n",
            "                                ORG────────  \n",
            "Михаила Борисовича Шеина, в Оршу, Оршанскому старосте Андрею Ивановичу\n",
            "PER─────────────────────    LOC─  ORG──────────────── PER─────────────\n",
            " Сапеге. Августа 22 дня писал ты ко мне в листе \n",
            "───────                                         \n",
            "своем с посланными своими, с Павликом Полежоным, что Государь ваш, \n",
            "                             PER───────────────      PER─────      \n",
            "Король Сигизмунд, приехал в Оршу и чтобы мне уведомить \n",
            "PER─────────────            LOC─                       \n",
            "тебя о своевольных людях Государя вашего, учинивших обиды везде на \n",
            "границе Смоленской. И я неоднократно прежде сего писал \n",
            "        LOC───────                                     \n",
            "к тебе, когда у Великого Государя нашего Царя и Великого Князя, \n",
            "Василия Ивановича, всей Русии Самодержца, в Москве, \n",
            "PER──────────────       PER─────────────    LOC───  \n",
            "были послы вашего Короля, Николай Олесницкий и Александр Гонсевский и \n",
            "                  PER───  PER───────────────   PER─────────────────   \n",
            "гонцы Станислав Витовский и Князь Ян Соколинский, \n",
            "      PER────────────────   PER─────────────────  \n",
            "и постановили между Великим Государем вашим, Королем Сигизмундом, и \n",
            "между их великими Государствами союз и мир, утвердив \n",
            "                  LOC───────────────                 \n",
            "его союзными грамотами и крестным целованием на том*,* чтобы в \n",
            "перемирное время разрыва и войны никому не начинать, а \n",
            "которые люди Государя вашего в государстве нашего Государя, с панами и\n",
            "                                                  PER─────            \n",
            " ротмистрами и со множеством Польских и Литовских \n",
            "                             ORG─────   ORG───────\n",
            "людей, опустошают вместе с Самозванцем земли Государя нашего и \n",
            "─────                      PER────────                         \n",
            "проливают Христианскую кровь, и всех бы тех людей, по \n",
            "общему согласию, из государств Великого Государя нашего вашему \n",
            "Государю, Королю Сигизмунду, вывести, и впредь, в перемирные \n",
            "PER─────  PER──────────────                                  \n",
            "годы, не пропускать никого военным обычаем из Государств вашего \n",
            "                                              LOC───────        \n",
            "Государя, и обманщиков, которые изменнически называют себя \n",
            "PER─────                                                   \n",
            "потомками Великих Государей, не держать и никакого вспомоществования \n",
            "им не оказывать. И после того посольского постановления\n",
            "и утверждения, Польские и Литовские люди и доныне проливают \n",
            "               LOC─────                                     \n",
            "Христианскую кровь в Государств нашего Государя и опустошают \n",
            "                     LOC───────                              \n",
            "земли Государя нашего. А посланных твоих я отправил к тебе, не \n",
            "      LOC────────────                                          \n",
            "задерживая. Писано в Великого \n",
            "Государя нашего, Его Царского Величества, отчине, в городе Смоленске, \n",
            "                                                           LOC──────  \n",
            "1609 года, Августа 22 дня.\n"
          ],
          "name": "stdout"
        }
      ]
    },
    {
      "cell_type": "markdown",
      "metadata": {
        "id": "kdmBOeKC8zoR"
      },
      "source": [
        "Очень красивый график. Частично на редкость осмысленный, частично -- Новагород человек. С титулами всё тяжело и их заносит в имена. Зато Русь и Киевская Русь -- один объект с типом государство. Также из хорошего Оршанский староста."
      ]
    },
    {
      "cell_type": "code",
      "metadata": {
        "colab": {
          "base_uri": "https://localhost:8080/",
          "height": 821
        },
        "id": "se4PaG-Pp3HS",
        "outputId": "e99f408b-9285-40ce-d907-d54263c4c2f5"
      },
      "source": [
        "pullenty_result(TEXT3)"
      ],
      "execution_count": 39,
      "outputs": [
        {
          "output_type": "execute_result",
          "data": {
            "text/plain": [
              "Graph(...)"
            ],
            "image/svg+xml": "<?xml version=\"1.0\" encoding=\"UTF-8\" standalone=\"no\"?>\n<!DOCTYPE svg PUBLIC \"-//W3C//DTD SVG 1.1//EN\"\n \"http://www.w3.org/Graphics/SVG/1.1/DTD/svg11.dtd\">\n<!-- Generated by graphviz version 2.40.1 (20161225.0304)\n -->\n<!-- Title: G Pages: 1 -->\n<svg width=\"727pt\" height=\"600pt\"\n viewBox=\"0.00 0.00 726.88 599.75\" xmlns=\"http://www.w3.org/2000/svg\" xmlns:xlink=\"http://www.w3.org/1999/xlink\">\n<g id=\"graph0\" class=\"graph\" transform=\"scale(1 1) rotate(0) translate(4 595.7512)\">\n<title>G</title>\n<polygon fill=\"#ffffff\" stroke=\"transparent\" points=\"-4,4 -4,-595.7512 722.8807,-595.7512 722.8807,4 -4,4\"/>\n<!-- 0 -->\n<g id=\"node1\" class=\"node\">\n<title>0</title>\n<polygon fill=\"#aec7e8\" stroke=\"transparent\" points=\"195.5727,-200.2143 142.5727,-200.2143 142.5727,-181.2143 195.5727,-181.2143 195.5727,-200.2143\"/>\n<text text-anchor=\"middle\" x=\"169.0727\" y=\"-188.2143\" font-family=\"sans\" font-size=\"10.00\" fill=\"#000000\">PERSON</text>\n</g>\n<!-- 4 -->\n<g id=\"node5\" class=\"node\">\n<title>4</title>\n<polygon fill=\"#eeeeee\" stroke=\"transparent\" points=\"146.196,-120.354 87.196,-120.354 87.196,-101.354 146.196,-101.354 146.196,-120.354\"/>\n<text text-anchor=\"middle\" x=\"116.696\" y=\"-108.354\" font-family=\"sans\" font-size=\"10.00\" fill=\"#000000\">ВАСИЛИЙ</text>\n</g>\n<!-- 0&#45;&gt;4 -->\n<g id=\"edge8\" class=\"edge\">\n<title>0&#45;&gt;4</title>\n<path fill=\"none\" stroke=\"#c0c0c0\" d=\"M162.6503,-180.9219C153.1475,-166.4328 135.3434,-139.2864 124.9055,-123.3713\"/>\n<polygon fill=\"#c0c0c0\" stroke=\"#c0c0c0\" points=\"125.6943,-122.6593 123.1709,-120.7266 123.9382,-123.8111 125.6943,-122.6593\"/>\n<text text-anchor=\"middle\" x=\"167.7779\" y=\"-154.7466\" font-family=\"sans\" font-size=\"8.00\" fill=\"#c0c0c0\">FIRSTNAME</text>\n</g>\n<!-- 13 -->\n<g id=\"node14\" class=\"node\">\n<title>13</title>\n<polygon fill=\"#eeeeee\" stroke=\"transparent\" points=\"102.3529,-177.0574 55.3529,-177.0574 55.3529,-158.0574 102.3529,-158.0574 102.3529,-177.0574\"/>\n<text text-anchor=\"middle\" x=\"78.8529\" y=\"-165.0574\" font-family=\"sans\" font-size=\"10.00\" fill=\"#000000\">КНЯЗЬ</text>\n</g>\n<!-- 0&#45;&gt;13 -->\n<g id=\"edge19\" class=\"edge\">\n<title>0&#45;&gt;13</title>\n<path fill=\"none\" stroke=\"#c0c0c0\" d=\"M142.4917,-183.8917C130.8,-180.8908 117.0983,-177.3739 105.4094,-174.3737\"/>\n<polygon fill=\"#c0c0c0\" stroke=\"#c0c0c0\" points=\"105.6503,-173.3515 102.4834,-173.6227 105.1282,-175.3856 105.6503,-173.3515\"/>\n<text text-anchor=\"middle\" x=\"102.4506\" y=\"-181.7327\" font-family=\"sans\" font-size=\"8.00\" fill=\"#c0c0c0\">LASTNAME</text>\n</g>\n<!-- 23 -->\n<g id=\"node24\" class=\"node\">\n<title>23</title>\n<polygon fill=\"#eeeeee\" stroke=\"transparent\" points=\"229.2717,-271.4227 188.2717,-271.4227 188.2717,-252.4227 229.2717,-252.4227 229.2717,-271.4227\"/>\n<text text-anchor=\"middle\" x=\"208.7717\" y=\"-259.4227\" font-family=\"sans\" font-size=\"10.00\" fill=\"#000000\">MALE</text>\n</g>\n<!-- 0&#45;&gt;23 -->\n<g id=\"edge26\" class=\"edge\">\n<title>0&#45;&gt;23</title>\n<path fill=\"none\" stroke=\"#c0c0c0\" d=\"M174.4266,-200.3178C181.4902,-212.9878 193.9387,-235.3167 201.7503,-249.3283\"/>\n<polygon fill=\"#c0c0c0\" stroke=\"#c0c0c0\" points=\"200.8698,-249.9054 203.2478,-252.0144 202.704,-248.8828 200.8698,-249.9054\"/>\n<text text-anchor=\"middle\" x=\"180.0885\" y=\"-227.4231\" font-family=\"sans\" font-size=\"8.00\" fill=\"#c0c0c0\">SEX</text>\n</g>\n<!-- 30 -->\n<g id=\"node31\" class=\"node\">\n<title>30</title>\n<polygon fill=\"#eeeeee\" stroke=\"transparent\" points=\"194.896,-110.7421 129.896,-110.7421 129.896,-91.7421 194.896,-91.7421 194.896,-110.7421\"/>\n<text text-anchor=\"middle\" x=\"162.396\" y=\"-98.7421\" font-family=\"sans\" font-size=\"10.00\" fill=\"#000000\">ИВАНОВИЧ</text>\n</g>\n<!-- 0&#45;&gt;30 -->\n<g id=\"edge33\" class=\"edge\">\n<title>0&#45;&gt;30</title>\n<path fill=\"none\" stroke=\"#c0c0c0\" d=\"M168.3581,-181.1392C167.1534,-164.9947 164.717,-132.3456 163.3614,-114.1794\"/>\n<polygon fill=\"#c0c0c0\" stroke=\"#c0c0c0\" points=\"164.3758,-113.6619 163.1054,-110.7484 162.2816,-113.8182 164.3758,-113.6619\"/>\n<text text-anchor=\"middle\" x=\"192.3598\" y=\"-141.2593\" font-family=\"sans\" font-size=\"8.00\" fill=\"#c0c0c0\">MIDDLENAME</text>\n</g>\n<!-- 1 -->\n<g id=\"node2\" class=\"node\">\n<title>1</title>\n<polygon fill=\"#eeeeee\" stroke=\"transparent\" points=\"559,-359.3209 518,-359.3209 518,-340.3209 559,-340.3209 559,-359.3209\"/>\n<text text-anchor=\"middle\" x=\"538.5\" y=\"-347.3209\" font-family=\"sans\" font-size=\"10.00\" fill=\"#000000\">1609</text>\n</g>\n<!-- 2 -->\n<g id=\"node3\" class=\"node\">\n<title>2</title>\n<polygon fill=\"#eeeeee\" stroke=\"transparent\" points=\"522,-232.5303 481,-232.5303 481,-213.5303 522,-213.5303 522,-232.5303\"/>\n<text text-anchor=\"middle\" x=\"501.5\" y=\"-220.5303\" font-family=\"sans\" font-size=\"10.00\" fill=\"#000000\">РУСЬ</text>\n</g>\n<!-- 3 -->\n<g id=\"node4\" class=\"node\">\n<title>3</title>\n<polygon fill=\"#aec7e8\" stroke=\"transparent\" points=\"172.9696,-341.6529 119.9696,-341.6529 119.9696,-322.6529 172.9696,-322.6529 172.9696,-341.6529\"/>\n<text text-anchor=\"middle\" x=\"146.4696\" y=\"-329.6529\" font-family=\"sans\" font-size=\"10.00\" fill=\"#000000\">PERSON</text>\n</g>\n<!-- 3&#45;&gt;23 -->\n<g id=\"edge27\" class=\"edge\">\n<title>3&#45;&gt;23</title>\n<path fill=\"none\" stroke=\"#c0c0c0\" d=\"M155.1325,-322.3877C166.3845,-309.7038 186.0185,-287.5713 198.1545,-273.8909\"/>\n<polygon fill=\"#c0c0c0\" stroke=\"#c0c0c0\" points=\"198.977,-274.546 200.1824,-271.605 197.406,-273.1524 198.977,-274.546\"/>\n<text text-anchor=\"middle\" x=\"168.6435\" y=\"-300.7393\" font-family=\"sans\" font-size=\"8.00\" fill=\"#c0c0c0\">SEX</text>\n</g>\n<!-- 29 -->\n<g id=\"node30\" class=\"node\">\n<title>29</title>\n<polygon fill=\"#eeeeee\" stroke=\"transparent\" points=\"160.0184,-431.6975 89.0184,-431.6975 89.0184,-412.6975 160.0184,-412.6975 160.0184,-431.6975\"/>\n<text text-anchor=\"middle\" x=\"124.5184\" y=\"-419.6975\" font-family=\"sans\" font-size=\"10.00\" fill=\"#000000\">БОРИСОВИЧ</text>\n</g>\n<!-- 3&#45;&gt;29 -->\n<g id=\"edge21\" class=\"edge\">\n<title>3&#45;&gt;29</title>\n<path fill=\"none\" stroke=\"#c0c0c0\" d=\"M144.1205,-341.7892C140.1265,-358.1725 132.0156,-391.4438 127.5818,-409.6315\"/>\n<polygon fill=\"#c0c0c0\" stroke=\"#c0c0c0\" points=\"126.5412,-409.4671 126.8507,-412.6304 128.5814,-409.9645 126.5412,-409.4671\"/>\n<text text-anchor=\"middle\" x=\"109.3511\" y=\"-378.3104\" font-family=\"sans\" font-size=\"8.00\" fill=\"#c0c0c0\">MIDDLENAME</text>\n</g>\n<!-- 45 -->\n<g id=\"node46\" class=\"node\">\n<title>45</title>\n<polygon fill=\"#eeeeee\" stroke=\"transparent\" points=\"74.9687,-355.704 21.9687,-355.704 21.9687,-336.704 74.9687,-336.704 74.9687,-355.704\"/>\n<text text-anchor=\"middle\" x=\"48.4687\" y=\"-343.704\" font-family=\"sans\" font-size=\"10.00\" fill=\"#000000\">МИХАИЛ</text>\n</g>\n<!-- 3&#45;&gt;45 -->\n<g id=\"edge10\" class=\"edge\">\n<title>3&#45;&gt;45</title>\n<path fill=\"none\" stroke=\"#c0c0c0\" d=\"M119.9492,-335.9553C106.9848,-337.8141 91.3401,-340.0572 77.9963,-341.9704\"/>\n<polygon fill=\"#c0c0c0\" stroke=\"#c0c0c0\" points=\"77.8309,-340.9333 75.0103,-342.3985 78.129,-343.012 77.8309,-340.9333\"/>\n<text text-anchor=\"middle\" x=\"86.9727\" y=\"-332.5628\" font-family=\"sans\" font-size=\"8.00\" fill=\"#c0c0c0\">FIRSTNAME</text>\n</g>\n<!-- 51 -->\n<g id=\"node52\" class=\"node\">\n<title>51</title>\n<polygon fill=\"#eeeeee\" stroke=\"transparent\" points=\"103.2296,-409.8232 62.2296,-409.8232 62.2296,-390.8232 103.2296,-390.8232 103.2296,-409.8232\"/>\n<text text-anchor=\"middle\" x=\"82.7296\" y=\"-397.8232\" font-family=\"sans\" font-size=\"10.00\" fill=\"#000000\">ШЕИН</text>\n</g>\n<!-- 3&#45;&gt;51 -->\n<g id=\"edge2\" class=\"edge\">\n<title>3&#45;&gt;51</title>\n<path fill=\"none\" stroke=\"#c0c0c0\" d=\"M137.3372,-341.92C125.8829,-354.1705 106.2522,-375.1657 93.9108,-388.3649\"/>\n<polygon fill=\"#c0c0c0\" stroke=\"#c0c0c0\" points=\"93.1271,-387.6657 91.8451,-390.5742 94.661,-389.0999 93.1271,-387.6657\"/>\n<text text-anchor=\"middle\" x=\"94.124\" y=\"-367.7425\" font-family=\"sans\" font-size=\"8.00\" fill=\"#c0c0c0\">LASTNAME</text>\n</g>\n<!-- 5 -->\n<g id=\"node6\" class=\"node\">\n<title>5</title>\n<polygon fill=\"#eeeeee\" stroke=\"transparent\" points=\"333.27,-419.5454 262.27,-419.5454 262.27,-400.5454 333.27,-400.5454 333.27,-419.5454\"/>\n<text text-anchor=\"middle\" x=\"297.77\" y=\"-407.5454\" font-family=\"sans\" font-size=\"10.00\" fill=\"#000000\">НИЗОВСКОЙ</text>\n</g>\n<!-- 6 -->\n<g id=\"node7\" class=\"node\">\n<title>6</title>\n<polygon fill=\"#eeeeee\" stroke=\"transparent\" points=\"510.2044,-306.6072 415.2044,-306.6072 415.2044,-287.6072 510.2044,-287.6072 510.2044,-306.6072\"/>\n<text text-anchor=\"middle\" x=\"462.7044\" y=\"-294.6072\" font-family=\"sans\" font-size=\"10.00\" fill=\"#000000\">великий князь</text>\n</g>\n<!-- 7 -->\n<g id=\"node8\" class=\"node\">\n<title>7</title>\n<polygon fill=\"#eeeeee\" stroke=\"transparent\" points=\"232.6169,-101.5527 179.6169,-101.5527 179.6169,-82.5527 232.6169,-82.5527 232.6169,-101.5527\"/>\n<text text-anchor=\"middle\" x=\"206.1169\" y=\"-89.5527\" font-family=\"sans\" font-size=\"10.00\" fill=\"#000000\">АНДРЕЙ</text>\n</g>\n<!-- 8 -->\n<g id=\"node9\" class=\"node\">\n<title>8</title>\n<polygon fill=\"#eeeeee\" stroke=\"transparent\" points=\"77.8168,-204.5458 6.8168,-204.5458 6.8168,-185.5458 77.8168,-185.5458 77.8168,-204.5458\"/>\n<text text-anchor=\"middle\" x=\"42.3168\" y=\"-192.5458\" font-family=\"sans\" font-size=\"10.00\" fill=\"#000000\">ПОЛЕЖОНЫМ</text>\n</g>\n<!-- 9 -->\n<g id=\"node10\" class=\"node\">\n<title>9</title>\n<polygon fill=\"#eeeeee\" stroke=\"transparent\" points=\"380.5452,-280.1147 303.5452,-280.1147 303.5452,-261.1147 380.5452,-261.1147 380.5452,-280.1147\"/>\n<text text-anchor=\"middle\" x=\"342.0452\" y=\"-268.1147\" font-family=\"sans\" font-size=\"10.00\" fill=\"#000000\">ГОНСЕВСКИЙ</text>\n</g>\n<!-- 10 -->\n<g id=\"node11\" class=\"node\">\n<title>10</title>\n<polygon fill=\"#eeeeee\" stroke=\"transparent\" points=\"379.0812,-170.9802 308.0812,-170.9802 308.0812,-151.9802 379.0812,-151.9802 379.0812,-170.9802\"/>\n<text text-anchor=\"middle\" x=\"343.5812\" y=\"-158.9802\" font-family=\"sans\" font-size=\"10.00\" fill=\"#000000\">ВИТОВСКИЙ</text>\n</g>\n<!-- 11 -->\n<g id=\"node12\" class=\"node\">\n<title>11</title>\n<polygon fill=\"#aec7e8\" stroke=\"transparent\" points=\"347.8684,-97.3968 246.8684,-97.3968 246.8684,-78.3968 347.8684,-78.3968 347.8684,-97.3968\"/>\n<text text-anchor=\"middle\" x=\"297.3684\" y=\"-85.3968\" font-family=\"sans\" font-size=\"10.00\" fill=\"#000000\">PERSONPROPERTY</text>\n</g>\n<!-- 19 -->\n<g id=\"node20\" class=\"node\">\n<title>19</title>\n<polygon fill=\"#eeeeee\" stroke=\"transparent\" points=\"390.6235,-19 265.6235,-19 265.6235,0 390.6235,0 390.6235,-19\"/>\n<text text-anchor=\"middle\" x=\"328.1235\" y=\"-7\" font-family=\"sans\" font-size=\"10.00\" fill=\"#000000\">оршанский староста</text>\n</g>\n<!-- 11&#45;&gt;19 -->\n<g id=\"edge12\" class=\"edge\">\n<title>11&#45;&gt;19</title>\n<path fill=\"none\" stroke=\"#c0c0c0\" d=\"M301.1395,-78.2838C306.6734,-64.1778 317.0014,-37.8509 323.1501,-22.1775\"/>\n<polygon fill=\"#c0c0c0\" stroke=\"#c0c0c0\" points=\"324.2033,-22.3679 324.3215,-19.1916 322.2484,-21.6009 324.2033,-22.3679\"/>\n<text text-anchor=\"middle\" x=\"301.1448\" y=\"-52.8307\" font-family=\"sans\" font-size=\"8.00\" fill=\"#c0c0c0\">NAME</text>\n</g>\n<!-- 12 -->\n<g id=\"node13\" class=\"node\">\n<title>12</title>\n<polygon fill=\"#eeeeee\" stroke=\"transparent\" points=\"718.8807,-395.4384 665.8807,-395.4384 665.8807,-376.4384 718.8807,-376.4384 718.8807,-395.4384\"/>\n<text text-anchor=\"middle\" x=\"692.3807\" y=\"-383.4384\" font-family=\"sans\" font-size=\"10.00\" fill=\"#000000\">МОСКВА</text>\n</g>\n<!-- 14 -->\n<g id=\"node15\" class=\"node\">\n<title>14</title>\n<polygon fill=\"#eeeeee\" stroke=\"transparent\" points=\"633.0727,-246.3949 538.0727,-246.3949 538.0727,-227.3949 633.0727,-227.3949 633.0727,-246.3949\"/>\n<text text-anchor=\"middle\" x=\"585.5727\" y=\"-234.3949\" font-family=\"sans\" font-size=\"10.00\" fill=\"#000000\">КИЕВСКАЯ РУСЬ</text>\n</g>\n<!-- 15 -->\n<g id=\"node16\" class=\"node\">\n<title>15</title>\n<polygon fill=\"#aec7e8\" stroke=\"transparent\" points=\"444.0456,-353.9497 343.0456,-353.9497 343.0456,-334.9497 444.0456,-334.9497 444.0456,-353.9497\"/>\n<text text-anchor=\"middle\" x=\"393.5456\" y=\"-341.9497\" font-family=\"sans\" font-size=\"10.00\" fill=\"#000000\">PERSONPROPERTY</text>\n</g>\n<!-- 15&#45;&gt;6 -->\n<g id=\"edge25\" class=\"edge\">\n<title>15&#45;&gt;6</title>\n<path fill=\"none\" stroke=\"#c0c0c0\" d=\"M407.5409,-334.8692C418.696,-327.233 434.3445,-316.5209 446.1266,-308.4555\"/>\n<polygon fill=\"#c0c0c0\" stroke=\"#c0c0c0\" points=\"446.8474,-309.2345 448.7299,-306.6734 445.6612,-307.5016 446.8474,-309.2345\"/>\n<text text-anchor=\"middle\" x=\"415.8337\" y=\"-324.2623\" font-family=\"sans\" font-size=\"8.00\" fill=\"#c0c0c0\">NAME</text>\n</g>\n<!-- 28 -->\n<g id=\"node29\" class=\"node\">\n<title>28</title>\n<polygon fill=\"#aec7e8\" stroke=\"transparent\" points=\"470.4444,-423.2803 435.4444,-423.2803 435.4444,-404.2803 470.4444,-404.2803 470.4444,-423.2803\"/>\n<text text-anchor=\"middle\" x=\"452.9444\" y=\"-411.2803\" font-family=\"sans\" font-size=\"10.00\" fill=\"#000000\">GEO</text>\n</g>\n<!-- 15&#45;&gt;28 -->\n<g id=\"edge41\" class=\"edge\">\n<title>15&#45;&gt;28</title>\n<path fill=\"none\" stroke=\"#c0c0c0\" d=\"M401.8048,-354.0898C412.4438,-366.5077 430.9426,-388.0997 442.5336,-401.6288\"/>\n<polygon fill=\"#c0c0c0\" stroke=\"#c0c0c0\" points=\"442.0061,-402.6269 444.7554,-404.222 443.6009,-401.2606 442.0061,-402.6269\"/>\n<text text-anchor=\"middle\" x=\"414.1692\" y=\"-380.4593\" font-family=\"sans\" font-size=\"8.00\" fill=\"#c0c0c0\">REF</text>\n</g>\n<!-- 16 -->\n<g id=\"node17\" class=\"node\">\n<title>16</title>\n<polygon fill=\"#eeeeee\" stroke=\"transparent\" points=\"560.68,-441.7373 513.68,-441.7373 513.68,-422.7373 560.68,-422.7373 560.68,-441.7373\"/>\n<text text-anchor=\"middle\" x=\"537.18\" y=\"-429.7373\" font-family=\"sans\" font-size=\"10.00\" fill=\"#000000\">город</text>\n</g>\n<!-- 17 -->\n<g id=\"node18\" class=\"node\">\n<title>17</title>\n<polygon fill=\"#aec7e8\" stroke=\"transparent\" points=\"269.86,-181.5617 216.86,-181.5617 216.86,-162.5617 269.86,-162.5617 269.86,-181.5617\"/>\n<text text-anchor=\"middle\" x=\"243.36\" y=\"-169.5617\" font-family=\"sans\" font-size=\"10.00\" fill=\"#000000\">PERSON</text>\n</g>\n<!-- 17&#45;&gt;7 -->\n<g id=\"edge15\" class=\"edge\">\n<title>17&#45;&gt;7</title>\n<path fill=\"none\" stroke=\"#c0c0c0\" d=\"M238.7933,-162.2511C232.0921,-147.8549 219.5853,-120.9867 212.1395,-104.9909\"/>\n<polygon fill=\"#c0c0c0\" stroke=\"#c0c0c0\" points=\"212.939,-104.2203 210.721,-101.9436 211.0352,-105.1065 212.939,-104.2203\"/>\n<text text-anchor=\"middle\" x=\"201.4664\" y=\"-127.221\" font-family=\"sans\" font-size=\"8.00\" fill=\"#c0c0c0\">FIRSTNAME</text>\n</g>\n<!-- 17&#45;&gt;11 -->\n<g id=\"edge11\" class=\"edge\">\n<title>17&#45;&gt;11</title>\n<path fill=\"none\" stroke=\"#c0c0c0\" d=\"M249.5555,-162.407C259.4037,-147.0597 278.621,-117.1121 289.4529,-100.232\"/>\n<polygon fill=\"#c0c0c0\" stroke=\"#c0c0c0\" points=\"290.5086,-100.531 291.2452,-97.439 288.7412,-99.3968 290.5086,-100.531\"/>\n<text text-anchor=\"middle\" x=\"257.5042\" y=\"-124.9195\" font-family=\"sans\" font-size=\"8.00\" fill=\"#c0c0c0\">ATTRIBUTE</text>\n</g>\n<!-- 18 -->\n<g id=\"node19\" class=\"node\">\n<title>18</title>\n<polygon fill=\"#eeeeee\" stroke=\"transparent\" points=\"346.4011,-144.5275 281.4011,-144.5275 281.4011,-125.5275 346.4011,-125.5275 346.4011,-144.5275\"/>\n<text text-anchor=\"middle\" x=\"313.9011\" y=\"-132.5275\" font-family=\"sans\" font-size=\"10.00\" fill=\"#000000\">ИВАНОВИЧ</text>\n</g>\n<!-- 17&#45;&gt;18 -->\n<g id=\"edge3\" class=\"edge\">\n<title>17&#45;&gt;18</title>\n<path fill=\"none\" stroke=\"#c0c0c0\" d=\"M261.5261,-162.5245C271.0784,-157.5095 282.8393,-151.335 292.7947,-146.1084\"/>\n<polygon fill=\"#c0c0c0\" stroke=\"#c0c0c0\" points=\"293.3833,-146.9853 295.5514,-144.6611 292.4071,-145.126 293.3833,-146.9853\"/>\n<text text-anchor=\"middle\" x=\"250.6604\" y=\"-147.9164\" font-family=\"sans\" font-size=\"8.00\" fill=\"#c0c0c0\">MIDDLENAME</text>\n</g>\n<!-- 17&#45;&gt;23 -->\n<g id=\"edge5\" class=\"edge\">\n<title>17&#45;&gt;23</title>\n<path fill=\"none\" stroke=\"#c0c0c0\" d=\"M239.6585,-181.6784C233.3652,-198.0283 220.5849,-231.2317 213.5986,-249.3823\"/>\n<polygon fill=\"#c0c0c0\" stroke=\"#c0c0c0\" points=\"212.5444,-249.1982 212.4466,-252.3751 214.5043,-249.9526 212.5444,-249.1982\"/>\n<text text-anchor=\"middle\" x=\"218.6285\" y=\"-218.1304\" font-family=\"sans\" font-size=\"8.00\" fill=\"#c0c0c0\">SEX</text>\n</g>\n<!-- 33 -->\n<g id=\"node34\" class=\"node\">\n<title>33</title>\n<polygon fill=\"#eeeeee\" stroke=\"transparent\" points=\"272.9579,-100.7663 219.9579,-100.7663 219.9579,-81.7663 272.9579,-81.7663 272.9579,-100.7663\"/>\n<text text-anchor=\"middle\" x=\"246.4579\" y=\"-88.7663\" font-family=\"sans\" font-size=\"10.00\" fill=\"#000000\">САПЕГЕ</text>\n</g>\n<!-- 17&#45;&gt;33 -->\n<g id=\"edge42\" class=\"edge\">\n<title>17&#45;&gt;33</title>\n<path fill=\"none\" stroke=\"#c0c0c0\" d=\"M243.7276,-162.4762C244.2865,-147.8982 245.3508,-120.1408 245.9727,-103.922\"/>\n<polygon fill=\"#c0c0c0\" stroke=\"#c0c0c0\" points=\"247.0251,-103.8775 246.0909,-100.8394 244.9266,-103.797 247.0251,-103.8775\"/>\n<text text-anchor=\"middle\" x=\"266.3501\" y=\"-135.7991\" font-family=\"sans\" font-size=\"8.00\" fill=\"#c0c0c0\">LASTNAME</text>\n</g>\n<!-- 20 -->\n<g id=\"node21\" class=\"node\">\n<title>20</title>\n<polygon fill=\"#eeeeee\" stroke=\"transparent\" points=\"200.5113,-441.3807 123.5113,-441.3807 123.5113,-422.3807 200.5113,-422.3807 200.5113,-441.3807\"/>\n<text text-anchor=\"middle\" x=\"162.0113\" y=\"-429.3807\" font-family=\"sans\" font-size=\"10.00\" fill=\"#000000\">ОЛЕСНИЦКИЙ</text>\n</g>\n<!-- 21 -->\n<g id=\"node22\" class=\"node\">\n<title>21</title>\n<polygon fill=\"#aec7e8\" stroke=\"transparent\" points=\"280.2247,-303.3036 227.2247,-303.3036 227.2247,-284.3036 280.2247,-284.3036 280.2247,-303.3036\"/>\n<text text-anchor=\"middle\" x=\"253.7247\" y=\"-291.3036\" font-family=\"sans\" font-size=\"10.00\" fill=\"#000000\">PERSON</text>\n</g>\n<!-- 21&#45;&gt;9 -->\n<g id=\"edge16\" class=\"edge\">\n<title>21&#45;&gt;9</title>\n<path fill=\"none\" stroke=\"#c0c0c0\" d=\"M280.7037,-286.7202C287.6282,-284.9021 295.2205,-282.9087 302.6324,-280.9627\"/>\n<polygon fill=\"#c0c0c0\" stroke=\"#c0c0c0\" points=\"303.1603,-281.9098 305.7953,-280.1323 302.627,-279.8786 303.1603,-281.9098\"/>\n<text text-anchor=\"middle\" x=\"270.168\" y=\"-277.4414\" font-family=\"sans\" font-size=\"8.00\" fill=\"#c0c0c0\">LASTNAME</text>\n</g>\n<!-- 21&#45;&gt;23 -->\n<g id=\"edge6\" class=\"edge\">\n<title>21&#45;&gt;23</title>\n<path fill=\"none\" stroke=\"#c0c0c0\" d=\"M239.9931,-284.0651C235.2874,-280.7277 229.9758,-276.9608 225.0859,-273.4928\"/>\n<polygon fill=\"#c0c0c0\" stroke=\"#c0c0c0\" points=\"225.4738,-272.4806 222.4193,-271.6016 224.2589,-274.1936 225.4738,-272.4806\"/>\n<text text-anchor=\"middle\" x=\"240.5395\" y=\"-272.3789\" font-family=\"sans\" font-size=\"8.00\" fill=\"#c0c0c0\">SEX</text>\n</g>\n<!-- 35 -->\n<g id=\"node36\" class=\"node\">\n<title>35</title>\n<polygon fill=\"#eeeeee\" stroke=\"transparent\" points=\"291.7672,-399.2257 220.7672,-399.2257 220.7672,-380.2257 291.7672,-380.2257 291.7672,-399.2257\"/>\n<text text-anchor=\"middle\" x=\"256.2672\" y=\"-387.2257\" font-family=\"sans\" font-size=\"10.00\" fill=\"#000000\">АЛЕКСАНДР</text>\n</g>\n<!-- 21&#45;&gt;35 -->\n<g id=\"edge43\" class=\"edge\">\n<title>21&#45;&gt;35</title>\n<path fill=\"none\" stroke=\"#c0c0c0\" d=\"M253.9778,-303.3517C254.4385,-320.7325 255.414,-357.537 255.9303,-377.0165\"/>\n<polygon fill=\"#c0c0c0\" stroke=\"#c0c0c0\" points=\"254.8859,-377.2451 256.0151,-380.2162 256.9852,-377.1894 254.8859,-377.2451\"/>\n<text text-anchor=\"middle\" x=\"278.9541\" y=\"-342.7841\" font-family=\"sans\" font-size=\"8.00\" fill=\"#c0c0c0\">FIRSTNAME</text>\n</g>\n<!-- 22 -->\n<g id=\"node23\" class=\"node\">\n<title>22</title>\n<polygon fill=\"#eeeeee\" stroke=\"transparent\" points=\"596.972,-167 513.972,-167 513.972,-148 596.972,-148 596.972,-167\"/>\n<text text-anchor=\"middle\" x=\"555.472\" y=\"-155\" font-family=\"sans\" font-size=\"10.00\" fill=\"#000000\">государство</text>\n</g>\n<!-- 24 -->\n<g id=\"node25\" class=\"node\">\n<title>24</title>\n<polygon fill=\"#aec7e8\" stroke=\"transparent\" points=\"321.7132,-328.2426 268.7132,-328.2426 268.7132,-309.2426 321.7132,-309.2426 321.7132,-328.2426\"/>\n<text text-anchor=\"middle\" x=\"295.2132\" y=\"-316.2426\" font-family=\"sans\" font-size=\"10.00\" fill=\"#000000\">PERSON</text>\n</g>\n<!-- 24&#45;&gt;5 -->\n<g id=\"edge20\" class=\"edge\">\n<title>24&#45;&gt;5</title>\n<path fill=\"none\" stroke=\"#c0c0c0\" d=\"M295.4868,-328.5136C295.952,-345.1258 296.8967,-378.862 297.4132,-397.3038\"/>\n<polygon fill=\"#c0c0c0\" stroke=\"#c0c0c0\" points=\"296.3646,-397.3752 297.4983,-400.3446 298.4638,-397.3164 296.3646,-397.3752\"/>\n<text text-anchor=\"middle\" x=\"272.45\" y=\"-365.5087\" font-family=\"sans\" font-size=\"8.00\" fill=\"#c0c0c0\">FIRSTNAME</text>\n</g>\n<!-- 24&#45;&gt;15 -->\n<g id=\"edge9\" class=\"edge\">\n<title>24&#45;&gt;15</title>\n<path fill=\"none\" stroke=\"#c0c0c0\" d=\"M321.8234,-325.6993C331.7015,-328.2818 343.1305,-331.2696 353.9217,-334.0908\"/>\n<polygon fill=\"#c0c0c0\" stroke=\"#c0c0c0\" points=\"353.7786,-335.1386 356.9466,-334.8816 354.3098,-333.1069 353.7786,-335.1386\"/>\n<text text-anchor=\"middle\" x=\"313.8725\" y=\"-332.4951\" font-family=\"sans\" font-size=\"8.00\" fill=\"#c0c0c0\">ATTRIBUTE</text>\n</g>\n<!-- 24&#45;&gt;23 -->\n<g id=\"edge1\" class=\"edge\">\n<title>24&#45;&gt;23</title>\n<path fill=\"none\" stroke=\"#c0c0c0\" d=\"M280.5496,-309.1039C265.5233,-299.2268 242.1617,-283.8707 226.2001,-273.3788\"/>\n<polygon fill=\"#c0c0c0\" stroke=\"#c0c0c0\" points=\"226.5909,-272.3792 223.5072,-271.6087 225.4374,-274.134 226.5909,-272.3792\"/>\n<text text-anchor=\"middle\" x=\"245.3748\" y=\"-293.8413\" font-family=\"sans\" font-size=\"8.00\" fill=\"#c0c0c0\">SEX</text>\n</g>\n<!-- 31 -->\n<g id=\"node32\" class=\"node\">\n<title>31</title>\n<polygon fill=\"#eeeeee\" stroke=\"transparent\" points=\"369.1661,-380.4069 298.1661,-380.4069 298.1661,-361.4069 369.1661,-361.4069 369.1661,-380.4069\"/>\n<text text-anchor=\"middle\" x=\"333.6661\" y=\"-368.4069\" font-family=\"sans\" font-size=\"10.00\" fill=\"#000000\">НОВАГОРОД</text>\n</g>\n<!-- 24&#45;&gt;31 -->\n<g id=\"edge46\" class=\"edge\">\n<title>24&#45;&gt;31</title>\n<path fill=\"none\" stroke=\"#c0c0c0\" d=\"M302.266,-328.3104C308.5537,-336.8401 317.7923,-349.3729 324.6217,-358.6376\"/>\n<polygon fill=\"#c0c0c0\" stroke=\"#c0c0c0\" points=\"324.0326,-359.608 326.6579,-361.3998 325.723,-358.362 324.0326,-359.608\"/>\n<text text-anchor=\"middle\" x=\"334.9439\" y=\"-346.074\" font-family=\"sans\" font-size=\"8.00\" fill=\"#c0c0c0\">LASTNAME</text>\n</g>\n<!-- 25 -->\n<g id=\"node26\" class=\"node\">\n<title>25</title>\n<polygon fill=\"#eeeeee\" stroke=\"transparent\" points=\"622.5075,-591.7512 581.5075,-591.7512 581.5075,-572.7512 622.5075,-572.7512 622.5075,-591.7512\"/>\n<text text-anchor=\"middle\" x=\"602.0075\" y=\"-579.7512\" font-family=\"sans\" font-size=\"10.00\" fill=\"#000000\">ОРША</text>\n</g>\n<!-- 26 -->\n<g id=\"node27\" class=\"node\">\n<title>26</title>\n<polygon fill=\"#eeeeee\" stroke=\"transparent\" points=\"269,-507.9196 222,-507.9196 222,-488.9196 269,-488.9196 269,-507.9196\"/>\n<text text-anchor=\"middle\" x=\"245.5\" y=\"-495.9196\" font-family=\"sans\" font-size=\"10.00\" fill=\"#000000\">город</text>\n</g>\n<!-- 27 -->\n<g id=\"node28\" class=\"node\">\n<title>27</title>\n<polygon fill=\"#aec7e8\" stroke=\"transparent\" points=\"166.1192,-295.6434 113.1192,-295.6434 113.1192,-276.6434 166.1192,-276.6434 166.1192,-295.6434\"/>\n<text text-anchor=\"middle\" x=\"139.6192\" y=\"-283.6434\" font-family=\"sans\" font-size=\"10.00\" fill=\"#000000\">PERSON</text>\n</g>\n<!-- 27&#45;&gt;23 -->\n<g id=\"edge29\" class=\"edge\">\n<title>27&#45;&gt;23</title>\n<path fill=\"none\" stroke=\"#c0c0c0\" d=\"M166.1576,-276.8483C172.4422,-274.6471 179.1019,-272.3146 185.2422,-270.1639\"/>\n<polygon fill=\"#c0c0c0\" stroke=\"#c0c0c0\" points=\"185.7266,-271.1069 188.2109,-269.1241 185.0324,-269.1249 185.7266,-271.1069\"/>\n<text text-anchor=\"middle\" x=\"167.6999\" y=\"-267.1061\" font-family=\"sans\" font-size=\"8.00\" fill=\"#c0c0c0\">SEX</text>\n</g>\n<!-- 37 -->\n<g id=\"node38\" class=\"node\">\n<title>37</title>\n<polygon fill=\"#eeeeee\" stroke=\"transparent\" points=\"83,-297.964 0,-297.964 0,-278.964 83,-278.964 83,-297.964\"/>\n<text text-anchor=\"middle\" x=\"41.5\" y=\"-285.964\" font-family=\"sans\" font-size=\"10.00\" fill=\"#000000\">СОКОЛИНСКИЙ</text>\n</g>\n<!-- 27&#45;&gt;37 -->\n<g id=\"edge22\" class=\"edge\">\n<title>27&#45;&gt;37</title>\n<path fill=\"none\" stroke=\"#c0c0c0\" d=\"M113.0667,-286.7714C104.8781,-286.9651 95.6214,-287.184 86.5488,-287.3986\"/>\n<polygon fill=\"#c0c0c0\" stroke=\"#c0c0c0\" points=\"86.1913,-286.3566 83.2169,-287.4774 86.241,-288.456 86.1913,-286.3566\"/>\n<text text-anchor=\"middle\" x=\"89.0578\" y=\"-280.685\" font-family=\"sans\" font-size=\"8.00\" fill=\"#c0c0c0\">LASTNAME</text>\n</g>\n<!-- 49 -->\n<g id=\"node50\" class=\"node\">\n<title>49</title>\n<polygon fill=\"#eeeeee\" stroke=\"transparent\" points=\"87.6624,-361.4908 58.6624,-361.4908 58.6624,-342.4908 87.6624,-342.4908 87.6624,-361.4908\"/>\n<text text-anchor=\"middle\" x=\"73.1624\" y=\"-349.4908\" font-family=\"sans\" font-size=\"10.00\" fill=\"#000000\">ЯН</text>\n</g>\n<!-- 27&#45;&gt;49 -->\n<g id=\"edge7\" class=\"edge\">\n<title>27&#45;&gt;49</title>\n<path fill=\"none\" stroke=\"#c0c0c0\" d=\"M129.8132,-295.8595C117.9356,-307.6282 97.9341,-327.4463 85.1516,-340.1116\"/>\n<polygon fill=\"#c0c0c0\" stroke=\"#c0c0c0\" points=\"84.4006,-339.3775 83.0085,-342.235 85.8787,-340.8693 84.4006,-339.3775\"/>\n<text text-anchor=\"middle\" x=\"83.4824\" y=\"-320.5855\" font-family=\"sans\" font-size=\"8.00\" fill=\"#c0c0c0\">FIRSTNAME</text>\n</g>\n<!-- 28&#45;&gt;16 -->\n<g id=\"edge23\" class=\"edge\">\n<title>28&#45;&gt;16</title>\n<path fill=\"none\" stroke=\"#c0c0c0\" d=\"M470.8086,-417.6945C482.295,-420.2113 497.4324,-423.5281 510.3499,-426.3585\"/>\n<polygon fill=\"#c0c0c0\" stroke=\"#c0c0c0\" points=\"510.4274,-427.4503 513.5826,-427.0668 510.8769,-425.399 510.4274,-427.4503\"/>\n<text text-anchor=\"middle\" x=\"501.5793\" y=\"-424.6265\" font-family=\"sans\" font-size=\"8.00\" fill=\"#c0c0c0\">TYPE</text>\n</g>\n<!-- 32 -->\n<g id=\"node33\" class=\"node\">\n<title>32</title>\n<polygon fill=\"#eeeeee\" stroke=\"transparent\" points=\"467.1731,-509.2596 420.1731,-509.2596 420.1731,-490.2596 467.1731,-490.2596 467.1731,-509.2596\"/>\n<text text-anchor=\"middle\" x=\"443.6731\" y=\"-497.2596\" font-family=\"sans\" font-size=\"10.00\" fill=\"#000000\">ПСКОВ</text>\n</g>\n<!-- 28&#45;&gt;32 -->\n<g id=\"edge14\" class=\"edge\">\n<title>28&#45;&gt;32</title>\n<path fill=\"none\" stroke=\"#c0c0c0\" d=\"M451.9168,-423.3101C450.246,-438.8041 446.9389,-469.4737 445.0609,-486.8892\"/>\n<polygon fill=\"#c0c0c0\" stroke=\"#c0c0c0\" points=\"443.9831,-487.0918 444.7053,-490.1871 446.071,-487.317 443.9831,-487.0918\"/>\n<text text-anchor=\"middle\" x=\"437.4888\" y=\"-457.6996\" font-family=\"sans\" font-size=\"8.00\" fill=\"#c0c0c0\">NAME</text>\n</g>\n<!-- 34 -->\n<g id=\"node35\" class=\"node\">\n<title>34</title>\n<polygon fill=\"#eeeeee\" stroke=\"transparent\" points=\"240.1979,-448.6019 181.1979,-448.6019 181.1979,-429.6019 240.1979,-429.6019 240.1979,-448.6019\"/>\n<text text-anchor=\"middle\" x=\"210.6979\" y=\"-436.6019\" font-family=\"sans\" font-size=\"10.00\" fill=\"#000000\">НИКОЛАЙ</text>\n</g>\n<!-- 36 -->\n<g id=\"node37\" class=\"node\">\n<title>36</title>\n<polygon fill=\"#eeeeee\" stroke=\"transparent\" points=\"400.3825,-214.9467 329.3825,-214.9467 329.3825,-195.9467 400.3825,-195.9467 400.3825,-214.9467\"/>\n<text text-anchor=\"middle\" x=\"364.8825\" y=\"-202.9467\" font-family=\"sans\" font-size=\"10.00\" fill=\"#000000\">СТАНИСЛАВ</text>\n</g>\n<!-- 38 -->\n<g id=\"node39\" class=\"node\">\n<title>38</title>\n<polygon fill=\"#eeeeee\" stroke=\"transparent\" points=\"394.3749,-510.2858 329.3749,-510.2858 329.3749,-491.2858 394.3749,-491.2858 394.3749,-510.2858\"/>\n<text text-anchor=\"middle\" x=\"361.8749\" y=\"-498.2858\" font-family=\"sans\" font-size=\"10.00\" fill=\"#000000\">СМОЛЕНСК</text>\n</g>\n<!-- 39 -->\n<g id=\"node40\" class=\"node\">\n<title>39</title>\n<polygon fill=\"#aec7e8\" stroke=\"transparent\" points=\"584.9426,-521.3716 549.9426,-521.3716 549.9426,-502.3716 584.9426,-502.3716 584.9426,-521.3716\"/>\n<text text-anchor=\"middle\" x=\"567.4426\" y=\"-509.3716\" font-family=\"sans\" font-size=\"10.00\" fill=\"#000000\">GEO</text>\n</g>\n<!-- 39&#45;&gt;16 -->\n<g id=\"edge34\" class=\"edge\">\n<title>39&#45;&gt;16</title>\n<path fill=\"none\" stroke=\"#c0c0c0\" d=\"M563.7318,-502.1069C558.2866,-487.7781 548.124,-461.0357 542.0737,-445.1149\"/>\n<polygon fill=\"#c0c0c0\" stroke=\"#c0c0c0\" points=\"542.9684,-444.5132 540.9211,-442.0819 541.0054,-445.2592 542.9684,-444.5132\"/>\n<text text-anchor=\"middle\" x=\"541.9028\" y=\"-476.2109\" font-family=\"sans\" font-size=\"8.00\" fill=\"#c0c0c0\">TYPE</text>\n</g>\n<!-- 39&#45;&gt;25 -->\n<g id=\"edge37\" class=\"edge\">\n<title>39&#45;&gt;25</title>\n<path fill=\"none\" stroke=\"#c0c0c0\" d=\"M572.2487,-521.6576C578.3881,-534.1583 589.0253,-555.8174 595.78,-569.5708\"/>\n<polygon fill=\"#c0c0c0\" stroke=\"#c0c0c0\" points=\"594.9773,-570.3184 597.2423,-572.5483 596.8622,-569.3926 594.9773,-570.3184\"/>\n<text text-anchor=\"middle\" x=\"573.0143\" y=\"-548.2142\" font-family=\"sans\" font-size=\"8.00\" fill=\"#c0c0c0\">NAME</text>\n</g>\n<!-- 40 -->\n<g id=\"node41\" class=\"node\">\n<title>40</title>\n<polygon fill=\"#aec7e8\" stroke=\"transparent\" points=\"157.179,-238.4151 104.179,-238.4151 104.179,-219.4151 157.179,-219.4151 157.179,-238.4151\"/>\n<text text-anchor=\"middle\" x=\"130.679\" y=\"-226.4151\" font-family=\"sans\" font-size=\"10.00\" fill=\"#000000\">PERSON</text>\n</g>\n<!-- 40&#45;&gt;8 -->\n<g id=\"edge47\" class=\"edge\">\n<title>40&#45;&gt;8</title>\n<path fill=\"none\" stroke=\"#c0c0c0\" d=\"M105.5943,-219.3001C94.4936,-215.0452 81.4013,-210.0269 70.0144,-205.6623\"/>\n<polygon fill=\"#c0c0c0\" stroke=\"#c0c0c0\" points=\"70.3355,-204.6609 67.1584,-204.5676 69.5838,-206.6218 70.3355,-204.6609\"/>\n<text text-anchor=\"middle\" x=\"66.3044\" y=\"-215.0812\" font-family=\"sans\" font-size=\"8.00\" fill=\"#c0c0c0\">LASTNAME</text>\n</g>\n<!-- 40&#45;&gt;23 -->\n<g id=\"edge39\" class=\"edge\">\n<title>40&#45;&gt;23</title>\n<path fill=\"none\" stroke=\"#c0c0c0\" d=\"M153.2667,-238.4622C163.3134,-242.7087 175.1396,-247.7073 185.2885,-251.997\"/>\n<polygon fill=\"#c0c0c0\" stroke=\"#c0c0c0\" points=\"184.9316,-252.986 188.1037,-253.1869 185.7492,-251.0517 184.9316,-252.986\"/>\n<text text-anchor=\"middle\" x=\"161.2776\" y=\"-247.8296\" font-family=\"sans\" font-size=\"8.00\" fill=\"#c0c0c0\">SEX</text>\n</g>\n<!-- 41 -->\n<g id=\"node42\" class=\"node\">\n<title>41</title>\n<polygon fill=\"#eeeeee\" stroke=\"transparent\" points=\"115.088,-155.3591 62.088,-155.3591 62.088,-136.3591 115.088,-136.3591 115.088,-155.3591\"/>\n<text text-anchor=\"middle\" x=\"88.588\" y=\"-143.3591\" font-family=\"sans\" font-size=\"10.00\" fill=\"#000000\">ПАВЛИК</text>\n</g>\n<!-- 40&#45;&gt;41 -->\n<g id=\"edge4\" class=\"edge\">\n<title>40&#45;&gt;41</title>\n<path fill=\"none\" stroke=\"#c0c0c0\" d=\"M125.8507,-219.3875C118.2163,-204.323 103.3577,-175.0034 94.8921,-158.2987\"/>\n<polygon fill=\"#c0c0c0\" stroke=\"#c0c0c0\" points=\"95.7825,-157.7327 93.4897,-155.5314 93.9093,-158.6821 95.7825,-157.7327\"/>\n<text text-anchor=\"middle\" x=\"86.3714\" y=\"-191.4431\" font-family=\"sans\" font-size=\"8.00\" fill=\"#c0c0c0\">FIRSTNAME</text>\n</g>\n<!-- 47 -->\n<g id=\"node48\" class=\"node\">\n<title>47</title>\n<polygon fill=\"#eeeeee\" stroke=\"transparent\" points=\"74.139,-252.8926 3.139,-252.8926 3.139,-233.8926 74.139,-233.8926 74.139,-252.8926\"/>\n<text text-anchor=\"middle\" x=\"38.639\" y=\"-240.8926\" font-family=\"sans\" font-size=\"10.00\" fill=\"#000000\">ПОЛЕЖОНОЙ</text>\n</g>\n<!-- 40&#45;&gt;47 -->\n<g id=\"edge13\" class=\"edge\">\n<title>40&#45;&gt;47</title>\n<path fill=\"none\" stroke=\"#c0c0c0\" d=\"M104.0573,-233.1026C95.8297,-234.3967 86.5896,-235.8501 77.7037,-237.2479\"/>\n<polygon fill=\"#c0c0c0\" stroke=\"#c0c0c0\" points=\"77.2489,-236.2564 74.4485,-237.7599 77.5752,-238.3309 77.2489,-236.2564\"/>\n<text text-anchor=\"middle\" x=\"80.1305\" y=\"-228.7752\" font-family=\"sans\" font-size=\"8.00\" fill=\"#c0c0c0\">LASTNAME</text>\n</g>\n<!-- 42 -->\n<g id=\"node43\" class=\"node\">\n<title>42</title>\n<polygon fill=\"#aec7e8\" stroke=\"transparent\" points=\"632.8009,-409.7846 597.8009,-409.7846 597.8009,-390.7846 632.8009,-390.7846 632.8009,-409.7846\"/>\n<text text-anchor=\"middle\" x=\"615.3009\" y=\"-397.7846\" font-family=\"sans\" font-size=\"10.00\" fill=\"#000000\">GEO</text>\n</g>\n<!-- 42&#45;&gt;12 -->\n<g id=\"edge28\" class=\"edge\">\n<title>42&#45;&gt;12</title>\n<path fill=\"none\" stroke=\"#c0c0c0\" d=\"M633.1783,-396.9572C641.9645,-395.3219 652.7848,-393.308 662.7614,-391.4512\"/>\n<polygon fill=\"#c0c0c0\" stroke=\"#c0c0c0\" points=\"663.07,-392.4618 665.8272,-390.8806 662.6857,-390.3973 663.07,-392.4618\"/>\n<text text-anchor=\"middle\" x=\"653.4698\" y=\"-387.8042\" font-family=\"sans\" font-size=\"8.00\" fill=\"#c0c0c0\">NAME</text>\n</g>\n<!-- 42&#45;&gt;16 -->\n<g id=\"edge35\" class=\"edge\">\n<title>42&#45;&gt;16</title>\n<path fill=\"none\" stroke=\"#c0c0c0\" d=\"M597.574,-407.5351C587.4479,-411.6769 574.5625,-416.9472 563.2967,-421.5551\"/>\n<polygon fill=\"#c0c0c0\" stroke=\"#c0c0c0\" points=\"562.8493,-420.6036 560.4701,-422.7112 563.6443,-422.5473 562.8493,-420.6036\"/>\n<text text-anchor=\"middle\" x=\"569.4354\" y=\"-408.1451\" font-family=\"sans\" font-size=\"8.00\" fill=\"#c0c0c0\">TYPE</text>\n</g>\n<!-- 43 -->\n<g id=\"node44\" class=\"node\">\n<title>43</title>\n<polygon fill=\"#aec7e8\" stroke=\"transparent\" points=\"228.4705,-353.4217 175.4705,-353.4217 175.4705,-334.4217 228.4705,-334.4217 228.4705,-353.4217\"/>\n<text text-anchor=\"middle\" x=\"201.9705\" y=\"-341.4217\" font-family=\"sans\" font-size=\"10.00\" fill=\"#000000\">PERSON</text>\n</g>\n<!-- 43&#45;&gt;20 -->\n<g id=\"edge36\" class=\"edge\">\n<title>43&#45;&gt;20</title>\n<path fill=\"none\" stroke=\"#c0c0c0\" d=\"M197.5415,-353.6709C190.2422,-369.7384 175.6958,-401.7581 167.6645,-419.4368\"/>\n<polygon fill=\"#c0c0c0\" stroke=\"#c0c0c0\" points=\"166.6236,-419.1895 166.3387,-422.3552 168.5356,-420.0581 166.6236,-419.1895\"/>\n<text text-anchor=\"middle\" x=\"161.103\" y=\"-389.1539\" font-family=\"sans\" font-size=\"8.00\" fill=\"#c0c0c0\">LASTNAME</text>\n</g>\n<!-- 43&#45;&gt;23 -->\n<g id=\"edge40\" class=\"edge\">\n<title>43&#45;&gt;23</title>\n<path fill=\"none\" stroke=\"#c0c0c0\" d=\"M202.7774,-334.1933C204.0045,-319.3982 206.3411,-291.2273 207.7064,-274.7669\"/>\n<polygon fill=\"#c0c0c0\" stroke=\"#c0c0c0\" points=\"208.7642,-274.7149 207.9658,-271.6384 206.6714,-274.5413 208.7642,-274.7149\"/>\n<text text-anchor=\"middle\" x=\"197.2419\" y=\"-307.0801\" font-family=\"sans\" font-size=\"8.00\" fill=\"#c0c0c0\">SEX</text>\n</g>\n<!-- 43&#45;&gt;34 -->\n<g id=\"edge24\" class=\"edge\">\n<title>43&#45;&gt;34</title>\n<path fill=\"none\" stroke=\"#c0c0c0\" d=\"M202.8716,-353.7492C204.4608,-371.0803 207.7599,-407.0598 209.5245,-426.3046\"/>\n<polygon fill=\"#c0c0c0\" stroke=\"#c0c0c0\" points=\"208.4951,-426.5781 209.8147,-429.4697 210.5863,-426.3863 208.4951,-426.5781\"/>\n<text text-anchor=\"middle\" x=\"194.1981\" y=\"-383.6269\" font-family=\"sans\" font-size=\"8.00\" fill=\"#c0c0c0\">FIRSTNAME</text>\n</g>\n<!-- 44 -->\n<g id=\"node45\" class=\"node\">\n<title>44</title>\n<polygon fill=\"#aec7e8\" stroke=\"transparent\" points=\"608,-352 567,-352 567,-333 608,-333 608,-352\"/>\n<text text-anchor=\"middle\" x=\"587.5\" y=\"-340\" font-family=\"sans\" font-size=\"10.00\" fill=\"#000000\">DATE</text>\n</g>\n<!-- 44&#45;&gt;1 -->\n<g id=\"edge45\" class=\"edge\">\n<title>44&#45;&gt;1</title>\n<path fill=\"none\" stroke=\"#c0c0c0\" d=\"M566.7196,-345.6047C565.3111,-345.8151 563.8857,-346.0281 562.4628,-346.2407\"/>\n<polygon fill=\"#c0c0c0\" stroke=\"#c0c0c0\" points=\"561.968,-345.2529 559.1561,-346.7347 562.2784,-347.3298 561.968,-345.2529\"/>\n<text text-anchor=\"middle\" x=\"559.0912\" y=\"-339.5227\" font-family=\"sans\" font-size=\"8.00\" fill=\"#c0c0c0\">YEAR</text>\n</g>\n<!-- 46 -->\n<g id=\"node47\" class=\"node\">\n<title>46</title>\n<polygon fill=\"#aec7e8\" stroke=\"transparent\" points=\"565,-215.4394 530,-215.4394 530,-196.4394 565,-196.4394 565,-215.4394\"/>\n<text text-anchor=\"middle\" x=\"547.5\" y=\"-203.4394\" font-family=\"sans\" font-size=\"10.00\" fill=\"#000000\">GEO</text>\n</g>\n<!-- 46&#45;&gt;2 -->\n<g id=\"edge48\" class=\"edge\">\n<title>46&#45;&gt;2</title>\n<path fill=\"none\" stroke=\"#c0c0c0\" d=\"M529.8468,-212.4983C528.2632,-213.0867 526.6439,-213.6883 525.0211,-214.2913\"/>\n<polygon fill=\"#c0c0c0\" stroke=\"#c0c0c0\" points=\"524.5498,-213.3462 522.1034,-215.3753 525.2813,-215.3147 524.5498,-213.3462\"/>\n<text text-anchor=\"middle\" x=\"516.4339\" y=\"-206.9948\" font-family=\"sans\" font-size=\"8.00\" fill=\"#c0c0c0\">NAME</text>\n</g>\n<!-- 46&#45;&gt;14 -->\n<g id=\"edge38\" class=\"edge\">\n<title>46&#45;&gt;14</title>\n<path fill=\"none\" stroke=\"#c0c0c0\" d=\"M559.5464,-215.7339C563.2282,-218.7274 567.315,-222.0502 571.1383,-225.1589\"/>\n<polygon fill=\"#c0c0c0\" stroke=\"#c0c0c0\" points=\"570.7448,-226.1922 573.7349,-227.2701 572.0696,-224.5628 570.7448,-226.1922\"/>\n<text text-anchor=\"middle\" x=\"576.3424\" y=\"-214.0464\" font-family=\"sans\" font-size=\"8.00\" fill=\"#c0c0c0\">NAME</text>\n</g>\n<!-- 46&#45;&gt;22 -->\n<g id=\"edge30\" class=\"edge\">\n<title>46&#45;&gt;22</title>\n<path fill=\"none\" stroke=\"#c0c0c0\" d=\"M549.1132,-196.137C550.3235,-188.7835 551.9925,-178.6421 553.3169,-170.5944\"/>\n<polygon fill=\"#c0c0c0\" stroke=\"#c0c0c0\" points=\"554.4099,-170.4186 553.8611,-167.2879 552.3378,-170.0775 554.4099,-170.4186\"/>\n<text text-anchor=\"middle\" x=\"540.2151\" y=\"-185.9657\" font-family=\"sans\" font-size=\"8.00\" fill=\"#c0c0c0\">TYPE</text>\n</g>\n<!-- 48 -->\n<g id=\"node49\" class=\"node\">\n<title>48</title>\n<polygon fill=\"#aec7e8\" stroke=\"transparent\" points=\"302.8545,-235.5838 249.8545,-235.5838 249.8545,-216.5838 302.8545,-216.5838 302.8545,-235.5838\"/>\n<text text-anchor=\"middle\" x=\"276.3545\" y=\"-223.5838\" font-family=\"sans\" font-size=\"10.00\" fill=\"#000000\">PERSON</text>\n</g>\n<!-- 48&#45;&gt;10 -->\n<g id=\"edge44\" class=\"edge\">\n<title>48&#45;&gt;10</title>\n<path fill=\"none\" stroke=\"#c0c0c0\" d=\"M286.274,-216.5513C298.2892,-205.0049 318.5225,-185.5611 331.4531,-173.135\"/>\n<polygon fill=\"#c0c0c0\" stroke=\"#c0c0c0\" points=\"332.1854,-173.8876 333.6209,-171.0518 330.7302,-172.3734 332.1854,-173.8876\"/>\n<text text-anchor=\"middle\" x=\"287.3635\" y=\"-197.4432\" font-family=\"sans\" font-size=\"8.00\" fill=\"#c0c0c0\">LASTNAME</text>\n</g>\n<!-- 48&#45;&gt;23 -->\n<g id=\"edge31\" class=\"edge\">\n<title>48&#45;&gt;23</title>\n<path fill=\"none\" stroke=\"#c0c0c0\" d=\"M258.2435,-235.688C249.4559,-240.348 238.8505,-245.972 229.7164,-250.8158\"/>\n<polygon fill=\"#c0c0c0\" stroke=\"#c0c0c0\" points=\"229.0911,-249.9588 226.9326,-252.292 230.075,-251.8141 229.0911,-249.9588\"/>\n<text text-anchor=\"middle\" x=\"235.98\" y=\"-245.8519\" font-family=\"sans\" font-size=\"8.00\" fill=\"#c0c0c0\">SEX</text>\n</g>\n<!-- 48&#45;&gt;36 -->\n<g id=\"edge17\" class=\"edge\">\n<title>48&#45;&gt;36</title>\n<path fill=\"none\" stroke=\"#c0c0c0\" d=\"M302.9158,-219.892C310.1352,-218.209 318.1068,-216.3507 325.8608,-214.5432\"/>\n<polygon fill=\"#c0c0c0\" stroke=\"#c0c0c0\" points=\"326.4845,-215.476 329.1678,-213.7723 326.0077,-213.4308 326.4845,-215.476\"/>\n<text text-anchor=\"middle\" x=\"338.3883\" y=\"-219.8176\" font-family=\"sans\" font-size=\"8.00\" fill=\"#c0c0c0\">FIRSTNAME</text>\n</g>\n<!-- 50 -->\n<g id=\"node51\" class=\"node\">\n<title>50</title>\n<polygon fill=\"#aec7e8\" stroke=\"transparent\" points=\"321.3749,-500 286.3749,-500 286.3749,-481 321.3749,-481 321.3749,-500\"/>\n<text text-anchor=\"middle\" x=\"303.8749\" y=\"-488\" font-family=\"sans\" font-size=\"10.00\" fill=\"#000000\">GEO</text>\n</g>\n<!-- 50&#45;&gt;26 -->\n<g id=\"edge32\" class=\"edge\">\n<title>50&#45;&gt;26</title>\n<path fill=\"none\" stroke=\"#c0c0c0\" d=\"M286.3605,-492.8761C281.9947,-493.4685 277.2117,-494.1174 272.5048,-494.7559\"/>\n<polygon fill=\"#c0c0c0\" stroke=\"#c0c0c0\" points=\"272.096,-493.7517 269.2644,-495.1956 272.3783,-495.8326 272.096,-493.7517\"/>\n<text text-anchor=\"middle\" x=\"273.9327\" y=\"-487.416\" font-family=\"sans\" font-size=\"8.00\" fill=\"#c0c0c0\">TYPE</text>\n</g>\n<!-- 50&#45;&gt;38 -->\n<g id=\"edge18\" class=\"edge\">\n<title>50&#45;&gt;38</title>\n<path fill=\"none\" stroke=\"#c0c0c0\" d=\"M321.592,-493.642C322.9412,-493.8812 324.329,-494.1273 325.7409,-494.3777\"/>\n<polygon fill=\"#c0c0c0\" stroke=\"#c0c0c0\" points=\"325.9348,-495.4784 329.0721,-494.9685 326.3015,-493.4107 325.9348,-495.4784\"/>\n<text text-anchor=\"middle\" x=\"334.6665\" y=\"-487.6098\" font-family=\"sans\" font-size=\"8.00\" fill=\"#c0c0c0\">NAME</text>\n</g>\n</g>\n</svg>\n"
          },
          "metadata": {
            "tags": []
          },
          "execution_count": 39
        }
      ]
    },
    {
      "cell_type": "markdown",
      "metadata": {
        "id": "vPznMV-l9bQi"
      },
      "source": [
        "Имена и фамилии не разбивает, но зато и титулы не отделяет. Также разное и место в одном контексте -- Черниговского и Удорского, например. Выделили Христианскую кровь сложной конструкции, хотя и отнесли её к разному."
      ]
    },
    {
      "cell_type": "code",
      "metadata": {
        "colab": {
          "base_uri": "https://localhost:8080/"
        },
        "id": "E9-wsFCkp274",
        "outputId": "27650374-92eb-431f-fe7e-6cb2417314dc"
      },
      "source": [
        "stanza_result(TEXT3)"
      ],
      "execution_count": 32,
      "outputs": [
        {
          "output_type": "stream",
          "text": [
            "2020-11-20 04:03:29 INFO: Loading these models for language: ru (Russian):\n",
            "=========================\n",
            "| Processor | Package   |\n",
            "-------------------------\n",
            "| tokenize  | syntagrus |\n",
            "| ner       | wikiner   |\n",
            "=========================\n",
            "\n",
            "2020-11-20 04:03:29 INFO: Use device: cpu\n",
            "2020-11-20 04:03:29 INFO: Loading: tokenize\n",
            "2020-11-20 04:03:29 INFO: Loading: ner\n",
            "2020-11-20 04:03:30 INFO: Done loading processors!\n"
          ],
          "name": "stderr"
        },
        {
          "output_type": "stream",
          "text": [
            "entity: Великого Государя\ttype: PER\n",
            "entity: Царя\ttype: PER\n",
            "entity: Великого Князя\ttype: PER\n",
            "entity: Василия Ивановича\ttype: PER\n",
            "entity: Руси Самодержца\ttype: PER\n",
            "entity: Владимирского\ttype: PER\n",
            "entity: Московского\ttype: MISC\n",
            "entity: Новгородского\ttype: MISC\n",
            "entity: Царя Казанского\ttype: PER\n",
            "entity: Царя Астраханского\ttype: PER\n",
            "entity: Царя Сибирского\ttype: PER\n",
            "entity: Государя Псковского\ttype: PER\n",
            "entity: Великого Князя \n",
            "Смоленского\ttype: LOC\n",
            "entity: Государя\ttype: PER\n",
            "entity: Великого Князя Новагорода\ttype: LOC\n",
            "entity: Низовской земли\ttype: LOC\n",
            "entity: Черниговского\ttype: MISC\n",
            "entity: Рязанского\ttype: MISC\n",
            "entity: Ростовского\ttype: MISC\n",
            "entity: Ярославского\ttype: MISC\n",
            "entity: Белозерского\ttype: LOC\n",
            "entity: Удорского\ttype: LOC\n",
            "entity: Обдорского\ttype: LOC\n",
            "entity: Кондийского\ttype: LOC\n",
            "entity: Северной страны\ttype: LOC\n",
            "entity: Повелителя\ttype: PER\n",
            "entity: Государя\ttype: PER\n",
            "entity: Карталинских\ttype: LOC\n",
            "entity: Грузинских Царей\ttype: LOC\n",
            "entity: Кабардинской земли\ttype: LOC\n",
            "entity: Черкасских\ttype: LOC\n",
            "entity: Горских Князей\ttype: LOC\n",
            "entity: Государя\ttype: PER\n",
            "entity: Обладателя\ttype: PER\n",
            "entity: Его Царского Величества\ttype: PER\n",
            "entity: Михаила Борисовича Шеина\ttype: PER\n",
            "entity: Оршу\ttype: LOC\n",
            "entity: Оршанскому\ttype: LOC\n",
            "entity: Андрею Ивановичу Сапеге\ttype: PER\n",
            "entity: Павликом Полежоным\ttype: PER\n",
            "entity: Король Сигизмунд\ttype: PER\n",
            "entity: Оршу\ttype: LOC\n",
            "entity: Государя\ttype: PER\n",
            "entity: Смоленской\ttype: LOC\n",
            "entity: Великого Государя\ttype: PER\n",
            "entity: Царя\ttype: PER\n",
            "entity: Великого Князя\ttype: PER\n",
            "entity: Василия Ивановича\ttype: PER\n",
            "entity: Русии Самодержца\ttype: PER\n",
            "entity: Москве\ttype: LOC\n",
            "entity: Короля\ttype: PER\n",
            "entity: Николай Олесницкий\ttype: PER\n",
            "entity: Александр Гонсевский\ttype: PER\n",
            "entity: Станислав Витовский\ttype: PER\n",
            "entity: Князь Ян Соколинский\ttype: PER\n",
            "entity: Великим Государем\ttype: PER\n",
            "entity: Королем Сигизмундом\ttype: PER\n",
            "entity: Государя\ttype: PER\n",
            "entity: Государя\ttype: PER\n",
            "entity: Самозванцем\ttype: PER\n",
            "entity: Государя\ttype: PER\n",
            "entity: Великого Государя\ttype: PER\n",
            "entity: Государю\ttype: PER\n",
            "entity: Королю Сигизмунду\ttype: PER\n",
            "entity: Государств вашего Государя\ttype: MISC\n",
            "entity: Великих Государей\ttype: PER\n",
            "entity: Христианскую кровь в Государств нашего Государя\ttype: MISC\n",
            "entity: Государя\ttype: PER\n",
            "entity: Великого \n",
            "Государя нашего\ttype: MISC\n",
            "entity: Его Царского Величества\ttype: PER\n",
            "entity: Смоленске\ttype: LOC\n",
            "entity: Августа 22 дня\ttype: MISC\n"
          ],
          "name": "stdout"
        }
      ]
    },
    {
      "cell_type": "markdown",
      "metadata": {
        "id": "XFEA5YA4-oKJ"
      },
      "source": [
        "Лучше не сравнивать этот результат с другими, ибо даже здесь лишние срабатывание на вполне частотные местоимения."
      ]
    },
    {
      "cell_type": "code",
      "metadata": {
        "colab": {
          "base_uri": "https://localhost:8080/"
        },
        "id": "ruz684-Sp2wH",
        "outputId": "7dd20309-87e0-4640-efa1-51f3dc3bd74d"
      },
      "source": [
        "polyglot_result(TEXT3)"
      ],
      "execution_count": 33,
      "outputs": [
        {
          "output_type": "stream",
          "text": [
            "Великого I-PER\n",
            "Великого I-PER\n",
            "Василия I-PER\n",
            "Руси I-LOC\n",
            "Владимирского I-LOC\n",
            "Казанского I-PER\n",
            "Сибирского I-PER\n",
            "Псковского I-PER\n",
            "Смоленского I-PER\n",
            "Болгарского I-LOC\n",
            "Новагорода I-PER\n",
            "Удорского I-LOC\n",
            "Обдорского I-LOC\n",
            "Северной I-LOC\n",
            "Михаила I-PER\n",
            "Оршу I-LOC\n",
            "Андрею I-PER\n",
            "Августа I-PER\n",
            "Павликом I-PER\n",
            "Сигизмунд I-PER\n",
            "Оршу I-LOC\n",
            "Смоленской I-LOC\n",
            "Великого I-PER\n",
            "Великого I-PER\n",
            "Василия I-PER\n",
            "Москве I-LOC\n",
            "Николай I-PER\n",
            "Александр I-PER\n",
            "Станислав I-PER\n",
            "Ян I-PER\n",
            "вашим I-PER\n",
            "Королем I-PER\n",
            "Великого I-PER\n",
            "Королю I-PER\n",
            "Великих I-LOC\n",
            "Писано I-PER\n",
            "Великого I-PER\n",
            "Смоленске I-LOC\n",
            "Августа I-PER\n"
          ],
          "name": "stdout"
        }
      ]
    },
    {
      "cell_type": "markdown",
      "metadata": {
        "id": "9_RDc2A1-7NF"
      },
      "source": [
        "DeepPavlov не воспринимает записи больше определённой длины, несмотря на всю тяжеловесность. Кажется важным обратить внимание на такой случай, как и на сбой в pullenty."
      ]
    },
    {
      "cell_type": "code",
      "metadata": {
        "colab": {
          "base_uri": "https://localhost:8080/",
          "height": 323
        },
        "id": "ZUhqrcEspzwO",
        "outputId": "7a232558-4249-4f9f-ad67-60ff8c707c32"
      },
      "source": [
        "deeppavlov_result(TEXT3)"
      ],
      "execution_count": 34,
      "outputs": [
        {
          "output_type": "error",
          "ename": "RuntimeError",
          "evalue": "ignored",
          "traceback": [
            "\u001b[0;31m---------------------------------------------------------------------------\u001b[0m",
            "\u001b[0;31mRuntimeError\u001b[0m                              Traceback (most recent call last)",
            "\u001b[0;32m<ipython-input-34-c07a4f7c8c16>\u001b[0m in \u001b[0;36m<module>\u001b[0;34m()\u001b[0m\n\u001b[0;32m----> 1\u001b[0;31m \u001b[0mdeeppavlov_result\u001b[0m\u001b[0;34m(\u001b[0m\u001b[0mTEXT3\u001b[0m\u001b[0;34m)\u001b[0m\u001b[0;34m\u001b[0m\u001b[0;34m\u001b[0m\u001b[0m\n\u001b[0m",
            "\u001b[0;32m<ipython-input-19-a515b58fff72>\u001b[0m in \u001b[0;36mdeeppavlov_result\u001b[0;34m(TEXT)\u001b[0m\n\u001b[1;32m      1\u001b[0m \u001b[0;32mdef\u001b[0m \u001b[0mdeeppavlov_result\u001b[0m\u001b[0;34m(\u001b[0m\u001b[0mTEXT\u001b[0m\u001b[0;34m)\u001b[0m\u001b[0;34m:\u001b[0m\u001b[0;34m\u001b[0m\u001b[0;34m\u001b[0m\u001b[0m\n\u001b[0;32m----> 2\u001b[0;31m     \u001b[0mresult\u001b[0m \u001b[0;34m=\u001b[0m \u001b[0mner_model\u001b[0m\u001b[0;34m(\u001b[0m\u001b[0;34m[\u001b[0m\u001b[0mTEXT\u001b[0m\u001b[0;34m]\u001b[0m\u001b[0;34m)\u001b[0m\u001b[0;34m\u001b[0m\u001b[0;34m\u001b[0m\u001b[0m\n\u001b[0m\u001b[1;32m      3\u001b[0m     \u001b[0;32mfor\u001b[0m \u001b[0mi\u001b[0m \u001b[0;32min\u001b[0m \u001b[0mrange\u001b[0m\u001b[0;34m(\u001b[0m\u001b[0mlen\u001b[0m\u001b[0;34m(\u001b[0m\u001b[0mresult\u001b[0m\u001b[0;34m[\u001b[0m\u001b[0;36m0\u001b[0m\u001b[0;34m]\u001b[0m\u001b[0;34m[\u001b[0m\u001b[0;36m0\u001b[0m\u001b[0;34m]\u001b[0m\u001b[0;34m)\u001b[0m\u001b[0;34m)\u001b[0m\u001b[0;34m:\u001b[0m\u001b[0;34m\u001b[0m\u001b[0;34m\u001b[0m\u001b[0m\n\u001b[1;32m      4\u001b[0m         \u001b[0;32mif\u001b[0m \u001b[0mresult\u001b[0m \u001b[0;34m[\u001b[0m\u001b[0;36m1\u001b[0m\u001b[0;34m]\u001b[0m\u001b[0;34m[\u001b[0m\u001b[0;36m0\u001b[0m\u001b[0;34m]\u001b[0m\u001b[0;34m[\u001b[0m\u001b[0mi\u001b[0m\u001b[0;34m]\u001b[0m \u001b[0;34m!=\u001b[0m \u001b[0;34m'O'\u001b[0m\u001b[0;34m:\u001b[0m\u001b[0;34m\u001b[0m\u001b[0;34m\u001b[0m\u001b[0m\n\u001b[1;32m      5\u001b[0m             \u001b[0mprint\u001b[0m\u001b[0;34m(\u001b[0m\u001b[0mresult\u001b[0m\u001b[0;34m[\u001b[0m\u001b[0;36m0\u001b[0m\u001b[0;34m]\u001b[0m\u001b[0;34m[\u001b[0m\u001b[0;36m0\u001b[0m\u001b[0;34m]\u001b[0m\u001b[0;34m[\u001b[0m\u001b[0mi\u001b[0m\u001b[0;34m]\u001b[0m\u001b[0;34m,\u001b[0m \u001b[0mresult\u001b[0m\u001b[0;34m[\u001b[0m\u001b[0;36m1\u001b[0m\u001b[0;34m]\u001b[0m\u001b[0;34m[\u001b[0m\u001b[0;36m0\u001b[0m\u001b[0;34m]\u001b[0m\u001b[0;34m[\u001b[0m\u001b[0mi\u001b[0m\u001b[0;34m]\u001b[0m\u001b[0;34m)\u001b[0m\u001b[0;34m\u001b[0m\u001b[0;34m\u001b[0m\u001b[0m\n",
            "\u001b[0;32m/usr/local/lib/python3.6/dist-packages/deeppavlov/core/common/chainer.py\u001b[0m in \u001b[0;36m__call__\u001b[0;34m(self, *args)\u001b[0m\n\u001b[1;32m    205\u001b[0m \u001b[0;34m\u001b[0m\u001b[0m\n\u001b[1;32m    206\u001b[0m     \u001b[0;32mdef\u001b[0m \u001b[0m__call__\u001b[0m\u001b[0;34m(\u001b[0m\u001b[0mself\u001b[0m\u001b[0;34m,\u001b[0m \u001b[0;34m*\u001b[0m\u001b[0margs\u001b[0m\u001b[0;34m)\u001b[0m\u001b[0;34m:\u001b[0m\u001b[0;34m\u001b[0m\u001b[0;34m\u001b[0m\u001b[0m\n\u001b[0;32m--> 207\u001b[0;31m         \u001b[0;32mreturn\u001b[0m \u001b[0mself\u001b[0m\u001b[0;34m.\u001b[0m\u001b[0m_compute\u001b[0m\u001b[0;34m(\u001b[0m\u001b[0;34m*\u001b[0m\u001b[0margs\u001b[0m\u001b[0;34m,\u001b[0m \u001b[0mparam_names\u001b[0m\u001b[0;34m=\u001b[0m\u001b[0mself\u001b[0m\u001b[0;34m.\u001b[0m\u001b[0min_x\u001b[0m\u001b[0;34m,\u001b[0m \u001b[0mpipe\u001b[0m\u001b[0;34m=\u001b[0m\u001b[0mself\u001b[0m\u001b[0;34m.\u001b[0m\u001b[0mpipe\u001b[0m\u001b[0;34m,\u001b[0m \u001b[0mtargets\u001b[0m\u001b[0;34m=\u001b[0m\u001b[0mself\u001b[0m\u001b[0;34m.\u001b[0m\u001b[0mout_params\u001b[0m\u001b[0;34m)\u001b[0m\u001b[0;34m\u001b[0m\u001b[0;34m\u001b[0m\u001b[0m\n\u001b[0m\u001b[1;32m    208\u001b[0m \u001b[0;34m\u001b[0m\u001b[0m\n\u001b[1;32m    209\u001b[0m     \u001b[0;34m@\u001b[0m\u001b[0mstaticmethod\u001b[0m\u001b[0;34m\u001b[0m\u001b[0;34m\u001b[0m\u001b[0m\n",
            "\u001b[0;32m/usr/local/lib/python3.6/dist-packages/deeppavlov/core/common/chainer.py\u001b[0m in \u001b[0;36m_compute\u001b[0;34m(***failed resolving arguments***)\u001b[0m\n\u001b[1;32m    228\u001b[0m                 \u001b[0mres\u001b[0m \u001b[0;34m=\u001b[0m \u001b[0mcomponent\u001b[0m\u001b[0;34m.\u001b[0m\u001b[0m__call__\u001b[0m\u001b[0;34m(\u001b[0m\u001b[0;34m**\u001b[0m\u001b[0mdict\u001b[0m\u001b[0;34m(\u001b[0m\u001b[0mzip\u001b[0m\u001b[0;34m(\u001b[0m\u001b[0min_keys\u001b[0m\u001b[0;34m,\u001b[0m \u001b[0mx\u001b[0m\u001b[0;34m)\u001b[0m\u001b[0;34m)\u001b[0m\u001b[0;34m)\u001b[0m\u001b[0;34m\u001b[0m\u001b[0;34m\u001b[0m\u001b[0m\n\u001b[1;32m    229\u001b[0m             \u001b[0;32melse\u001b[0m\u001b[0;34m:\u001b[0m\u001b[0;34m\u001b[0m\u001b[0;34m\u001b[0m\u001b[0m\n\u001b[0;32m--> 230\u001b[0;31m                 \u001b[0mres\u001b[0m \u001b[0;34m=\u001b[0m \u001b[0mcomponent\u001b[0m\u001b[0;34m.\u001b[0m\u001b[0m__call__\u001b[0m\u001b[0;34m(\u001b[0m\u001b[0;34m*\u001b[0m\u001b[0mx\u001b[0m\u001b[0;34m)\u001b[0m\u001b[0;34m\u001b[0m\u001b[0;34m\u001b[0m\u001b[0m\n\u001b[0m\u001b[1;32m    231\u001b[0m             \u001b[0;32mif\u001b[0m \u001b[0mlen\u001b[0m\u001b[0;34m(\u001b[0m\u001b[0mout_params\u001b[0m\u001b[0;34m)\u001b[0m \u001b[0;34m==\u001b[0m \u001b[0;36m1\u001b[0m\u001b[0;34m:\u001b[0m\u001b[0;34m\u001b[0m\u001b[0;34m\u001b[0m\u001b[0m\n\u001b[1;32m    232\u001b[0m                 \u001b[0mmem\u001b[0m\u001b[0;34m[\u001b[0m\u001b[0mout_params\u001b[0m\u001b[0;34m[\u001b[0m\u001b[0;36m0\u001b[0m\u001b[0;34m]\u001b[0m\u001b[0;34m]\u001b[0m \u001b[0;34m=\u001b[0m \u001b[0mres\u001b[0m\u001b[0;34m\u001b[0m\u001b[0;34m\u001b[0m\u001b[0m\n",
            "\u001b[0;32m/usr/local/lib/python3.6/dist-packages/deeppavlov/models/preprocessors/bert_preprocessor.py\u001b[0m in \u001b[0;36m__call__\u001b[0;34m(self, tokens, tags, **kwargs)\u001b[0m\n\u001b[1;32m    143\u001b[0m             \u001b[0;32mif\u001b[0m \u001b[0mself\u001b[0m\u001b[0;34m.\u001b[0m\u001b[0mmax_seq_length\u001b[0m \u001b[0;32mis\u001b[0m \u001b[0;32mnot\u001b[0m \u001b[0;32mNone\u001b[0m\u001b[0;34m:\u001b[0m\u001b[0;34m\u001b[0m\u001b[0;34m\u001b[0m\u001b[0m\n\u001b[1;32m    144\u001b[0m                 \u001b[0;32mif\u001b[0m \u001b[0mlen\u001b[0m\u001b[0;34m(\u001b[0m\u001b[0msw_toks\u001b[0m\u001b[0;34m)\u001b[0m \u001b[0;34m>\u001b[0m \u001b[0mself\u001b[0m\u001b[0;34m.\u001b[0m\u001b[0mmax_seq_length\u001b[0m\u001b[0;34m:\u001b[0m\u001b[0;34m\u001b[0m\u001b[0;34m\u001b[0m\u001b[0m\n\u001b[0;32m--> 145\u001b[0;31m                     raise RuntimeError(f\"input sequence after bert tokenization\"\n\u001b[0m\u001b[1;32m    146\u001b[0m                                        f\" shouldn't exceed {self.max_seq_length} tokens.\")\n\u001b[1;32m    147\u001b[0m             \u001b[0msubword_tokens\u001b[0m\u001b[0;34m.\u001b[0m\u001b[0mappend\u001b[0m\u001b[0;34m(\u001b[0m\u001b[0msw_toks\u001b[0m\u001b[0;34m)\u001b[0m\u001b[0;34m\u001b[0m\u001b[0;34m\u001b[0m\u001b[0m\n",
            "\u001b[0;31mRuntimeError\u001b[0m: input sequence after bert tokenization shouldn't exceed 512 tokens."
          ]
        }
      ]
    },
    {
      "cell_type": "markdown",
      "metadata": {
        "id": "97OApko4AO0d"
      },
      "source": [
        "## Метрики\n",
        "\n",
        "Большой соблазн использовать здесь Accuracy, конечно, однако для разных подходов и метрики должны опираться на разные вещи. Что, если pullenty связывает нам сущности, а одна из библиотек, тем не менее, связывать их не пытается, но выделяет лучше?\n",
        "Accuracy -- возможное и, наверное, относительно неплохое решение при двух условиях:\n",
        "1. Сравнивать необходимо не просто анализ в целом, а по категориям. Места отдельно, людей отдельно, организации отдельно. Иначе не так ясно видно, где именно проседает выбранный теггер.\n",
        "2. Возможно, будет лучше разбивать ошибки по категориям, чтобы понимать, где не отмечена сущность, где отмечена лишняя, где неправильно определены границы, а где не тот тип. \n",
        "3. Теоретический скорее вопрос. Идеалом, возможно, была бы многослойная разметка, где сущности накладываются друг на друга. Например, 'доцент МГУ' было бы разобрано как должность на одном уровне и как содержащее в себе организацию -- на другом. Но тогда структура полученных тегов будет достаточно сложной, хотя именно это и пытается сделать pullenty. Так вот, один из теггеров может склоняться скорее к одному уровню, а второй -- к другому, и даже одна и та же модель после обучения может иметь некоторые изменения именно в этом. Поэтому здесь нужно или размечать тренировочный датасет вариативно, или понять, какой именно уклон нам нужен. Тем не менее, мне кажется, этот аспект всё равно следует не выпускать из внимания.\n",
        "4. Ошибки необходимо учитывать и первого, и второго рода.\n",
        "\n",
        "В таком случае любая метрика, соответствующая этим параметрам, подойдёт. Естественно, качество оценивать именно на дневниках и выбирать ту метрику, которая при этом достаточно нересурсозатратна.\n",
        "\n",
        "\n"
      ]
    },
    {
      "cell_type": "markdown",
      "metadata": {
        "id": "tUaycTLEAO0e"
      },
      "source": [
        "## Итоги"
      ]
    },
    {
      "cell_type": "markdown",
      "metadata": {
        "id": "LUDzAebcAO0f"
      },
      "source": [
        "Для мастерской я вижу нескольку путей и неясных мест, и здесь попробую предложить варианты.\n",
        "1. Глубина разметки.  Хотим ли мы несколько уровней? Нужно ли, чтобы внутри отмеченного \"Александр Сергеевич Пушкин\" как единого человека содержалось то, что это имя, отчество и фамилия? Нужно ли выделить в конструкции из притяжательного имени и места и человека, и место? Нужна ли какая-то связь между тем и другим?\n",
        "2. Количество и обширность тегов. Хотим ли мы, чтобы выделялись только имена собственные, названия мест и время? Или мы хотим поставить в соответствие то, что Киевская Русь -- страна, а Куйбышев -- город? Нужны ли нам здесь должности и всяческие наименования людей?\n",
        "3. Некоторые из представленных решений имеют возможность дообучения. Таким образом, из собственных решений можно дообучать это или пытаться создать что-то из меньших частей кода? Или вообще применить то же приём, что при создании Наташи, когда более лёгкая модель обучалась на реультатах работы более тяжёлой.\n",
        "4. Насколько важны вес модели и скорость её работы?\n",
        "\n",
        "Что делать с ошибками?\n",
        "1. Дообучать (сложно)\n",
        "2. Выбрать в моделях категории, которые им удаются лучше всего, и для конкретной категории опираться на конкретную модель. (долго)\n",
        "3. Устроить голосование моделей по этим категориям! И так можно было бы, к примеру, выявить самые спорные места (и заодно пропустить места, в которых ошибаются разом все или большая часть)\n",
        "4. Учить собственную модель и страдать с ней (грустно)\n",
        "5. Попробовать показать модели больше метаинформации (тоже сложно и неоднозначно, больше шансов запутаться)\n",
        "6. Обучать её не абы как, а на выборке, сделанной случайно из разных годов, при этом распределение годов взять примерно как в корпусе. И разных авторов! (очевидно)\n",
        "\n",
        "В общем, одного хорошего однозначного решения, которое избавило бы нас от всех проблем сразу, не существует, но можно попробовать всего понемногу.\n"
      ]
    },
    {
      "cell_type": "markdown",
      "metadata": {
        "id": "y7CLxF_vx8r1"
      },
      "source": [
        "## Постскриптум.\n",
        "\n",
        "Тексты выбирались не только просмотром Прожито с помощью предлагаемых инструментов, но и чтением части дневников. \n",
        "Инструмент скачан, установлен и применяем, чему в подтверждение прикрепляется вторая тетрадка, не созданная с помощью колаба. \n",
        "Эксель конкретно на моём ноутбуке не слишком радуется объёму файла, зато Notepad чудесно и без вопросов его открывет. Собственно, поэтому и не прилагаются идентификаторы записей. Во-первых, тексты немного сокращены, во-вторых, все три записи находятся крайне легко. Здесь их извлечение не преставлено ради того, чтобы не загромождать тетрадку. \n",
        "Очень прошу извинить за длинные импорты и инсталлы, ибо в колабе их необходимо делать каждый раз.\n"
      ]
    }
  ]
}