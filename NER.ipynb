{
  "nbformat": 4,
  "nbformat_minor": 0,
  "metadata": {
    "kernelspec": {
      "display_name": "Python 3",
      "language": "python",
      "name": "python3"
    },
    "language_info": {
      "codemirror_mode": {
        "name": "ipython",
        "version": 3
      },
      "file_extension": ".py",
      "mimetype": "text/x-python",
      "name": "python",
      "nbconvert_exporter": "python",
      "pygments_lexer": "ipython3",
      "version": "3.7.4"
    },
    "colab": {
      "name": "NER.ipynb",
      "provenance": [],
      "include_colab_link": true
    }
  },
  "cells": [
    {
      "cell_type": "markdown",
      "metadata": {
        "id": "view-in-github",
        "colab_type": "text"
      },
      "source": [
        "<a href=\"https://colab.research.google.com/github/Veronika2311/prozhito_test/blob/main/NER.ipynb\" target=\"_parent\"><img src=\"https://colab.research.google.com/assets/colab-badge.svg\" alt=\"Open In Colab\"/></a>"
      ]
    },
    {
      "cell_type": "markdown",
      "metadata": {
        "id": "l_welFa6AO0N"
      },
      "source": [
        "# Прожито"
      ]
    },
    {
      "cell_type": "markdown",
      "metadata": {
        "id": "dwl-ehjHAO0N"
      },
      "source": [
        "Возьмите дамп «прожито»:\n",
        "\n",
        "https://www.dropbox.com/sh/8vfjjt8107sv9r3/AADOVR795M..\n",
        "\n",
        "Выберите из него небольшой когерентный кусочек при помощи тулзы для работы с дампом (https://github.com/kilomeow/prozhito-tools)\n",
        "\n",
        "Особенно интересно выбрать кусок максимально удаленный от сегодня или с по какой-то причине непохожим на сегодняшний интернет языком\n",
        "\n",
        "Расскажите коротко, почему вы выбрали такой кусок\n",
        "\n",
        "Разметьте его каким-то готовым NER решением\n",
        "\n",
        "Предложите подход к оценке и анализу полученной разметки. Чего вы ждёте от неё, какие машина допустила ошибки, как их может показаться можным исправить. Почему современный NER допускает такие ошибки? Что вы вообще думаете об этом и смежном?\n",
        "\n",
        "Если вдруг успеете, сделайте часть такого анализа."
      ]
    },
    {
      "cell_type": "markdown",
      "metadata": {
        "id": "yq6d_EH2AO0P"
      },
      "source": [
        "## Отрывок"
      ]
    },
    {
      "cell_type": "markdown",
      "metadata": {
        "id": "rE7m1qJPAO0P"
      },
      "source": [
        "Теггеры обучаются на разных данных, но в основном \"из коробки\" их целью не является разметка именно дневниковых записей (или же кхудожественной литературы). Наташа, к примеру, обучена на корпусе новостей. Соответственно, при разметке дневников может появиться сразу несколько проблем. \n",
        "1. Язык и синтаксис другой эпохи (в Прожито, и даже в нашем отрывке есть дневники с 17го века).\n",
        "2. Нетипичные сокращения и обозначения людей и мест буквально в ннесколько букв (а также разные обозначения одного и того же человека)\n",
        "3. Вышедшие из употребления названия, имена и аббревиатуры\n",
        "\n",
        "Поэтому подобрать ровно одну запись так, чтобы в ней проявлялись все эти отличительные черты, довольно сложно. Но можно, вероятно, взять несколько небольших отрывков с интересующими нас чертами и посмротреть на то, как они будут размечены."
      ]
    },
    {
      "cell_type": "code",
      "metadata": {
        "id": "7RZvs3n7AO0R"
      },
      "source": [
        "TEXT1 = '''Позавчера я сдал все дела и снова стал работать рядовым контролером. Заходил в ЭРО. Там мне выписали командировку в Москву, Житомир и Борисполь. \n",
        "Но когда я стал разговаривать с нач-ком ОТК, он своего согласия не дал. Я его все два дня уговорить пытался. А причина этому опять та, что Кравец остался за парторга \n",
        "цеха, а я буду снова за старшего, но в другой смене. Не хочется, но ничего не сделаешь.    \n",
        "Черт с ним! Лишь бы мне только отпуск в сентябре вырвать, да на пароходе скататься. И дом суметь перед отпуском отремонтировать.'''"
      ],
      "execution_count": 16,
      "outputs": []
    },
    {
      "cell_type": "code",
      "metadata": {
        "id": "tdIzmTp8egOP"
      },
      "source": [
        "TEXT2 = '''Я купила себе шёлковый шарфик для шубы и с нетерпением ждала вечера, хотя, в то же время, боялась, что Конст. Хр. будет со мной скучать. О чём я буду с ним говорить? \n",
        "Приехав домой из техникума, я стала торопливо собираться, т. к. времени осталось мало; погладила платье, сделала маникюр, причесалась и, вдруг, звонок. \n",
        "Шура пошёл открывать – это был Аджемов, он пришёл, чтобы предупредить меня, что вместо 20-го, ему удалось достать билеты на 28-е, а на сегодняшний вечер он взял билеты на «Бедную невесту» Островского. \n",
        "Я спешно пообедала, одела моё меховое манто, шарфик и шляпу, а так же свои перчатки с крагами (которые я вышила накануне ночью, так, что они вышли очень нарядными и элегантными, и приняли совсем дорогой вид). И, наконец, мы вышли. Аджемов был очень мил и внимателен. \n",
        "Мы доехали до Никитской пл., затем пересели на другой трамвай, причём К. Х. хотел, т. к. времени было много, обязательно пройтись пешком. Мы встали у Зоопарка и, пройдя мимо пруда, на котором каталась Кити Толстого, пошли к Краснопресненской заставе. \n",
        "К. Х. знал только приблизительно, где помещается театр, а я не знала вовсе, поэтому мы свернули раньше, чем следовало и попали в какие-то пустыри. Погода была тёплая и тихая, хотя уже начало подмораживать. \n",
        "Под ногами скрипел, недавно выпавший, снег. Луна, то закрывалась облаками, то появлялась вновь. Всё было тихо и безлюдно.'''"
      ],
      "execution_count": null,
      "outputs": []
    },
    {
      "cell_type": "code",
      "metadata": {
        "id": "bPU7ELCEE785"
      },
      "source": [
        "TEXT3 = '''Божиею милостью Великого Государя, Царя и Великого Князя, Василия Ивановича, всей Руси Самодержца, Владимирского, \n",
        "Московского, Новгородского, Царя Казанского, Царя Астраханского, Царя Сибирского, Государя Псковского и Великого Князя \n",
        "Смоленского, Болгарского и иных, Государя и Великого Князя Новагорода Низовской земли, Черниговского, Рязанского, \n",
        "Ростовского, Ярославского, Белозерского, Удорского, Обдорского, Кондийского и всей Северной страны Повелителя, \n",
        "Государя Северской земли, Карталинских и Грузинских Царей и Кабардинской земли, Черкасских и Горских Князей и иных \n",
        "многих государств Государя и Обладателя, Его Царского Величества от старшины и воеводы и наместника Смоленского, \n",
        "Михаила Борисовича Шеина, в Оршу, Оршанскому старосте Андрею Ивановичу Сапеге. Августа 22 дня писал ты ко мне в листе \n",
        "своем с посланными своими, с Павликом Полежоным, что Государь ваш, Король Сигизмунд, приехал в Оршу и чтобы мне уведомить \n",
        "тебя о своевольных людях Государя вашего, учинивших обиды везде на границе Смоленской. И я неоднократно прежде сего писал \n",
        "к тебе, когда у Великого Государя нашего Царя и Великого Князя, Василия Ивановича, всей Русии Самодержца, в Москве, \n",
        "были послы вашего Короля, Николай Олесницкий и Александр Гонсевский и гонцы Станислав Витовский и Князь Ян Соколинский, \n",
        "и постановили между Великим Государем вашим, Королем Сигизмундом, и между их великими Государствами союз и мир, утвердив \n",
        "его союзными грамотами и крестным целованием на том*,* чтобы в перемирное время разрыва и войны никому не начинать, а \n",
        "которые люди Государя вашего в государстве нашего Государя, с панами и ротмистрами и со множеством Польских и Литовских \n",
        "людей, опустошают вместе с Самозванцем земли Государя нашего и проливают Христианскую кровь, и всех бы тех людей, по \n",
        "общему согласию, из государств Великого Государя нашего вашему Государю, Королю Сигизмунду, вывести, и впредь, в перемирные \n",
        "годы, не пропускать никого военным обычаем из Государств вашего Государя, и обманщиков, которые изменнически называют себя \n",
        "потомками Великих Государей, не держать и никакого вспомоществования им не оказывать. И после того посольского постановления\n",
        "и утверждения, Польские и Литовские люди и доныне проливают Христианскую кровь в Государств нашего Государя и опустошают \n",
        "земли Государя нашего. А посланных твоих я отправил к тебе, не задерживая. Писано в Великого \n",
        "Государя нашего, Его Царского Величества, отчине, в городе Смоленске, 1609 года, Августа 22 дня.'''"
      ],
      "execution_count": 14,
      "outputs": []
    },
    {
      "cell_type": "markdown",
      "metadata": {
        "id": "tnUePPSjAO0R"
      },
      "source": [
        "\n"
      ]
    },
    {
      "cell_type": "markdown",
      "metadata": {
        "id": "MxivJqllAO0S"
      },
      "source": [
        "### Natasha"
      ]
    },
    {
      "cell_type": "markdown",
      "metadata": {
        "id": "VDNG_MNM1HAV"
      },
      "source": [
        "Наташа -- наверное, первое, что могло бы прийти в голову при мысли о распознавании именных сущностей для русского языка. Легче и быстрее, чем DeepPavlov, но при этом не слишком сильно должна уступать ему в точности как минимум на новостных корпусах. Стандартная трёхчастная разметка человек-место-организация, что, с одной сстороны, неплохо для стандартного определения точности, с другой -- часто у именованных сущностей более сложная структура, например, должность + имя или упоминание организации и нескольких её подразделений, которые тоже являются организациями (например, ФиКЛ ФГН НИУ ВШЭ). С третьей -- дата и время, если нам нужны и они тоже, никак не могут быть распознаны с помощью этой библиотеки.\n",
        "\n",
        "Поэтому можно предположить, что в некоторых случаях разметка может разбить одно длинное наименование на несколько или недоразметить слово из этого наименования, как это было в примерах в документации."
      ]
    },
    {
      "cell_type": "code",
      "metadata": {
        "colab": {
          "base_uri": "https://localhost:8080/"
        },
        "id": "wJLpRvKTBHpH",
        "outputId": "90864120-cffe-48cb-f1e9-754ee8e1c164"
      },
      "source": [
        "!pip install natasha"
      ],
      "execution_count": 10,
      "outputs": [
        {
          "output_type": "stream",
          "text": [
            "Requirement already satisfied: natasha in /usr/local/lib/python3.6/dist-packages (1.4.0)\n",
            "Requirement already satisfied: razdel>=0.5.0 in /usr/local/lib/python3.6/dist-packages (from natasha) (0.5.0)\n",
            "Requirement already satisfied: yargy>=0.14.0 in /usr/local/lib/python3.6/dist-packages (from natasha) (0.15.0)\n",
            "Requirement already satisfied: slovnet>=0.3.0 in /usr/local/lib/python3.6/dist-packages (from natasha) (0.5.0)\n",
            "Requirement already satisfied: pymorphy2 in /usr/local/lib/python3.6/dist-packages (from natasha) (0.8)\n",
            "Requirement already satisfied: navec>=0.9.0 in /usr/local/lib/python3.6/dist-packages (from natasha) (0.10.0)\n",
            "Requirement already satisfied: ipymarkup>=0.8.0 in /usr/local/lib/python3.6/dist-packages (from natasha) (0.9.0)\n",
            "Requirement already satisfied: numpy in /usr/local/lib/python3.6/dist-packages (from slovnet>=0.3.0->natasha) (1.18.0)\n",
            "Requirement already satisfied: pymorphy2-dicts<3.0,>=2.4 in /usr/local/lib/python3.6/dist-packages (from pymorphy2->natasha) (2.4.393442.3710985)\n",
            "Requirement already satisfied: docopt>=0.6 in /usr/local/lib/python3.6/dist-packages (from pymorphy2->natasha) (0.6.2)\n",
            "Requirement already satisfied: dawg-python>=0.7 in /usr/local/lib/python3.6/dist-packages (from pymorphy2->natasha) (0.7.2)\n",
            "Requirement already satisfied: intervaltree>=3 in /usr/local/lib/python3.6/dist-packages (from ipymarkup>=0.8.0->natasha) (3.1.0)\n",
            "Requirement already satisfied: sortedcontainers<3.0,>=2.0 in /usr/local/lib/python3.6/dist-packages (from intervaltree>=3->ipymarkup>=0.8.0->natasha) (2.2.2)\n"
          ],
          "name": "stdout"
        }
      ]
    },
    {
      "cell_type": "code",
      "metadata": {
        "id": "NDmWTSkmAO0S"
      },
      "source": [
        "from natasha import (\n",
        "    Segmenter,\n",
        "    MorphVocab,\n",
        "    \n",
        "    NewsEmbedding,\n",
        "    NewsMorphTagger,\n",
        "    NewsSyntaxParser,\n",
        "    NewsNERTagger,\n",
        "    \n",
        "    PER,\n",
        "    NamesExtractor,\n",
        "\n",
        "    Doc\n",
        ")\n",
        "segmenter = Segmenter()\n",
        "morph_vocab = MorphVocab()\n",
        "\n",
        "emb = NewsEmbedding()\n",
        "morph_tagger = NewsMorphTagger(emb)\n",
        "syntax_parser = NewsSyntaxParser(emb)\n",
        "ner_tagger = NewsNERTagger(emb)\n",
        "\n",
        "names_extractor = NamesExtractor(morph_vocab)"
      ],
      "execution_count": 11,
      "outputs": []
    },
    {
      "cell_type": "code",
      "metadata": {
        "id": "kY9Gm9TXAO0S"
      },
      "source": [
        "def natasha_result(TEXT):\n",
        "      doc = Doc(TEXT)\n",
        "      doc.segment(segmenter)\n",
        "      doc.tag_ner(ner_tagger)\n",
        "      display(doc.spans[:5])\n",
        "      doc.ner.print()"
      ],
      "execution_count": 12,
      "outputs": []
    },
    {
      "cell_type": "code",
      "metadata": {
        "colab": {
          "base_uri": "https://localhost:8080/",
          "height": 1000
        },
        "id": "-yc4xHmtBW2f",
        "outputId": "90f9edbd-94c8-4ba0-f808-228e3066c8f7"
      },
      "source": [
        "natasha_result(TEXT)"
      ],
      "execution_count": 15,
      "outputs": [
        {
          "output_type": "display_data",
          "data": {
            "text/plain": [
              "[DocSpan(start=58, stop=75, type='PER', text='Василия Ивановича', tokens=[...]),\n",
              " DocSpan(start=82, stop=86, type='LOC', text='Руси', tokens=[...]),\n",
              " DocSpan(start=87, stop=97, type='PER', text='Самодержца', tokens=[...]),\n",
              " DocSpan(start=99, stop=112, type='ORG', text='Владимирского', tokens=[...]),\n",
              " DocSpan(start=115, stop=126, type='ORG', text='Московского', tokens=[...])]"
            ]
          },
          "metadata": {
            "tags": []
          }
        },
        {
          "output_type": "stream",
          "text": [
            "Божиею милостью Великого Государя, Царя и Великого Князя, Василия \n",
            "                                                          PER─────\n",
            "Ивановича, всей Руси Самодержца, Владимирского, \n",
            "─────────       LOC─ PER───────  ORG──────────  \n",
            "Московского, Новгородского, Царя Казанского, Царя Астраханского, Царя \n",
            "ORG────────  LOC──────────  PER────────────  PER───────────────       \n",
            "Сибирского, Государя Псковского и Великого Князя \n",
            "            PER────────────────                  \n",
            "Смоленского, Болгарского и иных, Государя и Великого Князя Новагорода \n",
            "             LOC────────                                              \n",
            "Низовской земли, Черниговского, Рязанского, \n",
            "                 LOC──────────  LOC───────  \n",
            "Ростовского, Ярославского, Белозерского, Удорского, Обдорского, \n",
            "LOC────────  LOC─────────  LOC─────────  LOC──────  LOC───────  \n",
            "Кондийского и всей Северной страны Повелителя, \n",
            "LOC────────        LOC──────────── LOC───────  \n",
            "Государя Северской земли, Карталинских и Грузинских Царей и \n",
            "PER───────────────        LOC─────────   LOC─────────────   \n",
            "Кабардинской земли, Черкасских и Горских Князей и иных \n",
            "LOC───────────────  LOC───────                         \n",
            "многих государств Государя и Обладателя, Его Царского Величества от \n",
            "                  PER─────                                          \n",
            "старшины и воеводы и наместника Смоленского, \n",
            "                                ORG────────  \n",
            "Михаила Борисовича Шеина, в Оршу, Оршанскому старосте Андрею Ивановичу\n",
            "PER─────────────────────    LOC─  ORG──────────────── PER─────────────\n",
            " Сапеге. Августа 22 дня писал ты ко мне в листе \n",
            "───────                                         \n",
            "своем с посланными своими, с Павликом Полежоным, что Государь ваш, \n",
            "                             PER───────────────      PER─────      \n",
            "Король Сигизмунд, приехал в Оршу и чтобы мне уведомить \n",
            "PER─────────────            LOC─                       \n",
            "тебя о своевольных людях Государя вашего, учинивших обиды везде на \n",
            "границе Смоленской. И я неоднократно прежде сего писал \n",
            "        LOC───────                                     \n",
            "к тебе, когда у Великого Государя нашего Царя и Великого Князя, \n",
            "Василия Ивановича, всей Русии Самодержца, в Москве, \n",
            "PER──────────────       PER─────────────    LOC───  \n",
            "были послы вашего Короля, Николай Олесницкий и Александр Гонсевский и \n",
            "                  PER───  PER───────────────   PER─────────────────   \n",
            "гонцы Станислав Витовский и Князь Ян Соколинский, \n",
            "      PER────────────────   PER─────────────────  \n",
            "и постановили между Великим Государем вашим, Королем Сигизмундом, и \n",
            "между их великими Государствами союз и мир, утвердив \n",
            "                  LOC───────────────                 \n",
            "его союзными грамотами и крестным целованием на том*,* чтобы в \n",
            "перемирное время разрыва и войны никому не начинать, а \n",
            "которые люди Государя вашего в государстве нашего Государя, с панами и\n",
            "                                                  PER─────            \n",
            " ротмистрами и со множеством Польских и Литовских \n",
            "                             ORG─────   ORG───────\n",
            "людей, опустошают вместе с Самозванцем земли Государя нашего и \n",
            "─────                      PER────────                         \n",
            "проливают Христианскую кровь, и всех бы тех людей, по \n",
            "общему согласию, из государств Великого Государя нашего вашему \n",
            "Государю, Королю Сигизмунду, вывести, и впредь, в перемирные \n",
            "PER─────  PER──────────────                                  \n",
            "годы, не пропускать никого военным обычаем из Государств вашего \n",
            "                                              LOC───────        \n",
            "Государя, и обманщиков, которые изменнически называют себя \n",
            "PER─────                                                   \n",
            "потомками Великих Государей, не держать и никакого вспомоществования \n",
            "им не оказывать. И после того посольского постановления\n",
            "и утверждения, Польские и Литовские люди и доныне проливают \n",
            "               LOC─────                                     \n",
            "Христианскую кровь в Государств нашего Государя и опустошают \n",
            "                     LOC───────                              \n",
            "земли Государя нашего. А посланных твоих я отправил к тебе, не \n",
            "      LOC────────────                                          \n",
            "задерживая. Писано в Великого \n",
            "Государя нашего, Его Царского Величества, отчине, в городе Смоленске, \n",
            "                                                           LOC──────  \n",
            "1609 года, Августа 22 дня.\n"
          ],
          "name": "stdout"
        }
      ]
    },
    {
      "cell_type": "markdown",
      "metadata": {
        "id": "PJSUTi4xAO0S"
      },
      "source": [
        "### PullEnti"
      ]
    },
    {
      "cell_type": "markdown",
      "metadata": {
        "id": "Nz-i-Ju4zFOj"
      },
      "source": [
        "С одной стороны, много тегов. И нужных, и не очень нужных именно для дневниковых записей. Однако если просмотреть их бегло, то понятно, что записи в дневниках попадаются самой разной структуры, и где-то могли бы встретится, к примеру, телефоны. Однако в большей степени многие теги, возможно, если бы не были лишними здесь, то по крайней мере не являлись бы наиболее необходимыми. При этом плюсом данного разметчика является то, что кроме отдельных сущностей, он определяет и отношения между ними, так, что это не просто географический объект, но у него есть тип, и к этому же объекту првязываются разные именования одного и того же объекта, что может быть преимуществом и сделать разметку более удобной. "
      ]
    },
    {
      "cell_type": "code",
      "metadata": {
        "colab": {
          "base_uri": "https://localhost:8080/"
        },
        "id": "2Putgvd0EIXv",
        "outputId": "2a55e407-5f5d-49c4-9618-dba0477dc5bf"
      },
      "source": [
        "!pip install pullenti-wrapper\n",
        "!pip install graphviz"
      ],
      "execution_count": 30,
      "outputs": [
        {
          "output_type": "stream",
          "text": [
            "Requirement already satisfied: pullenti-wrapper in /usr/local/lib/python3.6/dist-packages (0.9.0)\n",
            "Requirement already satisfied: pullenti==3.23 in /usr/local/lib/python3.6/dist-packages (from pullenti-wrapper) (3.23)\n",
            "Requirement already satisfied: pullenti-client==0.6.0 in /usr/local/lib/python3.6/dist-packages (from pullenti-wrapper) (0.6.0)\n",
            "Requirement already satisfied: requests in /usr/local/lib/python3.6/dist-packages (from pullenti-client==0.6.0->pullenti-wrapper) (2.22.0)\n",
            "Requirement already satisfied: certifi>=2017.4.17 in /usr/local/lib/python3.6/dist-packages (from requests->pullenti-client==0.6.0->pullenti-wrapper) (2020.6.20)\n",
            "Requirement already satisfied: idna<2.9,>=2.5 in /usr/local/lib/python3.6/dist-packages (from requests->pullenti-client==0.6.0->pullenti-wrapper) (2.8)\n",
            "Requirement already satisfied: chardet<3.1.0,>=3.0.2 in /usr/local/lib/python3.6/dist-packages (from requests->pullenti-client==0.6.0->pullenti-wrapper) (3.0.4)\n",
            "Requirement already satisfied: urllib3!=1.25.0,!=1.25.1,<1.26,>=1.21.1 in /usr/local/lib/python3.6/dist-packages (from requests->pullenti-client==0.6.0->pullenti-wrapper) (1.24.3)\n",
            "Requirement already satisfied: graphviz in /usr/local/lib/python3.6/dist-packages (0.10.1)\n"
          ],
          "name": "stdout"
        }
      ]
    },
    {
      "cell_type": "code",
      "metadata": {
        "colab": {
          "base_uri": "https://localhost:8080/",
          "height": 824
        },
        "id": "prBqLB7ZAO0T",
        "outputId": "0432472e-6b4a-4c19-edf3-29377182b9e4"
      },
      "source": [
        "from pullenti_wrapper.processor import (\n",
        "    Processor,\n",
        "    MONEY,\n",
        "    URI,\n",
        "    PHONE,\n",
        "    DATE,\n",
        "    KEYWORD,\n",
        "    DEFINITION,\n",
        "    DENOMINATION,\n",
        "    MEASURE,\n",
        "    BANK,\n",
        "    GEO,\n",
        "    ADDRESS,\n",
        "    ORGANIZATION,\n",
        "    PERSON,\n",
        "    MAIL,\n",
        "    TRANSPORT,\n",
        "    DECREE,\n",
        "    INSTRUMENT,\n",
        "    TITLEPAGE,\n",
        "    BOOKLINK,\n",
        "    BUSINESS,\n",
        "    NAMEDENTITY,\n",
        "    WEAPON,\n",
        ")\n",
        "\n",
        "processor = Processor([PERSON, ORGANIZATION, GEO, DATE, MONEY])"
      ],
      "execution_count": 31,
      "outputs": [
        {
          "output_type": "execute_result",
          "data": {
            "text/plain": [
              "Graph(...)"
            ],
            "image/svg+xml": "<?xml version=\"1.0\" encoding=\"UTF-8\" standalone=\"no\"?>\n<!DOCTYPE svg PUBLIC \"-//W3C//DTD SVG 1.1//EN\"\n \"http://www.w3.org/Graphics/SVG/1.1/DTD/svg11.dtd\">\n<!-- Generated by graphviz version 2.40.1 (20161225.0304)\n -->\n<!-- Title: G Pages: 1 -->\n<svg width=\"677pt\" height=\"602pt\"\n viewBox=\"0.00 0.00 676.87 602.14\" xmlns=\"http://www.w3.org/2000/svg\" xmlns:xlink=\"http://www.w3.org/1999/xlink\">\n<g id=\"graph0\" class=\"graph\" transform=\"scale(1 1) rotate(0) translate(4 598.1357)\">\n<title>G</title>\n<polygon fill=\"#ffffff\" stroke=\"transparent\" points=\"-4,4 -4,-598.1357 672.8707,-598.1357 672.8707,4 -4,4\"/>\n<!-- 0 -->\n<g id=\"node1\" class=\"node\">\n<title>0</title>\n<polygon fill=\"#aec7e8\" stroke=\"transparent\" points=\"341.1724,-190.3188 306.1724,-190.3188 306.1724,-171.3188 341.1724,-171.3188 341.1724,-190.3188\"/>\n<text text-anchor=\"middle\" x=\"323.6724\" y=\"-178.3188\" font-family=\"sans\" font-size=\"10.00\" fill=\"#000000\">GEO</text>\n</g>\n<!-- 5 -->\n<g id=\"node6\" class=\"node\">\n<title>5</title>\n<polygon fill=\"#eeeeee\" stroke=\"transparent\" points=\"432.1724,-200.7178 349.1724,-200.7178 349.1724,-181.7178 432.1724,-181.7178 432.1724,-200.7178\"/>\n<text text-anchor=\"middle\" x=\"390.6724\" y=\"-188.7178\" font-family=\"sans\" font-size=\"10.00\" fill=\"#000000\">государство</text>\n</g>\n<!-- 0&#45;&gt;5 -->\n<g id=\"edge7\" class=\"edge\">\n<title>0&#45;&gt;5</title>\n<path fill=\"none\" stroke=\"#c0c0c0\" d=\"M341.2759,-183.551C342.8267,-183.7917 344.4368,-184.0416 346.0872,-184.2978\"/>\n<polygon fill=\"#c0c0c0\" stroke=\"#c0c0c0\" points=\"345.9722,-185.3424 349.0978,-184.765 346.2943,-183.2672 345.9722,-185.3424\"/>\n<text text-anchor=\"middle\" x=\"354.6816\" y=\"-177.5244\" font-family=\"sans\" font-size=\"8.00\" fill=\"#c0c0c0\">TYPE</text>\n</g>\n<!-- 6 -->\n<g id=\"node7\" class=\"node\">\n<title>6</title>\n<polygon fill=\"#eeeeee\" stroke=\"transparent\" points=\"347,-127 252,-127 252,-108 347,-108 347,-127\"/>\n<text text-anchor=\"middle\" x=\"299.5\" y=\"-115\" font-family=\"sans\" font-size=\"10.00\" fill=\"#000000\">КИЕВСКАЯ РУСЬ</text>\n</g>\n<!-- 0&#45;&gt;6 -->\n<g id=\"edge8\" class=\"edge\">\n<title>0&#45;&gt;6</title>\n<path fill=\"none\" stroke=\"#c0c0c0\" d=\"M320.0011,-171.202C315.8128,-160.2307 308.9478,-142.2482 304.3288,-130.1488\"/>\n<polygon fill=\"#c0c0c0\" stroke=\"#c0c0c0\" points=\"305.2568,-129.6355 303.2058,-127.2073 303.2949,-130.3845 305.2568,-129.6355\"/>\n<text text-anchor=\"middle\" x=\"301.165\" y=\"-153.2754\" font-family=\"sans\" font-size=\"8.00\" fill=\"#c0c0c0\">NAME</text>\n</g>\n<!-- 24 -->\n<g id=\"node25\" class=\"node\">\n<title>24</title>\n<polygon fill=\"#eeeeee\" stroke=\"transparent\" points=\"301.8948,-243.2861 260.8948,-243.2861 260.8948,-224.2861 301.8948,-224.2861 301.8948,-243.2861\"/>\n<text text-anchor=\"middle\" x=\"281.3948\" y=\"-231.2861\" font-family=\"sans\" font-size=\"10.00\" fill=\"#000000\">РУСЬ</text>\n</g>\n<!-- 0&#45;&gt;24 -->\n<g id=\"edge27\" class=\"edge\">\n<title>0&#45;&gt;24</title>\n<path fill=\"none\" stroke=\"#c0c0c0\" d=\"M315.918,-190.5338C309.0049,-199.1949 298.8475,-211.9206 291.3387,-221.3279\"/>\n<polygon fill=\"#c0c0c0\" stroke=\"#c0c0c0\" points=\"290.1508,-221.133 289.1,-224.1327 291.7921,-222.443 290.1508,-221.133\"/>\n<text text-anchor=\"middle\" x=\"292.6284\" y=\"-208.5309\" font-family=\"sans\" font-size=\"8.00\" fill=\"#c0c0c0\">NAME</text>\n</g>\n<!-- 1 -->\n<g id=\"node2\" class=\"node\">\n<title>1</title>\n<polygon fill=\"#aec7e8\" stroke=\"transparent\" points=\"238.029,-257.8998 203.029,-257.8998 203.029,-238.8998 238.029,-238.8998 238.029,-257.8998\"/>\n<text text-anchor=\"middle\" x=\"220.529\" y=\"-245.8998\" font-family=\"sans\" font-size=\"10.00\" fill=\"#000000\">GEO</text>\n</g>\n<!-- 8 -->\n<g id=\"node9\" class=\"node\">\n<title>8</title>\n<polygon fill=\"#eeeeee\" stroke=\"transparent\" points=\"205.5982,-180.7235 158.5982,-180.7235 158.5982,-161.7235 205.5982,-161.7235 205.5982,-180.7235\"/>\n<text text-anchor=\"middle\" x=\"182.0982\" y=\"-168.7235\" font-family=\"sans\" font-size=\"10.00\" fill=\"#000000\">город</text>\n</g>\n<!-- 1&#45;&gt;8 -->\n<g id=\"edge9\" class=\"edge\">\n<title>1&#45;&gt;8</title>\n<path fill=\"none\" stroke=\"#c0c0c0\" d=\"M215.6617,-238.6254C208.7693,-224.784 196.1547,-199.4516 188.5074,-184.0944\"/>\n<polygon fill=\"#c0c0c0\" stroke=\"#c0c0c0\" points=\"189.3246,-183.3798 187.0473,-181.1624 187.4447,-184.3159 189.3246,-183.3798\"/>\n<text text-anchor=\"middle\" x=\"191.0846\" y=\"-213.9599\" font-family=\"sans\" font-size=\"8.00\" fill=\"#c0c0c0\">TYPE</text>\n</g>\n<!-- 25 -->\n<g id=\"node26\" class=\"node\">\n<title>25</title>\n<polygon fill=\"#eeeeee\" stroke=\"transparent\" points=\"162.866,-289.9173 115.866,-289.9173 115.866,-270.9173 162.866,-270.9173 162.866,-289.9173\"/>\n<text text-anchor=\"middle\" x=\"139.366\" y=\"-277.9173\" font-family=\"sans\" font-size=\"10.00\" fill=\"#000000\">ПСКОВ</text>\n</g>\n<!-- 1&#45;&gt;25 -->\n<g id=\"edge28\" class=\"edge\">\n<title>1&#45;&gt;25</title>\n<path fill=\"none\" stroke=\"#c0c0c0\" d=\"M202.9179,-255.3471C192.1728,-259.5859 178.2243,-265.0883 166.1334,-269.858\"/>\n<polygon fill=\"#c0c0c0\" stroke=\"#c0c0c0\" points=\"165.5079,-268.9759 163.1026,-271.0536 166.2786,-270.9294 165.5079,-268.9759\"/>\n<text text-anchor=\"middle\" x=\"173.5256\" y=\"-265.2026\" font-family=\"sans\" font-size=\"8.00\" fill=\"#c0c0c0\">NAME</text>\n</g>\n<!-- 2 -->\n<g id=\"node3\" class=\"node\">\n<title>2</title>\n<polygon fill=\"#eeeeee\" stroke=\"transparent\" points=\"646.9851,-495.6834 593.9851,-495.6834 593.9851,-476.6834 646.9851,-476.6834 646.9851,-495.6834\"/>\n<text text-anchor=\"middle\" x=\"620.4851\" y=\"-483.6834\" font-family=\"sans\" font-size=\"10.00\" fill=\"#000000\">МИХАИЛ</text>\n</g>\n<!-- 3 -->\n<g id=\"node4\" class=\"node\">\n<title>3</title>\n<polygon fill=\"#eeeeee\" stroke=\"transparent\" points=\"41,-157.5862 0,-157.5862 0,-138.5862 41,-138.5862 41,-157.5862\"/>\n<text text-anchor=\"middle\" x=\"20.5\" y=\"-145.5862\" font-family=\"sans\" font-size=\"10.00\" fill=\"#000000\">ОРША</text>\n</g>\n<!-- 4 -->\n<g id=\"node5\" class=\"node\">\n<title>4</title>\n<polygon fill=\"#eeeeee\" stroke=\"transparent\" points=\"437,-134.3209 396,-134.3209 396,-115.3209 437,-115.3209 437,-134.3209\"/>\n<text text-anchor=\"middle\" x=\"416.5\" y=\"-122.3209\" font-family=\"sans\" font-size=\"10.00\" fill=\"#000000\">1609</text>\n</g>\n<!-- 7 -->\n<g id=\"node8\" class=\"node\">\n<title>7</title>\n<polygon fill=\"#eeeeee\" stroke=\"transparent\" points=\"336.2412,-393.1129 265.2412,-393.1129 265.2412,-374.1129 336.2412,-374.1129 336.2412,-393.1129\"/>\n<text text-anchor=\"middle\" x=\"300.7412\" y=\"-381.1129\" font-family=\"sans\" font-size=\"10.00\" fill=\"#000000\">НОВАГОРОД</text>\n</g>\n<!-- 9 -->\n<g id=\"node10\" class=\"node\">\n<title>9</title>\n<polygon fill=\"#eeeeee\" stroke=\"transparent\" points=\"251.4845,-369.0164 156.4845,-369.0164 156.4845,-350.0164 251.4845,-350.0164 251.4845,-369.0164\"/>\n<text text-anchor=\"middle\" x=\"203.9845\" y=\"-357.0164\" font-family=\"sans\" font-size=\"10.00\" fill=\"#000000\">великий князь</text>\n</g>\n<!-- 10 -->\n<g id=\"node11\" class=\"node\">\n<title>10</title>\n<polygon fill=\"#eeeeee\" stroke=\"transparent\" points=\"465.4994,-247.1022 418.4994,-247.1022 418.4994,-228.1022 465.4994,-228.1022 465.4994,-247.1022\"/>\n<text text-anchor=\"middle\" x=\"441.9994\" y=\"-235.1022\" font-family=\"sans\" font-size=\"10.00\" fill=\"#000000\">КНЯЗЬ</text>\n</g>\n<!-- 11 -->\n<g id=\"node12\" class=\"node\">\n<title>11</title>\n<polygon fill=\"#eeeeee\" stroke=\"transparent\" points=\"209,-582.1018 144,-582.1018 144,-563.1018 209,-563.1018 209,-582.1018\"/>\n<text text-anchor=\"middle\" x=\"176.5\" y=\"-570.1018\" font-family=\"sans\" font-size=\"10.00\" fill=\"#000000\">СМОЛЕНСК</text>\n</g>\n<!-- 12 -->\n<g id=\"node13\" class=\"node\">\n<title>12</title>\n<polygon fill=\"#eeeeee\" stroke=\"transparent\" points=\"623.888,-302.1666 570.888,-302.1666 570.888,-283.1666 623.888,-283.1666 623.888,-302.1666\"/>\n<text text-anchor=\"middle\" x=\"597.388\" y=\"-290.1666\" font-family=\"sans\" font-size=\"10.00\" fill=\"#000000\">АНДРЕЙ</text>\n</g>\n<!-- 13 -->\n<g id=\"node14\" class=\"node\">\n<title>13</title>\n<polygon fill=\"#eeeeee\" stroke=\"transparent\" points=\"572.6625,-284.015 519.6625,-284.015 519.6625,-265.015 572.6625,-265.015 572.6625,-284.015\"/>\n<text text-anchor=\"middle\" x=\"546.1625\" y=\"-272.015\" font-family=\"sans\" font-size=\"10.00\" fill=\"#000000\">САПЕГЕ</text>\n</g>\n<!-- 14 -->\n<g id=\"node15\" class=\"node\">\n<title>14</title>\n<polygon fill=\"#aec7e8\" stroke=\"transparent\" points=\"515.6187,-501.5128 462.6187,-501.5128 462.6187,-482.5128 515.6187,-482.5128 515.6187,-501.5128\"/>\n<text text-anchor=\"middle\" x=\"489.1187\" y=\"-489.5128\" font-family=\"sans\" font-size=\"10.00\" fill=\"#000000\">PERSON</text>\n</g>\n<!-- 22 -->\n<g id=\"node23\" class=\"node\">\n<title>22</title>\n<polygon fill=\"#eeeeee\" stroke=\"transparent\" points=\"501.0052,-594.1357 448.0052,-594.1357 448.0052,-575.1357 501.0052,-575.1357 501.0052,-594.1357\"/>\n<text text-anchor=\"middle\" x=\"474.5052\" y=\"-582.1357\" font-family=\"sans\" font-size=\"10.00\" fill=\"#000000\">ПАВЛИК</text>\n</g>\n<!-- 14&#45;&gt;22 -->\n<g id=\"edge10\" class=\"edge\">\n<title>14&#45;&gt;22</title>\n<path fill=\"none\" stroke=\"#c0c0c0\" d=\"M487.6099,-501.5762C484.9627,-518.3543 479.482,-553.0922 476.5162,-571.8898\"/>\n<polygon fill=\"#c0c0c0\" stroke=\"#c0c0c0\" points=\"475.4582,-571.8585 476.0278,-574.9855 477.5325,-572.1859 475.4582,-571.8585\"/>\n<text text-anchor=\"middle\" x=\"458.063\" y=\"-539.333\" font-family=\"sans\" font-size=\"8.00\" fill=\"#c0c0c0\">FIRSTNAME</text>\n</g>\n<!-- 29 -->\n<g id=\"node30\" class=\"node\">\n<title>29</title>\n<polygon fill=\"#eeeeee\" stroke=\"transparent\" points=\"476.2521,-417.1094 435.2521,-417.1094 435.2521,-398.1094 476.2521,-398.1094 476.2521,-417.1094\"/>\n<text text-anchor=\"middle\" x=\"455.7521\" y=\"-405.1094\" font-family=\"sans\" font-size=\"10.00\" fill=\"#000000\">MALE</text>\n</g>\n<!-- 14&#45;&gt;29 -->\n<g id=\"edge38\" class=\"edge\">\n<title>14&#45;&gt;29</title>\n<path fill=\"none\" stroke=\"#c0c0c0\" d=\"M485.2911,-482.3307C479.2068,-466.9399 467.3343,-436.9075 460.6423,-419.9796\"/>\n<polygon fill=\"#c0c0c0\" stroke=\"#c0c0c0\" points=\"461.6145,-419.5825 459.535,-417.1786 459.6615,-420.3546 461.6145,-419.5825\"/>\n<text text-anchor=\"middle\" x=\"464.9667\" y=\"-453.7551\" font-family=\"sans\" font-size=\"8.00\" fill=\"#c0c0c0\">SEX</text>\n</g>\n<!-- 45 -->\n<g id=\"node46\" class=\"node\">\n<title>45</title>\n<polygon fill=\"#eeeeee\" stroke=\"transparent\" points=\"555.9408,-587.7808 484.9408,-587.7808 484.9408,-568.7808 555.9408,-568.7808 555.9408,-587.7808\"/>\n<text text-anchor=\"middle\" x=\"520.4408\" y=\"-575.7808\" font-family=\"sans\" font-size=\"10.00\" fill=\"#000000\">ПОЛЕЖОНОЙ</text>\n</g>\n<!-- 14&#45;&gt;45 -->\n<g id=\"edge33\" class=\"edge\">\n<title>14&#45;&gt;45</title>\n<path fill=\"none\" stroke=\"#c0c0c0\" d=\"M492.5904,-501.5746C498.2819,-517.2502 509.5943,-548.4071 515.9097,-565.8012\"/>\n<polygon fill=\"#c0c0c0\" stroke=\"#c0c0c0\" points=\"514.9427,-566.2146 516.9535,-568.6761 516.9166,-565.4979 514.9427,-566.2146\"/>\n<text text-anchor=\"middle\" x=\"482.7501\" y=\"-527.2879\" font-family=\"sans\" font-size=\"8.00\" fill=\"#c0c0c0\">LASTNAME</text>\n</g>\n<!-- 46 -->\n<g id=\"node47\" class=\"node\">\n<title>46</title>\n<polygon fill=\"#eeeeee\" stroke=\"transparent\" points=\"593.7367,-560.3789 522.7367,-560.3789 522.7367,-541.3789 593.7367,-541.3789 593.7367,-560.3789\"/>\n<text text-anchor=\"middle\" x=\"558.2367\" y=\"-548.3789\" font-family=\"sans\" font-size=\"10.00\" fill=\"#000000\">ПОЛЕЖОНЫМ</text>\n</g>\n<!-- 14&#45;&gt;46 -->\n<g id=\"edge32\" class=\"edge\">\n<title>14&#45;&gt;46</title>\n<path fill=\"none\" stroke=\"#c0c0c0\" d=\"M500.5322,-501.7333C512.6101,-512.0198 531.6685,-528.2513 544.5464,-539.2191\"/>\n<polygon fill=\"#c0c0c0\" stroke=\"#c0c0c0\" points=\"544.0709,-540.1934 547.0357,-541.3392 545.4325,-538.5946 544.0709,-540.1934\"/>\n<text text-anchor=\"middle\" x=\"501.0393\" y=\"-514.0762\" font-family=\"sans\" font-size=\"8.00\" fill=\"#c0c0c0\">LASTNAME</text>\n</g>\n<!-- 15 -->\n<g id=\"node16\" class=\"node\">\n<title>15</title>\n<polygon fill=\"#aec7e8\" stroke=\"transparent\" points=\"205.3849,-96.7942 170.3849,-96.7942 170.3849,-77.7942 205.3849,-77.7942 205.3849,-96.7942\"/>\n<text text-anchor=\"middle\" x=\"187.8849\" y=\"-84.7942\" font-family=\"sans\" font-size=\"10.00\" fill=\"#000000\">GEO</text>\n</g>\n<!-- 15&#45;&gt;8 -->\n<g id=\"edge26\" class=\"edge\">\n<title>15&#45;&gt;8</title>\n<path fill=\"none\" stroke=\"#c0c0c0\" d=\"M187.2211,-96.9219C186.1746,-112.0998 184.1408,-141.5974 182.9752,-158.5028\"/>\n<polygon fill=\"#c0c0c0\" stroke=\"#c0c0c0\" points=\"181.9132,-158.6429 182.7542,-161.7081 184.0082,-158.7874 181.9132,-158.6429\"/>\n<text text-anchor=\"middle\" x=\"174.0982\" y=\"-130.3124\" font-family=\"sans\" font-size=\"8.00\" fill=\"#c0c0c0\">TYPE</text>\n</g>\n<!-- 26 -->\n<g id=\"node27\" class=\"node\">\n<title>26</title>\n<polygon fill=\"#eeeeee\" stroke=\"transparent\" points=\"201.1312,-19 148.1312,-19 148.1312,0 201.1312,0 201.1312,-19\"/>\n<text text-anchor=\"middle\" x=\"174.6312\" y=\"-7\" font-family=\"sans\" font-size=\"10.00\" fill=\"#000000\">МОСКВА</text>\n</g>\n<!-- 15&#45;&gt;26 -->\n<g id=\"edge41\" class=\"edge\">\n<title>15&#45;&gt;26</title>\n<path fill=\"none\" stroke=\"#c0c0c0\" d=\"M186.2597,-77.7551C183.875,-63.7575 179.4242,-37.633 176.7744,-22.08\"/>\n<polygon fill=\"#c0c0c0\" stroke=\"#c0c0c0\" points=\"177.8087,-21.8981 176.2696,-19.1171 175.7385,-22.2509 177.8087,-21.8981\"/>\n<text text-anchor=\"middle\" x=\"170.5171\" y=\"-52.5176\" font-family=\"sans\" font-size=\"8.00\" fill=\"#c0c0c0\">NAME</text>\n</g>\n<!-- 16 -->\n<g id=\"node17\" class=\"node\">\n<title>16</title>\n<polygon fill=\"#eeeeee\" stroke=\"transparent\" points=\"434.832,-273.4738 369.832,-273.4738 369.832,-254.4738 434.832,-254.4738 434.832,-273.4738\"/>\n<text text-anchor=\"middle\" x=\"402.332\" y=\"-261.4738\" font-family=\"sans\" font-size=\"10.00\" fill=\"#000000\">ИВАНОВИЧ</text>\n</g>\n<!-- 17 -->\n<g id=\"node18\" class=\"node\">\n<title>17</title>\n<polygon fill=\"#eeeeee\" stroke=\"transparent\" points=\"387.9004,-298.0817 316.9004,-298.0817 316.9004,-279.0817 387.9004,-279.0817 387.9004,-298.0817\"/>\n<text text-anchor=\"middle\" x=\"352.4004\" y=\"-286.0817\" font-family=\"sans\" font-size=\"10.00\" fill=\"#000000\">НИЗОВСКОЙ</text>\n</g>\n<!-- 18 -->\n<g id=\"node19\" class=\"node\">\n<title>18</title>\n<polygon fill=\"#eeeeee\" stroke=\"transparent\" points=\"646.7877,-448.4198 569.7877,-448.4198 569.7877,-429.4198 646.7877,-429.4198 646.7877,-448.4198\"/>\n<text text-anchor=\"middle\" x=\"608.2877\" y=\"-436.4198\" font-family=\"sans\" font-size=\"10.00\" fill=\"#000000\">ОЛЕСНИЦКИЙ</text>\n</g>\n<!-- 19 -->\n<g id=\"node20\" class=\"node\">\n<title>19</title>\n<polygon fill=\"#eeeeee\" stroke=\"transparent\" points=\"472.7976,-589.8183 395.7976,-589.8183 395.7976,-570.8183 472.7976,-570.8183 472.7976,-589.8183\"/>\n<text text-anchor=\"middle\" x=\"434.2976\" y=\"-577.8183\" font-family=\"sans\" font-size=\"10.00\" fill=\"#000000\">ГОНСЕВСКИЙ</text>\n</g>\n<!-- 20 -->\n<g id=\"node21\" class=\"node\">\n<title>20</title>\n<polygon fill=\"#aec7e8\" stroke=\"transparent\" points=\"473.6607,-339.8467 420.6607,-339.8467 420.6607,-320.8467 473.6607,-320.8467 473.6607,-339.8467\"/>\n<text text-anchor=\"middle\" x=\"447.1607\" y=\"-327.8467\" font-family=\"sans\" font-size=\"10.00\" fill=\"#000000\">PERSON</text>\n</g>\n<!-- 20&#45;&gt;10 -->\n<g id=\"edge13\" class=\"edge\">\n<title>20&#45;&gt;10</title>\n<path fill=\"none\" stroke=\"#c0c0c0\" d=\"M446.6278,-320.7707C445.6929,-303.9706 443.7571,-269.1871 442.7097,-250.3649\"/>\n<polygon fill=\"#c0c0c0\" stroke=\"#c0c0c0\" points=\"443.7523,-250.202 442.5371,-247.265 441.6556,-250.3188 443.7523,-250.202\"/>\n<text text-anchor=\"middle\" x=\"423.1687\" y=\"-288.1678\" font-family=\"sans\" font-size=\"8.00\" fill=\"#c0c0c0\">LASTNAME</text>\n</g>\n<!-- 20&#45;&gt;16 -->\n<g id=\"edge4\" class=\"edge\">\n<title>20&#45;&gt;16</title>\n<path fill=\"none\" stroke=\"#c0c0c0\" d=\"M440.7379,-320.8371C432.9052,-309.2401 419.6362,-289.5941 410.9288,-276.702\"/>\n<polygon fill=\"#c0c0c0\" stroke=\"#c0c0c0\" points=\"411.585,-275.7976 409.0357,-273.8992 409.8448,-276.973 411.585,-275.7976\"/>\n<text text-anchor=\"middle\" x=\"399.3333\" y=\"-301.3696\" font-family=\"sans\" font-size=\"8.00\" fill=\"#c0c0c0\">MIDDLENAME</text>\n</g>\n<!-- 20&#45;&gt;29 -->\n<g id=\"edge42\" class=\"edge\">\n<title>20&#45;&gt;29</title>\n<path fill=\"none\" stroke=\"#c0c0c0\" d=\"M448.2488,-340.1321C449.7768,-353.8734 452.5628,-378.9279 454.2763,-394.3377\"/>\n<polygon fill=\"#c0c0c0\" stroke=\"#c0c0c0\" points=\"453.2705,-394.7939 454.6457,-397.6594 455.3576,-394.5617 453.2705,-394.7939\"/>\n<text text-anchor=\"middle\" x=\"443.2626\" y=\"-369.8349\" font-family=\"sans\" font-size=\"8.00\" fill=\"#c0c0c0\">SEX</text>\n</g>\n<!-- 32 -->\n<g id=\"node33\" class=\"node\">\n<title>32</title>\n<polygon fill=\"#eeeeee\" stroke=\"transparent\" points=\"515.1254,-260.8399 456.1254,-260.8399 456.1254,-241.8399 515.1254,-241.8399 515.1254,-260.8399\"/>\n<text text-anchor=\"middle\" x=\"485.6254\" y=\"-248.8399\" font-family=\"sans\" font-size=\"10.00\" fill=\"#000000\">ВАСИЛИЙ</text>\n</g>\n<!-- 20&#45;&gt;32 -->\n<g id=\"edge39\" class=\"edge\">\n<title>20&#45;&gt;32</title>\n<path fill=\"none\" stroke=\"#c0c0c0\" d=\"M451.8773,-320.6589C458.7983,-306.4431 471.7153,-279.9114 479.4053,-264.1161\"/>\n<polygon fill=\"#c0c0c0\" stroke=\"#c0c0c0\" points=\"480.5011,-264.2639 480.8703,-261.107 478.613,-263.3447 480.5011,-264.2639\"/>\n<text text-anchor=\"middle\" x=\"489.6413\" y=\"-294.9875\" font-family=\"sans\" font-size=\"8.00\" fill=\"#c0c0c0\">FIRSTNAME</text>\n</g>\n<!-- 21 -->\n<g id=\"node22\" class=\"node\">\n<title>21</title>\n<polygon fill=\"#aec7e8\" stroke=\"transparent\" points=\"330.88,-323.0569 229.88,-323.0569 229.88,-304.0569 330.88,-304.0569 330.88,-323.0569\"/>\n<text text-anchor=\"middle\" x=\"280.38\" y=\"-311.0569\" font-family=\"sans\" font-size=\"10.00\" fill=\"#000000\">PERSONPROPERTY</text>\n</g>\n<!-- 21&#45;&gt;1 -->\n<g id=\"edge23\" class=\"edge\">\n<title>21&#45;&gt;1</title>\n<path fill=\"none\" stroke=\"#c0c0c0\" d=\"M271.5488,-303.9427C260.9402,-292.3936 243.1357,-273.0106 231.6132,-260.4666\"/>\n<polygon fill=\"#c0c0c0\" stroke=\"#c0c0c0\" points=\"232.1993,-259.5525 229.3965,-258.0534 230.6527,-260.9731 232.1993,-259.5525\"/>\n<text text-anchor=\"middle\" x=\"243.581\" y=\"-284.8047\" font-family=\"sans\" font-size=\"8.00\" fill=\"#c0c0c0\">REF</text>\n</g>\n<!-- 21&#45;&gt;9 -->\n<g id=\"edge15\" class=\"edge\">\n<title>21&#45;&gt;9</title>\n<path fill=\"none\" stroke=\"#c0c0c0\" d=\"M264.5508,-323.0797C252.3613,-330.4129 235.4796,-340.569 222.6347,-348.2964\"/>\n<polygon fill=\"#c0c0c0\" stroke=\"#c0c0c0\" points=\"221.8228,-347.5594 219.7934,-350.0057 222.9054,-349.3589 221.8228,-347.5594\"/>\n<text text-anchor=\"middle\" x=\"232.5928\" y=\"-338.288\" font-family=\"sans\" font-size=\"8.00\" fill=\"#c0c0c0\">NAME</text>\n</g>\n<!-- 23 -->\n<g id=\"node24\" class=\"node\">\n<title>23</title>\n<polygon fill=\"#aec7e8\" stroke=\"transparent\" points=\"409.6827,-436.4225 356.6827,-436.4225 356.6827,-417.4225 409.6827,-417.4225 409.6827,-436.4225\"/>\n<text text-anchor=\"middle\" x=\"383.1827\" y=\"-424.4225\" font-family=\"sans\" font-size=\"10.00\" fill=\"#000000\">PERSON</text>\n</g>\n<!-- 23&#45;&gt;29 -->\n<g id=\"edge47\" class=\"edge\">\n<title>23&#45;&gt;29</title>\n<path fill=\"none\" stroke=\"#c0c0c0\" d=\"M409.7928,-419.8407C417.0134,-417.9191 424.7854,-415.8507 431.8468,-413.9714\"/>\n<polygon fill=\"#c0c0c0\" stroke=\"#c0c0c0\" points=\"432.1969,-414.9649 434.8259,-413.1786 431.6567,-412.9355 432.1969,-414.9649\"/>\n<text text-anchor=\"middle\" x=\"412.8198\" y=\"-410.506\" font-family=\"sans\" font-size=\"8.00\" fill=\"#c0c0c0\">SEX</text>\n</g>\n<!-- 40 -->\n<g id=\"node41\" class=\"node\">\n<title>40</title>\n<polygon fill=\"#eeeeee\" stroke=\"transparent\" points=\"310.6252,-457.5062 281.6252,-457.5062 281.6252,-438.5062 310.6252,-438.5062 310.6252,-457.5062\"/>\n<text text-anchor=\"middle\" x=\"296.1252\" y=\"-445.5062\" font-family=\"sans\" font-size=\"10.00\" fill=\"#000000\">ЯН</text>\n</g>\n<!-- 23&#45;&gt;40 -->\n<g id=\"edge34\" class=\"edge\">\n<title>23&#45;&gt;40</title>\n<path fill=\"none\" stroke=\"#c0c0c0\" d=\"M356.5895,-433.3629C342.6681,-436.7344 326.0086,-440.769 313.705,-443.7487\"/>\n<polygon fill=\"#c0c0c0\" stroke=\"#c0c0c0\" points=\"313.3437,-442.7558 310.6752,-444.4825 313.8381,-444.7968 313.3437,-442.7558\"/>\n<text text-anchor=\"middle\" x=\"311.1473\" y=\"-432.1558\" font-family=\"sans\" font-size=\"8.00\" fill=\"#c0c0c0\">FIRSTNAME</text>\n</g>\n<!-- 51 -->\n<g id=\"node52\" class=\"node\">\n<title>51</title>\n<polygon fill=\"#eeeeee\" stroke=\"transparent\" points=\"352.4269,-504.2742 269.4269,-504.2742 269.4269,-485.2742 352.4269,-485.2742 352.4269,-504.2742\"/>\n<text text-anchor=\"middle\" x=\"310.9269\" y=\"-492.2742\" font-family=\"sans\" font-size=\"10.00\" fill=\"#000000\">СОКОЛИНСКИЙ</text>\n</g>\n<!-- 23&#45;&gt;51 -->\n<g id=\"edge29\" class=\"edge\">\n<title>23&#45;&gt;51</title>\n<path fill=\"none\" stroke=\"#c0c0c0\" d=\"M372.8302,-436.644C359.8455,-448.8372 337.5921,-469.7343 323.6019,-482.8718\"/>\n<polygon fill=\"#c0c0c0\" stroke=\"#c0c0c0\" points=\"322.7283,-482.2517 321.2602,-485.0708 324.1659,-483.7825 322.7283,-482.2517\"/>\n<text text-anchor=\"middle\" x=\"326.716\" y=\"-462.3579\" font-family=\"sans\" font-size=\"8.00\" fill=\"#c0c0c0\">LASTNAME</text>\n</g>\n<!-- 27 -->\n<g id=\"node28\" class=\"node\">\n<title>27</title>\n<polygon fill=\"#eeeeee\" stroke=\"transparent\" points=\"646.4431,-381.509 587.4431,-381.509 587.4431,-362.509 646.4431,-362.509 646.4431,-381.509\"/>\n<text text-anchor=\"middle\" x=\"616.9431\" y=\"-369.509\" font-family=\"sans\" font-size=\"10.00\" fill=\"#000000\">НИКОЛАЙ</text>\n</g>\n<!-- 28 -->\n<g id=\"node29\" class=\"node\">\n<title>28</title>\n<polygon fill=\"#aec7e8\" stroke=\"transparent\" points=\"461.3519,-492.2104 408.3519,-492.2104 408.3519,-473.2104 461.3519,-473.2104 461.3519,-492.2104\"/>\n<text text-anchor=\"middle\" x=\"434.8519\" y=\"-480.2104\" font-family=\"sans\" font-size=\"10.00\" fill=\"#000000\">PERSON</text>\n</g>\n<!-- 28&#45;&gt;19 -->\n<g id=\"edge46\" class=\"edge\">\n<title>28&#45;&gt;19</title>\n<path fill=\"none\" stroke=\"#c0c0c0\" d=\"M434.7967,-492.4263C434.6963,-510.1126 434.4836,-547.5639 434.371,-567.3858\"/>\n<polygon fill=\"#c0c0c0\" stroke=\"#c0c0c0\" points=\"433.3197,-567.6358 434.3525,-570.6417 435.4197,-567.6478 433.3197,-567.6358\"/>\n<text text-anchor=\"middle\" x=\"413.0839\" y=\"-532.506\" font-family=\"sans\" font-size=\"8.00\" fill=\"#c0c0c0\">LASTNAME</text>\n</g>\n<!-- 28&#45;&gt;29 -->\n<g id=\"edge5\" class=\"edge\">\n<title>28&#45;&gt;29</title>\n<path fill=\"none\" stroke=\"#c0c0c0\" d=\"M437.4989,-473.1988C441.2161,-459.8419 447.9935,-435.4885 452.162,-420.5098\"/>\n<polygon fill=\"#c0c0c0\" stroke=\"#c0c0c0\" points=\"453.2677,-420.4527 453.0605,-417.281 451.2446,-419.8896 453.2677,-420.4527\"/>\n<text text-anchor=\"middle\" x=\"436.8304\" y=\"-449.4543\" font-family=\"sans\" font-size=\"8.00\" fill=\"#c0c0c0\">SEX</text>\n</g>\n<!-- 47 -->\n<g id=\"node48\" class=\"node\">\n<title>47</title>\n<polygon fill=\"#eeeeee\" stroke=\"transparent\" points=\"400.7952,-564.3885 329.7952,-564.3885 329.7952,-545.3885 400.7952,-545.3885 400.7952,-564.3885\"/>\n<text text-anchor=\"middle\" x=\"365.2952\" y=\"-552.3885\" font-family=\"sans\" font-size=\"10.00\" fill=\"#000000\">АЛЕКСАНДР</text>\n</g>\n<!-- 28&#45;&gt;47 -->\n<g id=\"edge22\" class=\"edge\">\n<title>28&#45;&gt;47</title>\n<path fill=\"none\" stroke=\"#c0c0c0\" d=\"M425.4712,-492.4447C412.8517,-505.5398 390.4227,-528.814 376.7996,-542.9505\"/>\n<polygon fill=\"#c0c0c0\" stroke=\"#c0c0c0\" points=\"375.853,-542.4197 374.5273,-545.3085 377.3651,-543.8769 375.853,-542.4197\"/>\n<text text-anchor=\"middle\" x=\"377.1354\" y=\"-511.2976\" font-family=\"sans\" font-size=\"8.00\" fill=\"#c0c0c0\">FIRSTNAME</text>\n</g>\n<!-- 30 -->\n<g id=\"node31\" class=\"node\">\n<title>30</title>\n<polygon fill=\"#aec7e8\" stroke=\"transparent\" points=\"397.3851,-368.15 344.3851,-368.15 344.3851,-349.15 397.3851,-349.15 397.3851,-368.15\"/>\n<text text-anchor=\"middle\" x=\"370.8851\" y=\"-356.15\" font-family=\"sans\" font-size=\"10.00\" fill=\"#000000\">PERSON</text>\n</g>\n<!-- 30&#45;&gt;7 -->\n<g id=\"edge31\" class=\"edge\">\n<title>30&#45;&gt;7</title>\n<path fill=\"none\" stroke=\"#c0c0c0\" d=\"M344.3667,-368.0874C339.8688,-369.6881 335.171,-371.36 330.5945,-372.9887\"/>\n<polygon fill=\"#c0c0c0\" stroke=\"#c0c0c0\" points=\"330.2377,-372.001 327.7635,-373.9962 330.9419,-373.9795 330.2377,-372.001\"/>\n<text text-anchor=\"middle\" x=\"315.9806\" y=\"-364.138\" font-family=\"sans\" font-size=\"8.00\" fill=\"#c0c0c0\">LASTNAME</text>\n</g>\n<!-- 30&#45;&gt;17 -->\n<g id=\"edge48\" class=\"edge\">\n<title>30&#45;&gt;17</title>\n<path fill=\"none\" stroke=\"#c0c0c0\" d=\"M368.3149,-348.9073C365.0316,-336.4618 359.343,-314.8986 355.7308,-301.206\"/>\n<polygon fill=\"#c0c0c0\" stroke=\"#c0c0c0\" points=\"356.7293,-300.8746 354.9488,-298.2417 354.6988,-301.4103 356.7293,-300.8746\"/>\n<text text-anchor=\"middle\" x=\"338.0228\" y=\"-327.6566\" font-family=\"sans\" font-size=\"8.00\" fill=\"#c0c0c0\">FIRSTNAME</text>\n</g>\n<!-- 30&#45;&gt;21 -->\n<g id=\"edge43\" class=\"edge\">\n<title>30&#45;&gt;21</title>\n<path fill=\"none\" stroke=\"#c0c0c0\" d=\"M351.6913,-349.0869C337.2922,-341.9127 317.5534,-332.0781 302.4929,-324.5744\"/>\n<polygon fill=\"#c0c0c0\" stroke=\"#c0c0c0\" points=\"302.6996,-323.5043 299.5462,-323.1062 301.7631,-325.3839 302.6996,-323.5043\"/>\n<text text-anchor=\"middle\" x=\"303.0921\" y=\"-339.4306\" font-family=\"sans\" font-size=\"8.00\" fill=\"#c0c0c0\">ATTRIBUTE</text>\n</g>\n<!-- 30&#45;&gt;29 -->\n<g id=\"edge1\" class=\"edge\">\n<title>30&#45;&gt;29</title>\n<path fill=\"none\" stroke=\"#c0c0c0\" d=\"M387.6521,-368.3228C401.6005,-376.3696 421.4758,-387.8355 436.1564,-396.3047\"/>\n<polygon fill=\"#c0c0c0\" stroke=\"#c0c0c0\" points=\"435.8966,-397.367 439.0199,-397.9567 436.946,-395.548 435.8966,-397.367\"/>\n<text text-anchor=\"middle\" x=\"403.9042\" y=\"-384.9137\" font-family=\"sans\" font-size=\"8.00\" fill=\"#c0c0c0\">SEX</text>\n</g>\n<!-- 31 -->\n<g id=\"node32\" class=\"node\">\n<title>31</title>\n<polygon fill=\"#aec7e8\" stroke=\"transparent\" points=\"545.4332,-345.4695 492.4332,-345.4695 492.4332,-326.4695 545.4332,-326.4695 545.4332,-345.4695\"/>\n<text text-anchor=\"middle\" x=\"518.9332\" y=\"-333.4695\" font-family=\"sans\" font-size=\"10.00\" fill=\"#000000\">PERSON</text>\n</g>\n<!-- 31&#45;&gt;12 -->\n<g id=\"edge36\" class=\"edge\">\n<title>31&#45;&gt;12</title>\n<path fill=\"none\" stroke=\"#c0c0c0\" d=\"M536.3448,-326.3592C548.432,-319.6877 564.5711,-310.7798 577.2186,-303.7991\"/>\n<polygon fill=\"#c0c0c0\" stroke=\"#c0c0c0\" points=\"577.9059,-304.6191 580.025,-302.2501 576.8911,-302.7805 577.9059,-304.6191\"/>\n<text text-anchor=\"middle\" x=\"532.7817\" y=\"-317.6791\" font-family=\"sans\" font-size=\"8.00\" fill=\"#c0c0c0\">FIRSTNAME</text>\n</g>\n<!-- 31&#45;&gt;13 -->\n<g id=\"edge37\" class=\"edge\">\n<title>31&#45;&gt;13</title>\n<path fill=\"none\" stroke=\"#c0c0c0\" d=\"M523.1878,-326.3672C527.876,-315.7862 535.4343,-298.7277 540.5917,-287.0879\"/>\n<polygon fill=\"#c0c0c0\" stroke=\"#c0c0c0\" points=\"541.5926,-287.4208 541.848,-284.2526 539.6726,-286.5701 541.5926,-287.4208\"/>\n<text text-anchor=\"middle\" x=\"510.3897\" y=\"-309.3276\" font-family=\"sans\" font-size=\"8.00\" fill=\"#c0c0c0\">LASTNAME</text>\n</g>\n<!-- 31&#45;&gt;29 -->\n<g id=\"edge3\" class=\"edge\">\n<title>31&#45;&gt;29</title>\n<path fill=\"none\" stroke=\"#c0c0c0\" d=\"M510.4123,-345.6312C498.9495,-358.6286 478.5764,-381.7293 466.202,-395.7604\"/>\n<polygon fill=\"#c0c0c0\" stroke=\"#c0c0c0\" points=\"465.3348,-395.1563 464.138,-398.1008 466.9098,-396.5453 465.3348,-395.1563\"/>\n<text text-anchor=\"middle\" x=\"480.3071\" y=\"-373.2958\" font-family=\"sans\" font-size=\"8.00\" fill=\"#c0c0c0\">SEX</text>\n</g>\n<!-- 37 -->\n<g id=\"node38\" class=\"node\">\n<title>37</title>\n<polygon fill=\"#aec7e8\" stroke=\"transparent\" points=\"598.8838,-246.0481 497.8838,-246.0481 497.8838,-227.0481 598.8838,-227.0481 598.8838,-246.0481\"/>\n<text text-anchor=\"middle\" x=\"548.3838\" y=\"-234.0481\" font-family=\"sans\" font-size=\"10.00\" fill=\"#000000\">PERSONPROPERTY</text>\n</g>\n<!-- 31&#45;&gt;37 -->\n<g id=\"edge18\" class=\"edge\">\n<title>31&#45;&gt;37</title>\n<path fill=\"none\" stroke=\"#c0c0c0\" d=\"M521.757,-326.4366C527.0648,-308.5183 538.5344,-269.7983 544.54,-249.5241\"/>\n<polygon fill=\"#c0c0c0\" stroke=\"#c0c0c0\" points=\"545.6798,-249.373 545.5252,-246.1983 543.6663,-248.7765 545.6798,-249.373\"/>\n<text text-anchor=\"middle\" x=\"509.1485\" y=\"-281.5803\" font-family=\"sans\" font-size=\"8.00\" fill=\"#c0c0c0\">ATTRIBUTE</text>\n</g>\n<!-- 44 -->\n<g id=\"node45\" class=\"node\">\n<title>44</title>\n<polygon fill=\"#eeeeee\" stroke=\"transparent\" points=\"642.9038,-340.589 577.9038,-340.589 577.9038,-321.589 642.9038,-321.589 642.9038,-340.589\"/>\n<text text-anchor=\"middle\" x=\"610.4038\" y=\"-328.589\" font-family=\"sans\" font-size=\"10.00\" fill=\"#000000\">ИВАНОВИЧ</text>\n</g>\n<!-- 31&#45;&gt;44 -->\n<g id=\"edge25\" class=\"edge\">\n<title>31&#45;&gt;44</title>\n<path fill=\"none\" stroke=\"#c0c0c0\" d=\"M545.8826,-334.5316C554.8002,-334.0558 564.871,-333.5184 574.3587,-333.0122\"/>\n<polygon fill=\"#c0c0c0\" stroke=\"#c0c0c0\" points=\"574.8848,-334.0357 577.8246,-332.8273 574.7729,-331.9387 574.8848,-334.0357\"/>\n<text text-anchor=\"middle\" x=\"560.1207\" y=\"-327.3719\" font-family=\"sans\" font-size=\"8.00\" fill=\"#c0c0c0\">MIDDLENAME</text>\n</g>\n<!-- 33 -->\n<g id=\"node34\" class=\"node\">\n<title>33</title>\n<polygon fill=\"#eeeeee\" stroke=\"transparent\" points=\"668.8707,-182.7315 543.8707,-182.7315 543.8707,-163.7315 668.8707,-163.7315 668.8707,-182.7315\"/>\n<text text-anchor=\"middle\" x=\"606.3707\" y=\"-170.7315\" font-family=\"sans\" font-size=\"10.00\" fill=\"#000000\">оршанский староста</text>\n</g>\n<!-- 34 -->\n<g id=\"node35\" class=\"node\">\n<title>34</title>\n<polygon fill=\"#aec7e8\" stroke=\"transparent\" points=\"214.7343,-555.1018 179.7343,-555.1018 179.7343,-536.1018 214.7343,-536.1018 214.7343,-555.1018\"/>\n<text text-anchor=\"middle\" x=\"197.2343\" y=\"-543.1018\" font-family=\"sans\" font-size=\"10.00\" fill=\"#000000\">GEO</text>\n</g>\n<!-- 34&#45;&gt;11 -->\n<g id=\"edge17\" class=\"edge\">\n<title>34&#45;&gt;11</title>\n<path fill=\"none\" stroke=\"#c0c0c0\" d=\"M189.7488,-555.3494C188.5888,-556.8599 187.3765,-558.4385 186.1766,-560.001\"/>\n<polygon fill=\"#c0c0c0\" stroke=\"#c0c0c0\" points=\"185.0387,-559.7589 184.0442,-562.7778 186.7042,-561.0379 185.0387,-559.7589\"/>\n<text text-anchor=\"middle\" x=\"176.9627\" y=\"-551.2752\" font-family=\"sans\" font-size=\"8.00\" fill=\"#c0c0c0\">NAME</text>\n</g>\n<!-- 36 -->\n<g id=\"node37\" class=\"node\">\n<title>36</title>\n<polygon fill=\"#eeeeee\" stroke=\"transparent\" points=\"232.0879,-523 185.0879,-523 185.0879,-504 232.0879,-504 232.0879,-523\"/>\n<text text-anchor=\"middle\" x=\"208.5879\" y=\"-511\" font-family=\"sans\" font-size=\"10.00\" fill=\"#000000\">город</text>\n</g>\n<!-- 34&#45;&gt;36 -->\n<g id=\"edge6\" class=\"edge\">\n<title>34&#45;&gt;36</title>\n<path fill=\"none\" stroke=\"#c0c0c0\" d=\"M200.7025,-535.7958C201.7589,-532.8087 202.9363,-529.4798 204.0522,-526.3244\"/>\n<polygon fill=\"#c0c0c0\" stroke=\"#c0c0c0\" points=\"205.1306,-526.4244 205.141,-523.246 203.1507,-525.7242 205.1306,-526.4244\"/>\n<text text-anchor=\"middle\" x=\"191.3774\" y=\"-524.6601\" font-family=\"sans\" font-size=\"8.00\" fill=\"#c0c0c0\">TYPE</text>\n</g>\n<!-- 35 -->\n<g id=\"node36\" class=\"node\">\n<title>35</title>\n<polygon fill=\"#aec7e8\" stroke=\"transparent\" points=\"486,-127 445,-127 445,-108 486,-108 486,-127\"/>\n<text text-anchor=\"middle\" x=\"465.5\" y=\"-115\" font-family=\"sans\" font-size=\"10.00\" fill=\"#000000\">DATE</text>\n</g>\n<!-- 35&#45;&gt;4 -->\n<g id=\"edge35\" class=\"edge\">\n<title>35&#45;&gt;4</title>\n<path fill=\"none\" stroke=\"#c0c0c0\" d=\"M444.7196,-120.6047C443.3111,-120.8151 441.8857,-121.0281 440.4628,-121.2407\"/>\n<polygon fill=\"#c0c0c0\" stroke=\"#c0c0c0\" points=\"439.968,-120.2529 437.1561,-121.7347 440.2784,-122.3298 439.968,-120.2529\"/>\n<text text-anchor=\"middle\" x=\"431.5912\" y=\"-114.5227\" font-family=\"sans\" font-size=\"8.00\" fill=\"#c0c0c0\">YEAR</text>\n</g>\n<!-- 37&#45;&gt;33 -->\n<g id=\"edge21\" class=\"edge\">\n<title>37&#45;&gt;33</title>\n<path fill=\"none\" stroke=\"#c0c0c0\" d=\"M557.1907,-226.9317C567.4085,-215.7748 584.2666,-197.3673 595.3458,-185.2698\"/>\n<polygon fill=\"#c0c0c0\" stroke=\"#c0c0c0\" points=\"596.229,-185.86 597.4809,-182.9384 594.6803,-184.4417 596.229,-185.86\"/>\n<text text-anchor=\"middle\" x=\"565.2683\" y=\"-208.7007\" font-family=\"sans\" font-size=\"8.00\" fill=\"#c0c0c0\">NAME</text>\n</g>\n<!-- 38 -->\n<g id=\"node39\" class=\"node\">\n<title>38</title>\n<polygon fill=\"#aec7e8\" stroke=\"transparent\" points=\"550.0599,-409.1746 497.0599,-409.1746 497.0599,-390.1746 550.0599,-390.1746 550.0599,-409.1746\"/>\n<text text-anchor=\"middle\" x=\"523.5599\" y=\"-397.1746\" font-family=\"sans\" font-size=\"10.00\" fill=\"#000000\">PERSON</text>\n</g>\n<!-- 38&#45;&gt;18 -->\n<g id=\"edge30\" class=\"edge\">\n<title>38&#45;&gt;18</title>\n<path fill=\"none\" stroke=\"#c0c0c0\" d=\"M544.0702,-409.1747C556.3638,-414.869 572.0384,-422.1294 584.8241,-428.0516\"/>\n<polygon fill=\"#c0c0c0\" stroke=\"#c0c0c0\" points=\"584.5092,-429.0629 587.6727,-429.3711 585.3919,-427.1574 584.5092,-429.0629\"/>\n<text text-anchor=\"middle\" x=\"542.9471\" y=\"-421.2132\" font-family=\"sans\" font-size=\"8.00\" fill=\"#c0c0c0\">LASTNAME</text>\n</g>\n<!-- 38&#45;&gt;27 -->\n<g id=\"edge16\" class=\"edge\">\n<title>38&#45;&gt;27</title>\n<path fill=\"none\" stroke=\"#c0c0c0\" d=\"M550.07,-391.8207C560.7163,-388.6667 573.096,-384.9991 584.289,-381.6831\"/>\n<polygon fill=\"#c0c0c0\" stroke=\"#c0c0c0\" points=\"584.834,-382.6168 587.4121,-380.7578 584.2374,-380.6033 584.834,-382.6168\"/>\n<text text-anchor=\"middle\" x=\"543.1795\" y=\"-380.3519\" font-family=\"sans\" font-size=\"8.00\" fill=\"#c0c0c0\">FIRSTNAME</text>\n</g>\n<!-- 38&#45;&gt;29 -->\n<g id=\"edge19\" class=\"edge\">\n<title>38&#45;&gt;29</title>\n<path fill=\"none\" stroke=\"#c0c0c0\" d=\"M496.7605,-402.8106C491.0134,-403.4832 484.9811,-404.189 479.365,-404.8462\"/>\n<polygon fill=\"#c0c0c0\" stroke=\"#c0c0c0\" points=\"479.1498,-403.8142 476.2922,-405.2058 479.3939,-405.8999 479.1498,-403.8142\"/>\n<text text-anchor=\"middle\" x=\"488.0627\" y=\"-397.4284\" font-family=\"sans\" font-size=\"8.00\" fill=\"#c0c0c0\">SEX</text>\n</g>\n<!-- 39 -->\n<g id=\"node40\" class=\"node\">\n<title>39</title>\n<polygon fill=\"#aec7e8\" stroke=\"transparent\" points=\"429.9826,-478.8421 376.9826,-478.8421 376.9826,-459.8421 429.9826,-459.8421 429.9826,-478.8421\"/>\n<text text-anchor=\"middle\" x=\"403.4826\" y=\"-466.8421\" font-family=\"sans\" font-size=\"10.00\" fill=\"#000000\">PERSON</text>\n</g>\n<!-- 39&#45;&gt;29 -->\n<g id=\"edge20\" class=\"edge\">\n<title>39&#45;&gt;29</title>\n<path fill=\"none\" stroke=\"#c0c0c0\" d=\"M411.6497,-459.6964C420.7256,-448.9774 435.4045,-431.6408 445.309,-419.9432\"/>\n<polygon fill=\"#c0c0c0\" stroke=\"#c0c0c0\" points=\"446.3326,-420.3592 447.4698,-417.3911 444.7299,-419.0022 446.3326,-420.3592\"/>\n<text text-anchor=\"middle\" x=\"420.4794\" y=\"-442.4198\" font-family=\"sans\" font-size=\"8.00\" fill=\"#c0c0c0\">SEX</text>\n</g>\n<!-- 48 -->\n<g id=\"node49\" class=\"node\">\n<title>48</title>\n<polygon fill=\"#eeeeee\" stroke=\"transparent\" points=\"362.3879,-539.8129 291.3879,-539.8129 291.3879,-520.8129 362.3879,-520.8129 362.3879,-539.8129\"/>\n<text text-anchor=\"middle\" x=\"326.8879\" y=\"-527.8129\" font-family=\"sans\" font-size=\"10.00\" fill=\"#000000\">СТАНИСЛАВ</text>\n</g>\n<!-- 39&#45;&gt;48 -->\n<g id=\"edge12\" class=\"edge\">\n<title>39&#45;&gt;48</title>\n<path fill=\"none\" stroke=\"#c0c0c0\" d=\"M391.5147,-478.8688C377.9916,-489.6334 355.9795,-507.1555 341.4652,-518.7091\"/>\n<polygon fill=\"#c0c0c0\" stroke=\"#c0c0c0\" points=\"340.7178,-517.9619 339.0246,-520.6519 342.0257,-519.605 340.7178,-517.9619\"/>\n<text text-anchor=\"middle\" x=\"390.49\" y=\"-501.3889\" font-family=\"sans\" font-size=\"8.00\" fill=\"#c0c0c0\">FIRSTNAME</text>\n</g>\n<!-- 49 -->\n<g id=\"node50\" class=\"node\">\n<title>49</title>\n<polygon fill=\"#eeeeee\" stroke=\"transparent\" points=\"424.57,-578.8277 353.57,-578.8277 353.57,-559.8277 424.57,-559.8277 424.57,-578.8277\"/>\n<text text-anchor=\"middle\" x=\"389.07\" y=\"-566.8277\" font-family=\"sans\" font-size=\"10.00\" fill=\"#000000\">ВИТОВСКИЙ</text>\n</g>\n<!-- 39&#45;&gt;49 -->\n<g id=\"edge11\" class=\"edge\">\n<title>39&#45;&gt;49</title>\n<path fill=\"none\" stroke=\"#c0c0c0\" d=\"M402.1007,-478.9291C399.4924,-497.0236 393.8437,-536.211 390.9148,-556.5299\"/>\n<polygon fill=\"#c0c0c0\" stroke=\"#c0c0c0\" points=\"389.8578,-556.5037 390.469,-559.6228 391.9363,-556.8033 389.8578,-556.5037\"/>\n<text text-anchor=\"middle\" x=\"418.0077\" y=\"-520.3295\" font-family=\"sans\" font-size=\"8.00\" fill=\"#c0c0c0\">LASTNAME</text>\n</g>\n<!-- 41 -->\n<g id=\"node42\" class=\"node\">\n<title>41</title>\n<polygon fill=\"#eeeeee\" stroke=\"transparent\" points=\"653.9455,-434.9608 612.9455,-434.9608 612.9455,-415.9608 653.9455,-415.9608 653.9455,-434.9608\"/>\n<text text-anchor=\"middle\" x=\"633.4455\" y=\"-422.9608\" font-family=\"sans\" font-size=\"10.00\" fill=\"#000000\">ШЕИН</text>\n</g>\n<!-- 42 -->\n<g id=\"node43\" class=\"node\">\n<title>42</title>\n<polygon fill=\"#eeeeee\" stroke=\"transparent\" points=\"622.4159,-529.9949 551.4159,-529.9949 551.4159,-510.9949 622.4159,-510.9949 622.4159,-529.9949\"/>\n<text text-anchor=\"middle\" x=\"586.9159\" y=\"-517.9949\" font-family=\"sans\" font-size=\"10.00\" fill=\"#000000\">БОРИСОВИЧ</text>\n</g>\n<!-- 43 -->\n<g id=\"node44\" class=\"node\">\n<title>43</title>\n<polygon fill=\"#aec7e8\" stroke=\"transparent\" points=\"562.7838,-454.2952 509.7838,-454.2952 509.7838,-435.2952 562.7838,-435.2952 562.7838,-454.2952\"/>\n<text text-anchor=\"middle\" x=\"536.2838\" y=\"-442.2952\" font-family=\"sans\" font-size=\"10.00\" fill=\"#000000\">PERSON</text>\n</g>\n<!-- 43&#45;&gt;2 -->\n<g id=\"edge44\" class=\"edge\">\n<title>43&#45;&gt;2</title>\n<path fill=\"none\" stroke=\"#c0c0c0\" d=\"M555.8129,-454.3945C568.4594,-460.6107 584.9637,-468.7232 598.134,-475.1969\"/>\n<polygon fill=\"#c0c0c0\" stroke=\"#c0c0c0\" points=\"597.9063,-476.255 601.0619,-476.6361 598.8327,-474.3704 597.9063,-476.255\"/>\n<text text-anchor=\"middle\" x=\"552.9734\" y=\"-467.3957\" font-family=\"sans\" font-size=\"8.00\" fill=\"#c0c0c0\">FIRSTNAME</text>\n</g>\n<!-- 43&#45;&gt;29 -->\n<g id=\"edge24\" class=\"edge\">\n<title>43&#45;&gt;29</title>\n<path fill=\"none\" stroke=\"#c0c0c0\" d=\"M515.5449,-435.2189C504.4605,-430.1007 490.7713,-423.7797 479.2894,-418.4778\"/>\n<polygon fill=\"#c0c0c0\" stroke=\"#c0c0c0\" points=\"479.5846,-417.4577 476.4207,-417.1532 478.7042,-419.3642 479.5846,-417.4577\"/>\n<text text-anchor=\"middle\" x=\"489.4171\" y=\"-429.4484\" font-family=\"sans\" font-size=\"8.00\" fill=\"#c0c0c0\">SEX</text>\n</g>\n<!-- 43&#45;&gt;41 -->\n<g id=\"edge14\" class=\"edge\">\n<title>43&#45;&gt;41</title>\n<path fill=\"none\" stroke=\"#c0c0c0\" d=\"M562.8337,-439.512C577.4599,-436.6015 595.4662,-433.0184 609.6348,-430.199\"/>\n<polygon fill=\"#c0c0c0\" stroke=\"#c0c0c0\" points=\"610.0432,-431.1884 612.7806,-429.573 609.6333,-429.1288 610.0432,-431.1884\"/>\n<text text-anchor=\"middle\" x=\"564.7342\" y=\"-428.4555\" font-family=\"sans\" font-size=\"8.00\" fill=\"#c0c0c0\">LASTNAME</text>\n</g>\n<!-- 43&#45;&gt;42 -->\n<g id=\"edge2\" class=\"edge\">\n<title>43&#45;&gt;42</title>\n<path fill=\"none\" stroke=\"#c0c0c0\" d=\"M542.6964,-454.3826C551.8528,-468.0723 568.6742,-493.2219 578.7224,-508.2448\"/>\n<polygon fill=\"#c0c0c0\" stroke=\"#c0c0c0\" points=\"577.8548,-508.8364 580.3954,-510.7462 579.6003,-507.6688 577.8548,-508.8364\"/>\n<text text-anchor=\"middle\" x=\"534.2094\" y=\"-474.9137\" font-family=\"sans\" font-size=\"8.00\" fill=\"#c0c0c0\">MIDDLENAME</text>\n</g>\n<!-- 50 -->\n<g id=\"node51\" class=\"node\">\n<title>50</title>\n<polygon fill=\"#aec7e8\" stroke=\"transparent\" points=\"114.8696,-172.5488 79.8696,-172.5488 79.8696,-153.5488 114.8696,-153.5488 114.8696,-172.5488\"/>\n<text text-anchor=\"middle\" x=\"97.3696\" y=\"-160.5488\" font-family=\"sans\" font-size=\"10.00\" fill=\"#000000\">GEO</text>\n</g>\n<!-- 50&#45;&gt;3 -->\n<g id=\"edge45\" class=\"edge\">\n<title>50&#45;&gt;3</title>\n<path fill=\"none\" stroke=\"#c0c0c0\" d=\"M79.5409,-159.5784C69.0816,-157.5425 55.7316,-154.944 44.3729,-152.733\"/>\n<polygon fill=\"#c0c0c0\" stroke=\"#c0c0c0\" points=\"44.3714,-151.6631 41.2261,-152.1205 43.9702,-153.7244 44.3714,-151.6631\"/>\n<text text-anchor=\"middle\" x=\"67.4569\" y=\"-149.7557\" font-family=\"sans\" font-size=\"8.00\" fill=\"#c0c0c0\">NAME</text>\n</g>\n<!-- 50&#45;&gt;8 -->\n<g id=\"edge40\" class=\"edge\">\n<title>50&#45;&gt;8</title>\n<path fill=\"none\" stroke=\"#c0c0c0\" d=\"M114.9254,-164.7426C126.5435,-165.8635 142.005,-167.3553 155.1653,-168.625\"/>\n<polygon fill=\"#c0c0c0\" stroke=\"#c0c0c0\" points=\"155.3708,-169.6996 158.4578,-168.9427 155.5726,-167.6093 155.3708,-169.6996\"/>\n<text text-anchor=\"middle\" x=\"146.0454\" y=\"-169.2838\" font-family=\"sans\" font-size=\"8.00\" fill=\"#c0c0c0\">TYPE</text>\n</g>\n</g>\n</svg>\n"
          },
          "metadata": {
            "tags": []
          },
          "execution_count": 31
        }
      ]
    },
    {
      "cell_type": "code",
      "metadata": {
        "id": "JHaoMjdyhItu"
      },
      "source": [
        "def pullenty_result(TEXT):\n",
        "    text = TEXT\n",
        "    result = processor(text)\n",
        "    result.graph"
      ],
      "execution_count": 18,
      "outputs": []
    },
    {
      "cell_type": "code",
      "metadata": {
        "colab": {
          "base_uri": "https://localhost:8080/",
          "height": 265
        },
        "id": "52vetamBhX5d",
        "outputId": "e0fa104d-2342-46fa-b96a-442d675b4f07"
      },
      "source": [
        "pullenty_result(TEXT)"
      ],
      "execution_count": 19,
      "outputs": [
        {
          "output_type": "error",
          "ename": "NameError",
          "evalue": "ignored",
          "traceback": [
            "\u001b[0;31m---------------------------------------------------------------------------\u001b[0m",
            "\u001b[0;31mNameError\u001b[0m                                 Traceback (most recent call last)",
            "\u001b[0;32m<ipython-input-19-880169aa6c93>\u001b[0m in \u001b[0;36m<module>\u001b[0;34m()\u001b[0m\n\u001b[0;32m----> 1\u001b[0;31m \u001b[0mpullenty_result\u001b[0m\u001b[0;34m(\u001b[0m\u001b[0mTEXT\u001b[0m\u001b[0;34m)\u001b[0m\u001b[0;34m\u001b[0m\u001b[0;34m\u001b[0m\u001b[0m\n\u001b[0m",
            "\u001b[0;32m<ipython-input-18-ec34dcad54d8>\u001b[0m in \u001b[0;36mpullenty_result\u001b[0;34m(TEXT)\u001b[0m\n\u001b[1;32m      1\u001b[0m \u001b[0;32mdef\u001b[0m \u001b[0mpullenty_result\u001b[0m\u001b[0;34m(\u001b[0m\u001b[0mTEXT\u001b[0m\u001b[0;34m)\u001b[0m\u001b[0;34m:\u001b[0m\u001b[0;34m\u001b[0m\u001b[0;34m\u001b[0m\u001b[0m\n\u001b[1;32m      2\u001b[0m     \u001b[0mtext\u001b[0m \u001b[0;34m=\u001b[0m \u001b[0mTEXT\u001b[0m\u001b[0;34m\u001b[0m\u001b[0;34m\u001b[0m\u001b[0m\n\u001b[0;32m----> 3\u001b[0;31m     \u001b[0mresult\u001b[0m \u001b[0;34m=\u001b[0m \u001b[0mprocessor\u001b[0m\u001b[0;34m(\u001b[0m\u001b[0mtext\u001b[0m\u001b[0;34m)\u001b[0m\u001b[0;34m\u001b[0m\u001b[0;34m\u001b[0m\u001b[0m\n\u001b[0m\u001b[1;32m      4\u001b[0m     \u001b[0mresult\u001b[0m\u001b[0;34m.\u001b[0m\u001b[0mgraph\u001b[0m\u001b[0;34m\u001b[0m\u001b[0;34m\u001b[0m\u001b[0m\n",
            "\u001b[0;31mNameError\u001b[0m: name 'processor' is not defined"
          ]
        }
      ]
    },
    {
      "cell_type": "markdown",
      "metadata": {
        "id": "z5H86N5mAO0U"
      },
      "source": [
        "### Stanza"
      ]
    },
    {
      "cell_type": "markdown",
      "metadata": {
        "id": "ZmRn37TZwqLa"
      },
      "source": [
        "For packages with 4 named entity types, supported types include PER (Person), LOC (Location), ORG (Organization) and MISC (Miscellaneous).\n",
        "\n",
        "Всего четыре тега, три из них стандартны, и этого мало, если мы хотим кроме людей, мест и организаций, выделять ещё дату и время, к примеру. Однако из плюсов здесь есть выделение всего прочего в отдельную категорию. "
      ]
    },
    {
      "cell_type": "code",
      "metadata": {
        "colab": {
          "base_uri": "https://localhost:8080/"
        },
        "id": "iYAj0_G6EjdL",
        "outputId": "da15c1eb-01e8-48da-871f-e7cdbf114113"
      },
      "source": [
        "!pip install stanza"
      ],
      "execution_count": 32,
      "outputs": [
        {
          "output_type": "stream",
          "text": [
            "Requirement already satisfied: stanza in /usr/local/lib/python3.6/dist-packages (1.1.1)\n",
            "Requirement already satisfied: tqdm in /usr/local/lib/python3.6/dist-packages (from stanza) (4.41.1)\n",
            "Requirement already satisfied: numpy in /usr/local/lib/python3.6/dist-packages (from stanza) (1.18.0)\n",
            "Requirement already satisfied: protobuf in /usr/local/lib/python3.6/dist-packages (from stanza) (3.12.4)\n",
            "Requirement already satisfied: torch>=1.3.0 in /usr/local/lib/python3.6/dist-packages (from stanza) (1.7.0+cu101)\n",
            "Requirement already satisfied: requests in /usr/local/lib/python3.6/dist-packages (from stanza) (2.22.0)\n",
            "Requirement already satisfied: six>=1.9 in /usr/local/lib/python3.6/dist-packages (from protobuf->stanza) (1.15.0)\n",
            "Requirement already satisfied: setuptools in /usr/local/lib/python3.6/dist-packages (from protobuf->stanza) (50.3.2)\n",
            "Requirement already satisfied: typing-extensions in /usr/local/lib/python3.6/dist-packages (from torch>=1.3.0->stanza) (3.7.4.3)\n",
            "Requirement already satisfied: dataclasses in /usr/local/lib/python3.6/dist-packages (from torch>=1.3.0->stanza) (0.7)\n",
            "Requirement already satisfied: future in /usr/local/lib/python3.6/dist-packages (from torch>=1.3.0->stanza) (0.16.0)\n",
            "Requirement already satisfied: certifi>=2017.4.17 in /usr/local/lib/python3.6/dist-packages (from requests->stanza) (2020.6.20)\n",
            "Requirement already satisfied: urllib3!=1.25.0,!=1.25.1,<1.26,>=1.21.1 in /usr/local/lib/python3.6/dist-packages (from requests->stanza) (1.24.3)\n",
            "Requirement already satisfied: idna<2.9,>=2.5 in /usr/local/lib/python3.6/dist-packages (from requests->stanza) (2.8)\n",
            "Requirement already satisfied: chardet<3.1.0,>=3.0.2 in /usr/local/lib/python3.6/dist-packages (from requests->stanza) (3.0.4)\n"
          ],
          "name": "stdout"
        }
      ]
    },
    {
      "cell_type": "code",
      "metadata": {
        "colab": {
          "base_uri": "https://localhost:8080/"
        },
        "id": "AcSM1-RMAO0U",
        "outputId": "e8c3b095-3c13-4f19-a8ae-c417cf311186"
      },
      "source": [
        "import stanza\n",
        "stanza.download('ru')\n",
        "def stanza_nlp_ru(text):\n",
        "  nlp = stanza.Pipeline(lang='ru', processors='tokenize,ner')\n",
        "  doc = nlp(text)\n",
        "  print(*[f'entity: {ent.text}\\ttype: {ent.type}' for sent in doc.sentences for ent in sent.ents], sep='\\n')\n",
        "stanza_nlp_ru(TEXT)"
      ],
      "execution_count": 33,
      "outputs": [
        {
          "output_type": "stream",
          "text": [
            "Downloading https://raw.githubusercontent.com/stanfordnlp/stanza-resources/master/resources_1.1.0.json: 122kB [00:00, 16.0MB/s]                    \n",
            "2020-11-19 19:56:37 INFO: Downloading default packages for language: ru (Russian)...\n",
            "2020-11-19 19:56:49 INFO: File exists: /root/stanza_resources/ru/default.zip.\n",
            "2020-11-19 19:56:56 INFO: Finished downloading models and saved to /root/stanza_resources.\n",
            "2020-11-19 19:56:56 INFO: Loading these models for language: ru (Russian):\n",
            "=========================\n",
            "| Processor | Package   |\n",
            "-------------------------\n",
            "| tokenize  | syntagrus |\n",
            "| ner       | wikiner   |\n",
            "=========================\n",
            "\n",
            "2020-11-19 19:56:56 INFO: Use device: cpu\n",
            "2020-11-19 19:56:56 INFO: Loading: tokenize\n",
            "2020-11-19 19:56:56 INFO: Loading: ner\n",
            "2020-11-19 19:56:58 INFO: Done loading processors!\n"
          ],
          "name": "stderr"
        },
        {
          "output_type": "stream",
          "text": [
            "entity: Великого Государя\ttype: PER\n",
            "entity: Царя\ttype: PER\n",
            "entity: Великого Князя\ttype: PER\n",
            "entity: Василия Ивановича\ttype: PER\n",
            "entity: Руси Самодержца\ttype: PER\n",
            "entity: Владимирского\ttype: PER\n",
            "entity: Московского\ttype: MISC\n",
            "entity: Новгородского\ttype: MISC\n",
            "entity: Царя Казанского\ttype: PER\n",
            "entity: Царя Астраханского\ttype: PER\n",
            "entity: Царя Сибирского\ttype: PER\n",
            "entity: Государя Псковского\ttype: PER\n",
            "entity: Великого Князя \n",
            "Смоленского\ttype: LOC\n",
            "entity: Государя\ttype: PER\n",
            "entity: Великого Князя Новагорода\ttype: LOC\n",
            "entity: Низовской земли\ttype: LOC\n",
            "entity: Черниговского\ttype: MISC\n",
            "entity: Рязанского\ttype: MISC\n",
            "entity: Ростовского\ttype: MISC\n",
            "entity: Ярославского\ttype: MISC\n",
            "entity: Белозерского\ttype: LOC\n",
            "entity: Удорского\ttype: LOC\n",
            "entity: Обдорского\ttype: LOC\n",
            "entity: Кондийского\ttype: LOC\n",
            "entity: Северной страны\ttype: LOC\n",
            "entity: Повелителя\ttype: PER\n",
            "entity: Государя\ttype: PER\n",
            "entity: Карталинских\ttype: LOC\n",
            "entity: Грузинских Царей\ttype: LOC\n",
            "entity: Кабардинской земли\ttype: LOC\n",
            "entity: Черкасских\ttype: LOC\n",
            "entity: Горских Князей\ttype: LOC\n",
            "entity: Государя\ttype: PER\n",
            "entity: Обладателя\ttype: PER\n",
            "entity: Его Царского Величества\ttype: PER\n",
            "entity: Михаила Борисовича Шеина\ttype: PER\n",
            "entity: Оршу\ttype: LOC\n",
            "entity: Оршанскому\ttype: LOC\n",
            "entity: Андрею Ивановичу Сапеге\ttype: PER\n",
            "entity: Павликом Полежоным\ttype: PER\n",
            "entity: Король Сигизмунд\ttype: PER\n",
            "entity: Оршу\ttype: LOC\n",
            "entity: Государя\ttype: PER\n",
            "entity: Смоленской\ttype: LOC\n",
            "entity: Великого Государя\ttype: PER\n",
            "entity: Царя\ttype: PER\n",
            "entity: Великого Князя\ttype: PER\n",
            "entity: Василия Ивановича\ttype: PER\n",
            "entity: Русии Самодержца\ttype: PER\n",
            "entity: Москве\ttype: LOC\n",
            "entity: Короля\ttype: PER\n",
            "entity: Николай Олесницкий\ttype: PER\n",
            "entity: Александр Гонсевский\ttype: PER\n",
            "entity: Станислав Витовский\ttype: PER\n",
            "entity: Князь Ян Соколинский\ttype: PER\n",
            "entity: Великим Государем\ttype: PER\n",
            "entity: Королем Сигизмундом\ttype: PER\n",
            "entity: Государя\ttype: PER\n",
            "entity: Государя\ttype: PER\n",
            "entity: Самозванцем\ttype: PER\n",
            "entity: Государя\ttype: PER\n",
            "entity: Великого Государя\ttype: PER\n",
            "entity: Государю\ttype: PER\n",
            "entity: Королю Сигизмунду\ttype: PER\n",
            "entity: Государств вашего Государя\ttype: MISC\n",
            "entity: Великих Государей\ttype: PER\n",
            "entity: Христианскую кровь в Государств нашего Государя\ttype: MISC\n",
            "entity: Государя\ttype: PER\n",
            "entity: Андрей Иванович\ttype: PER\n",
            "entity: Государю\ttype: PER\n",
            "entity: Королю Сигизмунду\ttype: PER\n",
            "entity: Раде\ttype: PER\n",
            "entity: Государь\ttype: PER\n",
            "entity: Король Сигизмунд\ttype: PER\n",
            "entity: Государем\ttype: PER\n",
            "entity: Государя\ttype: PER\n",
            "entity: Государя\ttype: PER\n",
            "entity: Король\ttype: PER\n",
            "entity: Государя\ttype: PER\n",
            "entity: Государя\ttype: PER\n",
            "entity: Государем\ttype: PER\n",
            "entity: Государствами\ttype: LOC\n",
            "entity: Короля\ttype: PER\n",
            "entity: Государь\ttype: PER\n",
            "entity: Король\ttype: PER\n",
            "entity: Королевский поход\ttype: MISC\n",
            "entity: Государя\ttype: PER\n",
            "entity: Государями\ttype: PER\n",
            "entity: Государствами\ttype: LOC\n",
            "entity: Короля\ttype: PER\n",
            "entity: Христианская\ttype: MISC\n",
            "entity: Государю\ttype: PER\n",
            "entity: Государя\ttype: PER\n",
            "entity: Государя\ttype: PER\n",
            "entity: Христианская\ttype: MISC\n",
            "entity: Великого \n",
            "Государя нашего\ttype: MISC\n",
            "entity: Его Царского Величества\ttype: PER\n",
            "entity: Смоленске\ttype: LOC\n",
            "entity: Августа 22 дня\ttype: MISC\n"
          ],
          "name": "stdout"
        }
      ]
    },
    {
      "cell_type": "markdown",
      "metadata": {
        "id": "zom1bcLdAO0U"
      },
      "source": [
        "### Polyglot"
      ]
    },
    {
      "cell_type": "markdown",
      "metadata": {
        "id": "NUF-rm-iixmk"
      },
      "source": [
        "Полиглот также размечает не так много категорий, если посмотреть на примеры, делает это не всегда логично. Лицензия не позволяет использование в коммерческих проектах. В целом кажется не идеальным вариантом для решения именно этой ззадачи."
      ]
    },
    {
      "cell_type": "code",
      "metadata": {
        "colab": {
          "base_uri": "https://localhost:8080/",
          "height": 527
        },
        "id": "UW9EH47wHKME",
        "outputId": "3e6ba754-bf25-4195-a09f-2792d946dbec"
      },
      "source": [
        "!pip3 install -U git+https://github.com/aboSamoor/polyglot.git@master\n",
        "!polyglot download embeddings2.ru ner2.ru\n",
        "from polyglot.text import Text"
      ],
      "execution_count": 34,
      "outputs": [
        {
          "output_type": "stream",
          "text": [
            "Collecting git+https://github.com/aboSamoor/polyglot.git@master\n",
            "  Cloning https://github.com/aboSamoor/polyglot.git (to revision master) to /tmp/pip-req-build-bg35paoo\n",
            "  Running command git clone -q https://github.com/aboSamoor/polyglot.git /tmp/pip-req-build-bg35paoo\n",
            "Requirement already satisfied, skipping upgrade: pycld2>=0.3 in /usr/local/lib/python3.6/dist-packages (from polyglot==16.7.4) (0.41)\n",
            "Requirement already satisfied, skipping upgrade: futures>=2.1.6 in /usr/local/lib/python3.6/dist-packages (from polyglot==16.7.4) (3.1.1)\n",
            "Requirement already satisfied, skipping upgrade: numpy>=1.6.1 in /usr/local/lib/python3.6/dist-packages (from polyglot==16.7.4) (1.18.0)\n",
            "Requirement already satisfied, skipping upgrade: morfessor>=2.0.2a1 in /usr/local/lib/python3.6/dist-packages (from polyglot==16.7.4) (2.0.6)\n",
            "Requirement already satisfied, skipping upgrade: PyICU>=1.8 in /usr/local/lib/python3.6/dist-packages (from polyglot==16.7.4) (2.6)\n",
            "Requirement already satisfied, skipping upgrade: six>=1.7.3 in /usr/local/lib/python3.6/dist-packages (from polyglot==16.7.4) (1.15.0)\n",
            "Requirement already satisfied, skipping upgrade: wheel>=0.23.0 in /usr/local/lib/python3.6/dist-packages (from polyglot==16.7.4) (0.35.1)\n",
            "Building wheels for collected packages: polyglot\n",
            "  Building wheel for polyglot (setup.py) ... \u001b[?25l\u001b[?25hdone\n",
            "  Created wheel for polyglot: filename=polyglot-16.7.4-py2.py3-none-any.whl size=70644 sha256=b359c126294a850e0282f515c12c9fea3acb6746f186006f252e6640d81aee0a\n",
            "  Stored in directory: /tmp/pip-ephem-wheel-cache-qyxaszh_/wheels/42/d9/73/345c7ae8554299ff8b31635d64eb8455fd591385fa734cdbef\n",
            "Successfully built polyglot\n",
            "Installing collected packages: polyglot\n",
            "  Found existing installation: polyglot 16.7.4\n",
            "    Uninstalling polyglot-16.7.4:\n",
            "      Successfully uninstalled polyglot-16.7.4\n",
            "Successfully installed polyglot-16.7.4\n"
          ],
          "name": "stdout"
        },
        {
          "output_type": "display_data",
          "data": {
            "application/vnd.colab-display-data+json": {
              "pip_warning": {
                "packages": [
                  "polyglot"
                ]
              }
            }
          },
          "metadata": {
            "tags": []
          }
        },
        {
          "output_type": "stream",
          "text": [
            "[polyglot_data] Downloading package embeddings2.ru to\n",
            "[polyglot_data]     /root/polyglot_data...\n",
            "[polyglot_data]   Package embeddings2.ru is already up-to-date!\n",
            "[polyglot_data] Downloading package ner2.ru to /root/polyglot_data...\n",
            "[polyglot_data]   Package ner2.ru is already up-to-date!\n"
          ],
          "name": "stdout"
        }
      ]
    },
    {
      "cell_type": "code",
      "metadata": {
        "collapsed": true,
        "colab": {
          "base_uri": "https://localhost:8080/"
        },
        "id": "jhXo_ZPTAO0V",
        "outputId": "52f49749-d1db-4067-e871-22d4895aff08"
      },
      "source": [
        "def polyglot(TEXT):\n",
        "    for ent in Text(TEXT).entities:\n",
        "        print(ent[0],ent.tag)"
      ],
      "execution_count": 35,
      "outputs": [
        {
          "output_type": "stream",
          "text": [
            "Великого I-PER\n",
            "Великого I-PER\n",
            "Василия I-PER\n",
            "Руси I-LOC\n",
            "Владимирского I-LOC\n",
            "Казанского I-PER\n",
            "Сибирского I-PER\n",
            "Псковского I-PER\n",
            "Смоленского I-PER\n",
            "Болгарского I-LOC\n",
            "Новагорода I-PER\n",
            "Удорского I-LOC\n",
            "Обдорского I-LOC\n",
            "Северной I-LOC\n",
            "Михаила I-PER\n",
            "Оршу I-LOC\n",
            "Андрею I-PER\n",
            "Августа I-PER\n",
            "Павликом I-PER\n",
            "Сигизмунд I-PER\n",
            "Оршу I-LOC\n",
            "Смоленской I-LOC\n",
            "Великого I-PER\n",
            "Великого I-PER\n",
            "Василия I-PER\n",
            "Москве I-LOC\n",
            "Николай I-PER\n",
            "Александр I-PER\n",
            "Станислав I-PER\n",
            "Ян I-PER\n",
            "вашим I-PER\n",
            "Королем I-PER\n",
            "Великого I-PER\n",
            "Королю I-PER\n",
            "Великих I-LOC\n",
            "Андрей I-PER\n",
            "Королю I-PER\n",
            "Раде I-PER\n",
            "Раде I-ORG\n",
            "Сигизмунд I-PER\n",
            "перемирное I-LOC\n",
            "целованию I-PER\n",
            "крестному I-PER\n",
            "Государями I-LOC\n",
            "Польских I-PER\n",
            "обманщиком I-PER\n",
            "А I-PER\n",
            "Писано I-PER\n",
            "Великого I-PER\n",
            "Смоленске I-LOC\n",
            "Августа I-PER\n"
          ],
          "name": "stdout"
        }
      ]
    },
    {
      "cell_type": "markdown",
      "metadata": {
        "id": "K18HY-ZaAO0V"
      },
      "source": [
        "### DeepPavlov"
      ]
    },
    {
      "cell_type": "markdown",
      "metadata": {
        "id": "OvcX6NjElWn3"
      },
      "source": [
        "Одно из известных \"тяжёлых\" решений на трансформерах, которое представляется создателями как более академическое и исследовательское, чем как коммерческое. Из плюсов также открытый исходный код."
      ]
    },
    {
      "cell_type": "code",
      "metadata": {
        "colab": {
          "base_uri": "https://localhost:8080/"
        },
        "id": "3VIs-MnkHfl9",
        "outputId": "877aa443-aaaa-48e2-c833-48e5b5ea70ce"
      },
      "source": [
        "#!pip3 install deeppavlov\n",
        "#!python3 -m deeppavlov install ner_ontonotes\n",
        "#!python -m deeppavlov install ner_ontonotes_bert"
      ],
      "execution_count": 3,
      "outputs": [
        {
          "output_type": "stream",
          "text": [
            "Requirement already satisfied: deeppavlov in /usr/local/lib/python3.6/dist-packages (0.13.0)\n",
            "Requirement already satisfied: fastapi==0.47.1 in /usr/local/lib/python3.6/dist-packages (from deeppavlov) (0.47.1)\n",
            "Requirement already satisfied: prometheus-client==0.7.1 in /usr/local/lib/python3.6/dist-packages (from deeppavlov) (0.7.1)\n",
            "Requirement already satisfied: requests==2.22.0 in /usr/local/lib/python3.6/dist-packages (from deeppavlov) (2.22.0)\n",
            "Requirement already satisfied: filelock==3.0.12 in /usr/local/lib/python3.6/dist-packages (from deeppavlov) (3.0.12)\n",
            "Requirement already satisfied: pyopenssl==19.1.0 in /usr/local/lib/python3.6/dist-packages (from deeppavlov) (19.1.0)\n",
            "Requirement already satisfied: pymorphy2==0.8 in /usr/local/lib/python3.6/dist-packages (from deeppavlov) (0.8)\n",
            "Requirement already satisfied: click==7.1.2 in /usr/local/lib/python3.6/dist-packages (from deeppavlov) (7.1.2)\n",
            "Requirement already satisfied: pydantic==1.3 in /usr/local/lib/python3.6/dist-packages (from deeppavlov) (1.3)\n",
            "Requirement already satisfied: overrides==2.7.0 in /usr/local/lib/python3.6/dist-packages (from deeppavlov) (2.7.0)\n",
            "Requirement already satisfied: pymorphy2-dicts-ru in /usr/local/lib/python3.6/dist-packages (from deeppavlov) (2.4.417127.4579844)\n",
            "Requirement already satisfied: Cython==0.29.14 in /usr/local/lib/python3.6/dist-packages (from deeppavlov) (0.29.14)\n",
            "Requirement already satisfied: rusenttokenize==0.0.5 in /usr/local/lib/python3.6/dist-packages (from deeppavlov) (0.0.5)\n",
            "Requirement already satisfied: pytz==2019.1 in /usr/local/lib/python3.6/dist-packages (from deeppavlov) (2019.1)\n",
            "Requirement already satisfied: aio-pika==6.4.1 in /usr/local/lib/python3.6/dist-packages (from deeppavlov) (6.4.1)\n",
            "Requirement already satisfied: ruamel.yaml==0.15.100 in /usr/local/lib/python3.6/dist-packages (from deeppavlov) (0.15.100)\n",
            "Requirement already satisfied: scipy==1.4.1 in /usr/local/lib/python3.6/dist-packages (from deeppavlov) (1.4.1)\n",
            "Requirement already satisfied: nltk==3.4.5 in /usr/local/lib/python3.6/dist-packages (from deeppavlov) (3.4.5)\n",
            "Requirement already satisfied: uvicorn==0.11.7 in /usr/local/lib/python3.6/dist-packages (from deeppavlov) (0.11.7)\n",
            "Requirement already satisfied: sacremoses==0.0.35 in /usr/local/lib/python3.6/dist-packages (from deeppavlov) (0.0.35)\n",
            "Requirement already satisfied: numpy==1.18.0 in /usr/local/lib/python3.6/dist-packages (from deeppavlov) (1.18.0)\n",
            "Requirement already satisfied: tqdm==4.41.1 in /usr/local/lib/python3.6/dist-packages (from deeppavlov) (4.41.1)\n",
            "Requirement already satisfied: h5py==2.10.0 in /usr/local/lib/python3.6/dist-packages (from deeppavlov) (2.10.0)\n",
            "Requirement already satisfied: pytelegrambotapi==3.6.7 in /usr/local/lib/python3.6/dist-packages (from deeppavlov) (3.6.7)\n",
            "Requirement already satisfied: scikit-learn==0.21.2 in /usr/local/lib/python3.6/dist-packages (from deeppavlov) (0.21.2)\n",
            "Requirement already satisfied: pandas==0.25.3 in /usr/local/lib/python3.6/dist-packages (from deeppavlov) (0.25.3)\n",
            "Requirement already satisfied: starlette<=0.12.9,>=0.12.9 in /usr/local/lib/python3.6/dist-packages (from fastapi==0.47.1->deeppavlov) (0.12.9)\n",
            "Requirement already satisfied: idna<2.9,>=2.5 in /usr/local/lib/python3.6/dist-packages (from requests==2.22.0->deeppavlov) (2.8)\n",
            "Requirement already satisfied: chardet<3.1.0,>=3.0.2 in /usr/local/lib/python3.6/dist-packages (from requests==2.22.0->deeppavlov) (3.0.4)\n",
            "Requirement already satisfied: urllib3!=1.25.0,!=1.25.1,<1.26,>=1.21.1 in /usr/local/lib/python3.6/dist-packages (from requests==2.22.0->deeppavlov) (1.24.3)\n",
            "Requirement already satisfied: certifi>=2017.4.17 in /usr/local/lib/python3.6/dist-packages (from requests==2.22.0->deeppavlov) (2020.6.20)\n",
            "Requirement already satisfied: cryptography>=2.8 in /usr/local/lib/python3.6/dist-packages (from pyopenssl==19.1.0->deeppavlov) (3.2.1)\n",
            "Requirement already satisfied: six>=1.5.2 in /usr/local/lib/python3.6/dist-packages (from pyopenssl==19.1.0->deeppavlov) (1.15.0)\n",
            "Requirement already satisfied: pymorphy2-dicts<3.0,>=2.4 in /usr/local/lib/python3.6/dist-packages (from pymorphy2==0.8->deeppavlov) (2.4.393442.3710985)\n",
            "Requirement already satisfied: docopt>=0.6 in /usr/local/lib/python3.6/dist-packages (from pymorphy2==0.8->deeppavlov) (0.6.2)\n",
            "Requirement already satisfied: dawg-python>=0.7 in /usr/local/lib/python3.6/dist-packages (from pymorphy2==0.8->deeppavlov) (0.7.2)\n",
            "Requirement already satisfied: dataclasses>=0.6; python_version < \"3.7\" in /usr/local/lib/python3.6/dist-packages (from pydantic==1.3->deeppavlov) (0.7)\n",
            "Requirement already satisfied: aiormq<4,>=3.2.0 in /usr/local/lib/python3.6/dist-packages (from aio-pika==6.4.1->deeppavlov) (3.3.1)\n",
            "Requirement already satisfied: yarl in /usr/local/lib/python3.6/dist-packages (from aio-pika==6.4.1->deeppavlov) (1.6.3)\n",
            "Requirement already satisfied: uvloop>=0.14.0; sys_platform != \"win32\" and sys_platform != \"cygwin\" and platform_python_implementation != \"PyPy\" in /usr/local/lib/python3.6/dist-packages (from uvicorn==0.11.7->deeppavlov) (0.14.0)\n",
            "Requirement already satisfied: websockets==8.* in /usr/local/lib/python3.6/dist-packages (from uvicorn==0.11.7->deeppavlov) (8.1)\n",
            "Requirement already satisfied: httptools==0.1.*; sys_platform != \"win32\" and sys_platform != \"cygwin\" and platform_python_implementation != \"PyPy\" in /usr/local/lib/python3.6/dist-packages (from uvicorn==0.11.7->deeppavlov) (0.1.1)\n",
            "Requirement already satisfied: h11<0.10,>=0.8 in /usr/local/lib/python3.6/dist-packages (from uvicorn==0.11.7->deeppavlov) (0.9.0)\n",
            "Requirement already satisfied: joblib in /usr/local/lib/python3.6/dist-packages (from sacremoses==0.0.35->deeppavlov) (0.17.0)\n",
            "Requirement already satisfied: python-dateutil>=2.6.1 in /usr/local/lib/python3.6/dist-packages (from pandas==0.25.3->deeppavlov) (2.8.1)\n",
            "Requirement already satisfied: cffi!=1.11.3,>=1.8 in /usr/local/lib/python3.6/dist-packages (from cryptography>=2.8->pyopenssl==19.1.0->deeppavlov) (1.14.3)\n",
            "Requirement already satisfied: pamqp==2.3.0 in /usr/local/lib/python3.6/dist-packages (from aiormq<4,>=3.2.0->aio-pika==6.4.1->deeppavlov) (2.3.0)\n",
            "Requirement already satisfied: multidict>=4.0 in /usr/local/lib/python3.6/dist-packages (from yarl->aio-pika==6.4.1->deeppavlov) (5.0.2)\n",
            "Requirement already satisfied: typing-extensions>=3.7.4; python_version < \"3.8\" in /usr/local/lib/python3.6/dist-packages (from yarl->aio-pika==6.4.1->deeppavlov) (3.7.4.3)\n",
            "Requirement already satisfied: pycparser in /usr/local/lib/python3.6/dist-packages (from cffi!=1.11.3,>=1.8->cryptography>=2.8->pyopenssl==19.1.0->deeppavlov) (2.20)\n",
            "2020-11-19 20:04:42.398 INFO in 'deeppavlov.core.common.file'['file'] at line 32: Interpreting 'ner_ontonotes' as '/usr/local/lib/python3.6/dist-packages/deeppavlov/configs/ner/ner_ontonotes.json'\n",
            "Requirement already satisfied: gensim==3.8.1 in /usr/local/lib/python3.6/dist-packages (3.8.1)\n",
            "Requirement already satisfied: six>=1.5.0 in /usr/local/lib/python3.6/dist-packages (from gensim==3.8.1) (1.15.0)\n",
            "Requirement already satisfied: smart-open>=1.8.1 in /usr/local/lib/python3.6/dist-packages (from gensim==3.8.1) (3.0.0)\n",
            "Requirement already satisfied: numpy>=1.11.3 in /usr/local/lib/python3.6/dist-packages (from gensim==3.8.1) (1.18.0)\n",
            "Requirement already satisfied: scipy>=0.18.1 in /usr/local/lib/python3.6/dist-packages (from gensim==3.8.1) (1.4.1)\n",
            "Requirement already satisfied: requests in /usr/local/lib/python3.6/dist-packages (from smart-open>=1.8.1->gensim==3.8.1) (2.22.0)\n",
            "Requirement already satisfied: chardet<3.1.0,>=3.0.2 in /usr/local/lib/python3.6/dist-packages (from requests->smart-open>=1.8.1->gensim==3.8.1) (3.0.4)\n",
            "Requirement already satisfied: idna<2.9,>=2.5 in /usr/local/lib/python3.6/dist-packages (from requests->smart-open>=1.8.1->gensim==3.8.1) (2.8)\n",
            "Requirement already satisfied: urllib3!=1.25.0,!=1.25.1,<1.26,>=1.21.1 in /usr/local/lib/python3.6/dist-packages (from requests->smart-open>=1.8.1->gensim==3.8.1) (1.24.3)\n",
            "Requirement already satisfied: certifi>=2017.4.17 in /usr/local/lib/python3.6/dist-packages (from requests->smart-open>=1.8.1->gensim==3.8.1) (2020.6.20)\n",
            "Requirement already satisfied: tensorflow==1.15.2 in /usr/local/lib/python3.6/dist-packages (1.15.2)\n",
            "Requirement already satisfied: numpy<2.0,>=1.16.0 in /usr/local/lib/python3.6/dist-packages (from tensorflow==1.15.2) (1.18.0)\n",
            "Requirement already satisfied: absl-py>=0.7.0 in /usr/local/lib/python3.6/dist-packages (from tensorflow==1.15.2) (0.10.0)\n",
            "Requirement already satisfied: six>=1.10.0 in /usr/local/lib/python3.6/dist-packages (from tensorflow==1.15.2) (1.15.0)\n",
            "Requirement already satisfied: opt-einsum>=2.3.2 in /usr/local/lib/python3.6/dist-packages (from tensorflow==1.15.2) (3.3.0)\n",
            "Requirement already satisfied: tensorboard<1.16.0,>=1.15.0 in /usr/local/lib/python3.6/dist-packages (from tensorflow==1.15.2) (1.15.0)\n",
            "Requirement already satisfied: gast==0.2.2 in /usr/local/lib/python3.6/dist-packages (from tensorflow==1.15.2) (0.2.2)\n",
            "Requirement already satisfied: wrapt>=1.11.1 in /usr/local/lib/python3.6/dist-packages (from tensorflow==1.15.2) (1.12.1)\n",
            "Requirement already satisfied: grpcio>=1.8.6 in /usr/local/lib/python3.6/dist-packages (from tensorflow==1.15.2) (1.33.2)\n",
            "Requirement already satisfied: google-pasta>=0.1.6 in /usr/local/lib/python3.6/dist-packages (from tensorflow==1.15.2) (0.2.0)\n",
            "Requirement already satisfied: keras-preprocessing>=1.0.5 in /usr/local/lib/python3.6/dist-packages (from tensorflow==1.15.2) (1.1.2)\n",
            "Requirement already satisfied: tensorflow-estimator==1.15.1 in /usr/local/lib/python3.6/dist-packages (from tensorflow==1.15.2) (1.15.1)\n",
            "Requirement already satisfied: termcolor>=1.1.0 in /usr/local/lib/python3.6/dist-packages (from tensorflow==1.15.2) (1.1.0)\n",
            "Requirement already satisfied: protobuf>=3.6.1 in /usr/local/lib/python3.6/dist-packages (from tensorflow==1.15.2) (3.12.4)\n",
            "Requirement already satisfied: keras-applications>=1.0.8 in /usr/local/lib/python3.6/dist-packages (from tensorflow==1.15.2) (1.0.8)\n",
            "Requirement already satisfied: astor>=0.6.0 in /usr/local/lib/python3.6/dist-packages (from tensorflow==1.15.2) (0.8.1)\n",
            "Requirement already satisfied: wheel>=0.26; python_version >= \"3\" in /usr/local/lib/python3.6/dist-packages (from tensorflow==1.15.2) (0.35.1)\n",
            "Requirement already satisfied: markdown>=2.6.8 in /usr/local/lib/python3.6/dist-packages (from tensorboard<1.16.0,>=1.15.0->tensorflow==1.15.2) (3.3.3)\n",
            "Requirement already satisfied: setuptools>=41.0.0 in /usr/local/lib/python3.6/dist-packages (from tensorboard<1.16.0,>=1.15.0->tensorflow==1.15.2) (50.3.2)\n",
            "Requirement already satisfied: werkzeug>=0.11.15 in /usr/local/lib/python3.6/dist-packages (from tensorboard<1.16.0,>=1.15.0->tensorflow==1.15.2) (1.0.1)\n",
            "Requirement already satisfied: h5py in /usr/local/lib/python3.6/dist-packages (from keras-applications>=1.0.8->tensorflow==1.15.2) (2.10.0)\n",
            "Requirement already satisfied: importlib-metadata; python_version < \"3.8\" in /usr/local/lib/python3.6/dist-packages (from markdown>=2.6.8->tensorboard<1.16.0,>=1.15.0->tensorflow==1.15.2) (2.0.0)\n",
            "Requirement already satisfied: zipp>=0.5 in /usr/local/lib/python3.6/dist-packages (from importlib-metadata; python_version < \"3.8\"->markdown>=2.6.8->tensorboard<1.16.0,>=1.15.0->tensorflow==1.15.2) (3.4.0)\n",
            "2020-11-19 20:04:49.896 INFO in 'deeppavlov.core.common.file'['file'] at line 32: Interpreting 'ner_ontonotes_bert' as '/usr/local/lib/python3.6/dist-packages/deeppavlov/configs/ner/ner_ontonotes_bert.json'\n",
            "Collecting git+https://github.com/deepmipt/bert.git@feat/multi_gpu\n",
            "  Cloning https://github.com/deepmipt/bert.git (to revision feat/multi_gpu) to /tmp/pip-req-build-ovp3i_g1\n",
            "  Running command git clone -q https://github.com/deepmipt/bert.git /tmp/pip-req-build-ovp3i_g1\n",
            "Requirement already satisfied (use --upgrade to upgrade): bert-dp==1.0 from git+https://github.com/deepmipt/bert.git@feat/multi_gpu in /usr/local/lib/python3.6/dist-packages\n",
            "Building wheels for collected packages: bert-dp\n",
            "  Building wheel for bert-dp (setup.py) ... \u001b[?25l\u001b[?25hdone\n",
            "  Created wheel for bert-dp: filename=bert_dp-1.0-cp36-none-any.whl size=23581 sha256=29f448dc45b4e98c7672865ce2695d1d1ecc91462b8c14d888cc6baa43e18fa2\n",
            "  Stored in directory: /tmp/pip-ephem-wheel-cache-hwq1imay/wheels/1e/41/94/886107eaf932532594886fd8bfc9cb9d4db632e94add49d326\n",
            "Successfully built bert-dp\n",
            "Requirement already satisfied: tensorflow==1.15.2 in /usr/local/lib/python3.6/dist-packages (1.15.2)\n",
            "Requirement already satisfied: keras-preprocessing>=1.0.5 in /usr/local/lib/python3.6/dist-packages (from tensorflow==1.15.2) (1.1.2)\n",
            "Requirement already satisfied: grpcio>=1.8.6 in /usr/local/lib/python3.6/dist-packages (from tensorflow==1.15.2) (1.33.2)\n",
            "Requirement already satisfied: keras-applications>=1.0.8 in /usr/local/lib/python3.6/dist-packages (from tensorflow==1.15.2) (1.0.8)\n",
            "Requirement already satisfied: absl-py>=0.7.0 in /usr/local/lib/python3.6/dist-packages (from tensorflow==1.15.2) (0.10.0)\n",
            "Requirement already satisfied: astor>=0.6.0 in /usr/local/lib/python3.6/dist-packages (from tensorflow==1.15.2) (0.8.1)\n",
            "Requirement already satisfied: termcolor>=1.1.0 in /usr/local/lib/python3.6/dist-packages (from tensorflow==1.15.2) (1.1.0)\n",
            "Requirement already satisfied: tensorflow-estimator==1.15.1 in /usr/local/lib/python3.6/dist-packages (from tensorflow==1.15.2) (1.15.1)\n",
            "Requirement already satisfied: wrapt>=1.11.1 in /usr/local/lib/python3.6/dist-packages (from tensorflow==1.15.2) (1.12.1)\n",
            "Requirement already satisfied: google-pasta>=0.1.6 in /usr/local/lib/python3.6/dist-packages (from tensorflow==1.15.2) (0.2.0)\n",
            "Requirement already satisfied: wheel>=0.26; python_version >= \"3\" in /usr/local/lib/python3.6/dist-packages (from tensorflow==1.15.2) (0.35.1)\n",
            "Requirement already satisfied: gast==0.2.2 in /usr/local/lib/python3.6/dist-packages (from tensorflow==1.15.2) (0.2.2)\n",
            "Requirement already satisfied: tensorboard<1.16.0,>=1.15.0 in /usr/local/lib/python3.6/dist-packages (from tensorflow==1.15.2) (1.15.0)\n",
            "Requirement already satisfied: numpy<2.0,>=1.16.0 in /usr/local/lib/python3.6/dist-packages (from tensorflow==1.15.2) (1.18.0)\n",
            "Requirement already satisfied: six>=1.10.0 in /usr/local/lib/python3.6/dist-packages (from tensorflow==1.15.2) (1.15.0)\n",
            "Requirement already satisfied: protobuf>=3.6.1 in /usr/local/lib/python3.6/dist-packages (from tensorflow==1.15.2) (3.12.4)\n",
            "Requirement already satisfied: opt-einsum>=2.3.2 in /usr/local/lib/python3.6/dist-packages (from tensorflow==1.15.2) (3.3.0)\n",
            "Requirement already satisfied: h5py in /usr/local/lib/python3.6/dist-packages (from keras-applications>=1.0.8->tensorflow==1.15.2) (2.10.0)\n",
            "Requirement already satisfied: setuptools>=41.0.0 in /usr/local/lib/python3.6/dist-packages (from tensorboard<1.16.0,>=1.15.0->tensorflow==1.15.2) (50.3.2)\n",
            "Requirement already satisfied: markdown>=2.6.8 in /usr/local/lib/python3.6/dist-packages (from tensorboard<1.16.0,>=1.15.0->tensorflow==1.15.2) (3.3.3)\n",
            "Requirement already satisfied: werkzeug>=0.11.15 in /usr/local/lib/python3.6/dist-packages (from tensorboard<1.16.0,>=1.15.0->tensorflow==1.15.2) (1.0.1)\n",
            "Requirement already satisfied: importlib-metadata; python_version < \"3.8\" in /usr/local/lib/python3.6/dist-packages (from markdown>=2.6.8->tensorboard<1.16.0,>=1.15.0->tensorflow==1.15.2) (2.0.0)\n",
            "Requirement already satisfied: zipp>=0.5 in /usr/local/lib/python3.6/dist-packages (from importlib-metadata; python_version < \"3.8\"->markdown>=2.6.8->tensorboard<1.16.0,>=1.15.0->tensorflow==1.15.2) (3.4.0)\n"
          ],
          "name": "stdout"
        }
      ]
    },
    {
      "cell_type": "code",
      "metadata": {
        "colab": {
          "base_uri": "https://localhost:8080/",
          "height": 1000
        },
        "id": "os8ll8GNAO0V",
        "outputId": "b6af574c-535c-42b0-fb78-7020c10ff05e"
      },
      "source": [
        "from deeppavlov import configs, build_model\n",
        "\n",
        "ner_model = build_model(configs.ner.ner_rus_bert, download=True)\n",
        "result = ner_model([TEXT])\n",
        "for i in range(len(result[0][0])):\n",
        "     if result [1][0][i] != 'O':\n",
        "        print(result[0][0][i], result[1][0][i])"
      ],
      "execution_count": 1,
      "outputs": [
        {
          "output_type": "stream",
          "text": [
            "2020-11-19 20:10:11.302 INFO in 'deeppavlov.download'['download'] at line 138: Skipped http://files.deeppavlov.ai/deeppavlov_data/bert/rubert_cased_L-12_H-768_A-12_v1.tar.gz download because of matching hashes\n",
            "2020-11-19 20:10:38.241 INFO in 'deeppavlov.download'['download'] at line 138: Skipped http://files.deeppavlov.ai/deeppavlov_data/ner_rus_bert_v1.tar.gz download because of matching hashes\n",
            "[nltk_data] Downloading package punkt to /root/nltk_data...\n",
            "[nltk_data]   Package punkt is already up-to-date!\n",
            "[nltk_data] Downloading package stopwords to /root/nltk_data...\n",
            "[nltk_data]   Package stopwords is already up-to-date!\n",
            "[nltk_data] Downloading package perluniprops to /root/nltk_data...\n",
            "[nltk_data]   Package perluniprops is already up-to-date!\n",
            "[nltk_data] Downloading package nonbreaking_prefixes to\n",
            "[nltk_data]     /root/nltk_data...\n",
            "[nltk_data]   Package nonbreaking_prefixes is already up-to-date!\n"
          ],
          "name": "stderr"
        },
        {
          "output_type": "stream",
          "text": [
            "WARNING:tensorflow:From /usr/local/lib/python3.6/dist-packages/bert_dp/tokenization.py:125: The name tf.gfile.GFile is deprecated. Please use tf.io.gfile.GFile instead.\n",
            "\n"
          ],
          "name": "stdout"
        },
        {
          "output_type": "stream",
          "text": [
            "2020-11-19 20:10:45.631 INFO in 'deeppavlov.core.data.simple_vocab'['simple_vocab'] at line 115: [loading vocabulary from /root/.deeppavlov/models/ner_rus_bert/tag.dict]\n"
          ],
          "name": "stderr"
        },
        {
          "output_type": "stream",
          "text": [
            "WARNING:tensorflow:From /usr/local/lib/python3.6/dist-packages/deeppavlov/core/models/tf_model.py:37: The name tf.Session is deprecated. Please use tf.compat.v1.Session instead.\n",
            "\n",
            "WARNING:tensorflow:From /usr/local/lib/python3.6/dist-packages/deeppavlov/core/models/tf_model.py:222: The name tf.placeholder is deprecated. Please use tf.compat.v1.placeholder instead.\n",
            "\n",
            "WARNING:tensorflow:From /usr/local/lib/python3.6/dist-packages/deeppavlov/core/models/tf_model.py:222: The name tf.train.Optimizer is deprecated. Please use tf.compat.v1.train.Optimizer instead.\n",
            "\n",
            "WARNING:tensorflow:From /usr/local/lib/python3.6/dist-packages/deeppavlov/core/models/tf_model.py:193: The name tf.train.AdamOptimizer is deprecated. Please use tf.compat.v1.train.AdamOptimizer instead.\n",
            "\n",
            "WARNING:tensorflow:From /usr/local/lib/python3.6/dist-packages/deeppavlov/models/bert/bert_sequence_tagger.py:236: The name tf.ConfigProto is deprecated. Please use tf.compat.v1.ConfigProto instead.\n",
            "\n",
            "WARNING:tensorflow:From /usr/local/lib/python3.6/dist-packages/deeppavlov/models/bert/bert_sequence_tagger.py:314: The name tf.placeholder_with_default is deprecated. Please use tf.compat.v1.placeholder_with_default instead.\n",
            "\n",
            "WARNING:tensorflow:From /usr/local/lib/python3.6/dist-packages/bert_dp/modeling.py:178: The name tf.variable_scope is deprecated. Please use tf.compat.v1.variable_scope instead.\n",
            "\n",
            "WARNING:tensorflow:From /usr/local/lib/python3.6/dist-packages/bert_dp/modeling.py:418: The name tf.get_variable is deprecated. Please use tf.compat.v1.get_variable instead.\n",
            "\n",
            "WARNING:tensorflow:From /usr/local/lib/python3.6/dist-packages/bert_dp/modeling.py:499: The name tf.assert_less_equal is deprecated. Please use tf.compat.v1.assert_less_equal instead.\n",
            "\n",
            "WARNING:tensorflow:\n",
            "The TensorFlow contrib module will not be included in TensorFlow 2.0.\n",
            "For more information, please see:\n",
            "  * https://github.com/tensorflow/community/blob/master/rfcs/20180907-contrib-sunset.md\n",
            "  * https://github.com/tensorflow/addons\n",
            "  * https://github.com/tensorflow/io (for I/O related ops)\n",
            "If you depend on functionality not listed there, please file an issue.\n",
            "\n",
            "WARNING:tensorflow:From /usr/local/lib/python3.6/dist-packages/bert_dp/modeling.py:366: calling dropout (from tensorflow.python.ops.nn_ops) with keep_prob is deprecated and will be removed in a future version.\n",
            "Instructions for updating:\n",
            "Please use `rate` instead of `keep_prob`. Rate should be set to `rate = 1 - keep_prob`.\n",
            "WARNING:tensorflow:From /usr/local/lib/python3.6/dist-packages/bert_dp/modeling.py:680: dense (from tensorflow.python.layers.core) is deprecated and will be removed in a future version.\n",
            "Instructions for updating:\n",
            "Use keras.layers.Dense instead.\n",
            "WARNING:tensorflow:From /usr/local/lib/python3.6/dist-packages/tensorflow_core/python/layers/core.py:187: Layer.apply (from tensorflow.python.keras.engine.base_layer) is deprecated and will be removed in a future version.\n",
            "Instructions for updating:\n",
            "Please use `layer.__call__` method instead.\n",
            "WARNING:tensorflow:From /usr/local/lib/python3.6/dist-packages/bert_dp/modeling.py:283: The name tf.erf is deprecated. Please use tf.math.erf instead.\n",
            "\n",
            "WARNING:tensorflow:Variable *= will be deprecated. Use `var.assign(var * other)` if you want assignment to the variable value or `x = x * y` if you want a new python Tensor object.\n",
            "WARNING:tensorflow:From /usr/local/lib/python3.6/dist-packages/deeppavlov/models/bert/bert_sequence_tagger.py:75: where (from tensorflow.python.ops.array_ops) is deprecated and will be removed in a future version.\n",
            "Instructions for updating:\n",
            "Use tf.where in 2.0, which has the same broadcast rule as np.where\n",
            "WARNING:tensorflow:From /usr/local/lib/python3.6/dist-packages/tensorflow_core/contrib/crf/python/ops/crf.py:213: dynamic_rnn (from tensorflow.python.ops.rnn) is deprecated and will be removed in a future version.\n",
            "Instructions for updating:\n",
            "Please use `keras.layers.RNN(cell)`, which is equivalent to this API\n",
            "WARNING:tensorflow:From /usr/local/lib/python3.6/dist-packages/deeppavlov/core/models/tf_model.py:131: The name tf.get_collection is deprecated. Please use tf.compat.v1.get_collection instead.\n",
            "\n",
            "WARNING:tensorflow:From /usr/local/lib/python3.6/dist-packages/deeppavlov/core/models/tf_model.py:131: The name tf.GraphKeys is deprecated. Please use tf.compat.v1.GraphKeys instead.\n",
            "\n",
            "WARNING:tensorflow:From /usr/local/lib/python3.6/dist-packages/deeppavlov/core/models/tf_model.py:94: The name tf.global_variables is deprecated. Please use tf.compat.v1.global_variables instead.\n",
            "\n",
            "WARNING:tensorflow:From /usr/local/lib/python3.6/dist-packages/tensorflow_core/python/training/moving_averages.py:433: Variable.initialized_value (from tensorflow.python.ops.variables) is deprecated and will be removed in a future version.\n",
            "Instructions for updating:\n",
            "Use Variable.read_value. Variables in 2.X are initialized automatically both in eager and graph (inside tf.defun) contexts.\n",
            "WARNING:tensorflow:From /usr/local/lib/python3.6/dist-packages/deeppavlov/models/bert/bert_sequence_tagger.py:671: The name tf.assign is deprecated. Please use tf.compat.v1.assign instead.\n",
            "\n",
            "WARNING:tensorflow:From /usr/local/lib/python3.6/dist-packages/deeppavlov/models/bert/bert_sequence_tagger.py:244: The name tf.global_variables_initializer is deprecated. Please use tf.compat.v1.global_variables_initializer instead.\n",
            "\n",
            "WARNING:tensorflow:From /usr/local/lib/python3.6/dist-packages/deeppavlov/models/bert/bert_sequence_tagger.py:249: checkpoint_exists (from tensorflow.python.training.checkpoint_management) is deprecated and will be removed in a future version.\n",
            "Instructions for updating:\n",
            "Use standard file APIs to check for files with this prefix.\n"
          ],
          "name": "stdout"
        },
        {
          "output_type": "stream",
          "text": [
            "2020-11-19 20:11:16.343 INFO in 'deeppavlov.core.models.tf_model'['tf_model'] at line 51: [loading model from /root/.deeppavlov/models/ner_rus_bert/model]\n"
          ],
          "name": "stderr"
        },
        {
          "output_type": "stream",
          "text": [
            "WARNING:tensorflow:From /usr/local/lib/python3.6/dist-packages/deeppavlov/core/models/tf_model.py:54: The name tf.train.Saver is deprecated. Please use tf.compat.v1.train.Saver instead.\n",
            "\n",
            "INFO:tensorflow:Restoring parameters from /root/.deeppavlov/models/ner_rus_bert/model\n"
          ],
          "name": "stdout"
        },
        {
          "output_type": "error",
          "ename": "NameError",
          "evalue": "ignored",
          "traceback": [
            "\u001b[0;31m---------------------------------------------------------------------------\u001b[0m",
            "\u001b[0;31mNameError\u001b[0m                                 Traceback (most recent call last)",
            "\u001b[0;32m<ipython-input-1-3448982d526c>\u001b[0m in \u001b[0;36m<module>\u001b[0;34m()\u001b[0m\n\u001b[1;32m      2\u001b[0m \u001b[0;34m\u001b[0m\u001b[0m\n\u001b[1;32m      3\u001b[0m \u001b[0mner_model\u001b[0m \u001b[0;34m=\u001b[0m \u001b[0mbuild_model\u001b[0m\u001b[0;34m(\u001b[0m\u001b[0mconfigs\u001b[0m\u001b[0;34m.\u001b[0m\u001b[0mner\u001b[0m\u001b[0;34m.\u001b[0m\u001b[0mner_rus_bert\u001b[0m\u001b[0;34m,\u001b[0m \u001b[0mdownload\u001b[0m\u001b[0;34m=\u001b[0m\u001b[0;32mTrue\u001b[0m\u001b[0;34m)\u001b[0m\u001b[0;34m\u001b[0m\u001b[0;34m\u001b[0m\u001b[0m\n\u001b[0;32m----> 4\u001b[0;31m \u001b[0mresult\u001b[0m \u001b[0;34m=\u001b[0m \u001b[0mner_model\u001b[0m\u001b[0;34m(\u001b[0m\u001b[0;34m[\u001b[0m\u001b[0mTEXT\u001b[0m\u001b[0;34m]\u001b[0m\u001b[0;34m)\u001b[0m\u001b[0;34m\u001b[0m\u001b[0;34m\u001b[0m\u001b[0m\n\u001b[0m\u001b[1;32m      5\u001b[0m \u001b[0;32mfor\u001b[0m \u001b[0mi\u001b[0m \u001b[0;32min\u001b[0m \u001b[0mrange\u001b[0m\u001b[0;34m(\u001b[0m\u001b[0mlen\u001b[0m\u001b[0;34m(\u001b[0m\u001b[0mresult\u001b[0m\u001b[0;34m[\u001b[0m\u001b[0;36m0\u001b[0m\u001b[0;34m]\u001b[0m\u001b[0;34m[\u001b[0m\u001b[0;36m0\u001b[0m\u001b[0;34m]\u001b[0m\u001b[0;34m)\u001b[0m\u001b[0;34m)\u001b[0m\u001b[0;34m:\u001b[0m\u001b[0;34m\u001b[0m\u001b[0;34m\u001b[0m\u001b[0m\n\u001b[1;32m      6\u001b[0m      \u001b[0;32mif\u001b[0m \u001b[0mresult\u001b[0m \u001b[0;34m[\u001b[0m\u001b[0;36m1\u001b[0m\u001b[0;34m]\u001b[0m\u001b[0;34m[\u001b[0m\u001b[0;36m0\u001b[0m\u001b[0;34m]\u001b[0m\u001b[0;34m[\u001b[0m\u001b[0mi\u001b[0m\u001b[0;34m]\u001b[0m \u001b[0;34m!=\u001b[0m \u001b[0;34m'O'\u001b[0m\u001b[0;34m:\u001b[0m\u001b[0;34m\u001b[0m\u001b[0;34m\u001b[0m\u001b[0m\n",
            "\u001b[0;31mNameError\u001b[0m: name 'TEXT' is not defined"
          ]
        }
      ]
    },
    {
      "cell_type": "code",
      "metadata": {
        "colab": {
          "base_uri": "https://localhost:8080/"
        },
        "id": "44u6tZh6ItYw",
        "outputId": "0ce03539-9204-4bed-955a-92e50f52aa08"
      },
      "source": [
        "result = ner_model([TEXT])\n",
        "for i in range(len(result[0][0])):\n",
        "     if result [1][0][i] != 'O':\n",
        "        print(result[0][0][i], result[1][0][i])"
      ],
      "execution_count": 7,
      "outputs": [
        {
          "output_type": "stream",
          "text": [
            "Василия B-PER\n",
            "Ивановича I-PER\n",
            "Руси B-LOC\n",
            "Московского B-LOC\n",
            "Новгородского B-LOC\n",
            "Смоленского B-LOC\n",
            "Болгарского B-LOC\n",
            "Низовской B-LOC\n",
            "земли I-LOC\n",
            "Черниговского B-LOC\n",
            "Рязанского B-LOC\n",
            "Ростовского B-LOC\n",
            "Ярославского B-LOC\n",
            "Белозерского B-LOC\n",
            "Удорского B-LOC\n",
            "Обдорского B-LOC\n",
            "Кондийского B-LOC\n",
            "Северной B-LOC\n",
            "страны I-LOC\n",
            "Северской B-LOC\n",
            "земли I-LOC\n",
            "Карталинских B-LOC\n",
            "Грузинских B-LOC\n",
            "Кабардинской B-LOC\n",
            "земли I-LOC\n",
            "Черкасских B-LOC\n",
            "Горских B-LOC\n",
            "Князей I-LOC\n",
            "Смоленского B-LOC\n",
            "Михаила B-PER\n",
            "Борисовича I-PER\n",
            "Шеина I-PER\n",
            "Оршу B-LOC\n",
            "Оршанскому B-LOC\n",
            "Андрею B-PER\n",
            "Ивановичу I-PER\n",
            "Сапеге I-PER\n",
            "Павликом B-PER\n",
            "Полежоным I-PER\n",
            "Сигизмунд B-PER\n",
            "Оршу B-LOC\n",
            "Смоленской B-LOC\n",
            "Василия B-PER\n",
            "Ивановича I-PER\n",
            "Русии B-LOC\n",
            "Москве B-LOC\n",
            "Николай B-PER\n",
            "Олесницкий I-PER\n",
            "Александр B-PER\n",
            "Гонсевский I-PER\n",
            "Станислав B-PER\n",
            "Витовский I-PER\n",
            "Ян B-PER\n",
            "Соколинский I-PER\n"
          ],
          "name": "stdout"
        }
      ]
    },
    {
      "cell_type": "markdown",
      "metadata": {
        "id": "97OApko4AO0d"
      },
      "source": [
        "## Accuracy \n",
        "\n"
      ]
    },
    {
      "cell_type": "code",
      "metadata": {
        "id": "KVClStIOAO0d"
      },
      "source": [
        ""
      ],
      "execution_count": null,
      "outputs": []
    },
    {
      "cell_type": "code",
      "metadata": {
        "id": "Mz96wUOHAO0d"
      },
      "source": [
        ""
      ],
      "execution_count": null,
      "outputs": []
    },
    {
      "cell_type": "code",
      "metadata": {
        "scrolled": false,
        "id": "J9GUKkV9AO0e"
      },
      "source": [
        ""
      ],
      "execution_count": null,
      "outputs": []
    },
    {
      "cell_type": "markdown",
      "metadata": {
        "id": "tUaycTLEAO0e"
      },
      "source": [
        "## Итоги"
      ]
    },
    {
      "cell_type": "markdown",
      "metadata": {
        "id": "LUDzAebcAO0f"
      },
      "source": [
        ""
      ]
    }
  ]
}